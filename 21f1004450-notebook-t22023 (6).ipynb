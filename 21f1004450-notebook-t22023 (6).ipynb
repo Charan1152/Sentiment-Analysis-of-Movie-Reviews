{
 "cells": [
  {
   "cell_type": "markdown",
   "id": "5b87fe24",
   "metadata": {
    "papermill": {
     "duration": 0.026658,
     "end_time": "2023-08-13T18:21:38.934842",
     "exception": false,
     "start_time": "2023-08-13T18:21:38.908184",
     "status": "completed"
    },
    "tags": []
   },
   "source": [
    "# **Sentiment Prediction of Movie Reviews using Machine Learning**\n",
    "- Python, Scikit-Learn API\n",
    "- Numpy, Pandas, Scipy"
   ]
  },
  {
   "cell_type": "markdown",
   "id": "9e687227",
   "metadata": {
    "papermill": {
     "duration": 0.025628,
     "end_time": "2023-08-13T18:21:38.986575",
     "exception": false,
     "start_time": "2023-08-13T18:21:38.960947",
     "status": "completed"
    },
    "tags": []
   },
   "source": [
    "## Loading the Datasets"
   ]
  },
  {
   "cell_type": "code",
   "execution_count": 1,
   "id": "9541c58f",
   "metadata": {
    "execution": {
     "iopub.execute_input": "2023-08-13T18:21:39.043315Z",
     "iopub.status.busy": "2023-08-13T18:21:39.042887Z",
     "iopub.status.idle": "2023-08-13T18:21:41.349434Z",
     "shell.execute_reply": "2023-08-13T18:21:41.348169Z"
    },
    "papermill": {
     "duration": 2.337617,
     "end_time": "2023-08-13T18:21:41.352553",
     "exception": false,
     "start_time": "2023-08-13T18:21:39.014936",
     "status": "completed"
    },
    "tags": []
   },
   "outputs": [],
   "source": [
    "import numpy as np \n",
    "import pandas as pd\n",
    "import xgboost as xgb\n",
    "import warnings\n",
    "warnings.filterwarnings(\"ignore\")\n",
    "import seaborn as sns\n",
    "import re\n",
    "import matplotlib.pyplot as plt\n",
    "import seaborn as sns\n",
    "from sklearn.model_selection import GridSearchCV, RandomizedSearchCV\n",
    "from sklearn.metrics import classification_report, f1_score"
   ]
  },
  {
   "cell_type": "code",
   "execution_count": 2,
   "id": "14de2f29",
   "metadata": {
    "_cell_guid": "b1076dfc-b9ad-4769-8c92-a6c4dae69d19",
    "_uuid": "8f2839f25d086af736a60e9eeb907d3b93b6e0e5",
    "execution": {
     "iopub.execute_input": "2023-08-13T18:21:41.407970Z",
     "iopub.status.busy": "2023-08-13T18:21:41.406928Z",
     "iopub.status.idle": "2023-08-13T18:21:41.414862Z",
     "shell.execute_reply": "2023-08-13T18:21:41.413820Z"
    },
    "papermill": {
     "duration": 0.037958,
     "end_time": "2023-08-13T18:21:41.417427",
     "exception": false,
     "start_time": "2023-08-13T18:21:41.379469",
     "status": "completed"
    },
    "tags": []
   },
   "outputs": [
    {
     "name": "stdout",
     "output_type": "stream",
     "text": [
      "/kaggle/input/sentiment-prediction-on-movie-reviews/movies.csv\n",
      "/kaggle/input/sentiment-prediction-on-movie-reviews/sample.csv\n",
      "/kaggle/input/sentiment-prediction-on-movie-reviews/train.csv\n",
      "/kaggle/input/sentiment-prediction-on-movie-reviews/test.csv\n"
     ]
    }
   ],
   "source": [
    "import os\n",
    "for dirname, _, filenames in os.walk('/kaggle/input'):\n",
    "    for filename in filenames:\n",
    "        print(os.path.join(dirname, filename))\n",
    "# You can write up to 20GB to the current directory (/kaggle/working/) that gets preserved as output when you create a version using \"Save & Run All\" \n",
    "# You can also write temporary files to /kaggle/temp/, but they won't be saved outside of the current session"
   ]
  },
  {
   "cell_type": "code",
   "execution_count": 3,
   "id": "9d8dc460",
   "metadata": {
    "execution": {
     "iopub.execute_input": "2023-08-13T18:21:41.473164Z",
     "iopub.status.busy": "2023-08-13T18:21:41.472468Z",
     "iopub.status.idle": "2023-08-13T18:21:43.879562Z",
     "shell.execute_reply": "2023-08-13T18:21:43.878106Z"
    },
    "papermill": {
     "duration": 2.438952,
     "end_time": "2023-08-13T18:21:43.882539",
     "exception": false,
     "start_time": "2023-08-13T18:21:41.443587",
     "status": "completed"
    },
    "tags": []
   },
   "outputs": [],
   "source": [
    "def load_data():\n",
    "    global train, test, movies\n",
    "    train = pd.read_csv(\"/kaggle/input/sentiment-prediction-on-movie-reviews/train.csv\")\n",
    "    test = pd.read_csv(\"/kaggle/input/sentiment-prediction-on-movie-reviews/test.csv\")\n",
    "    movies = pd.read_csv(\"/kaggle/input/sentiment-prediction-on-movie-reviews/movies.csv\")\n",
    "load_data()"
   ]
  },
  {
   "cell_type": "markdown",
   "id": "ddc59c9a",
   "metadata": {
    "papermill": {
     "duration": 0.025816,
     "end_time": "2023-08-13T18:21:43.936003",
     "exception": false,
     "start_time": "2023-08-13T18:21:43.910187",
     "status": "completed"
    },
    "tags": []
   },
   "source": [
    "## EDA"
   ]
  },
  {
   "cell_type": "code",
   "execution_count": 4,
   "id": "8e86c216",
   "metadata": {
    "execution": {
     "iopub.execute_input": "2023-08-13T18:21:43.991174Z",
     "iopub.status.busy": "2023-08-13T18:21:43.990780Z",
     "iopub.status.idle": "2023-08-13T18:21:44.042167Z",
     "shell.execute_reply": "2023-08-13T18:21:44.041279Z"
    },
    "papermill": {
     "duration": 0.081599,
     "end_time": "2023-08-13T18:21:44.044630",
     "exception": false,
     "start_time": "2023-08-13T18:21:43.963031",
     "status": "completed"
    },
    "tags": []
   },
   "outputs": [
    {
     "data": {
      "text/html": [
       "<div>\n",
       "<style scoped>\n",
       "    .dataframe tbody tr th:only-of-type {\n",
       "        vertical-align: middle;\n",
       "    }\n",
       "\n",
       "    .dataframe tbody tr th {\n",
       "        vertical-align: top;\n",
       "    }\n",
       "\n",
       "    .dataframe thead th {\n",
       "        text-align: right;\n",
       "    }\n",
       "</style>\n",
       "<table border=\"1\" class=\"dataframe\">\n",
       "  <thead>\n",
       "    <tr style=\"text-align: right;\">\n",
       "      <th></th>\n",
       "      <th>movieid</th>\n",
       "      <th>reviewerName</th>\n",
       "      <th>isFrequentReviewer</th>\n",
       "      <th>reviewText</th>\n",
       "      <th>sentiment</th>\n",
       "    </tr>\n",
       "  </thead>\n",
       "  <tbody>\n",
       "    <tr>\n",
       "      <th>0</th>\n",
       "      <td>marvelous_pirate</td>\n",
       "      <td>Benjamin Henry</td>\n",
       "      <td>False</td>\n",
       "      <td>Henry Selick’s first movie since 2009’s Corali...</td>\n",
       "      <td>POSITIVE</td>\n",
       "    </tr>\n",
       "    <tr>\n",
       "      <th>1</th>\n",
       "      <td>tony_montana_frodo_baggins_v_rocky_balboa</td>\n",
       "      <td>Felicia Lopez</td>\n",
       "      <td>False</td>\n",
       "      <td>With a cast that reads like the Vogue Oscar pa...</td>\n",
       "      <td>NEGATIVE</td>\n",
       "    </tr>\n",
       "    <tr>\n",
       "      <th>2</th>\n",
       "      <td>darth_vader_katniss_everdeen_sorcerer_donnie_d...</td>\n",
       "      <td>Mr. Charles Burgess</td>\n",
       "      <td>True</td>\n",
       "      <td>Creed II does not give us anything but another...</td>\n",
       "      <td>POSITIVE</td>\n",
       "    </tr>\n",
       "    <tr>\n",
       "      <th>3</th>\n",
       "      <td>lara_croft_glimmer</td>\n",
       "      <td>Ryan Barrett</td>\n",
       "      <td>False</td>\n",
       "      <td>I know what you're thinking, but this is no Li...</td>\n",
       "      <td>POSITIVE</td>\n",
       "    </tr>\n",
       "    <tr>\n",
       "      <th>4</th>\n",
       "      <td>jason_bourne_surreal_the_terminator_indiana_jones</td>\n",
       "      <td>Alexander Glover</td>\n",
       "      <td>False</td>\n",
       "      <td>Director Fernando Meirelles tells the story wi...</td>\n",
       "      <td>POSITIVE</td>\n",
       "    </tr>\n",
       "    <tr>\n",
       "      <th>...</th>\n",
       "      <td>...</td>\n",
       "      <td>...</td>\n",
       "      <td>...</td>\n",
       "      <td>...</td>\n",
       "      <td>...</td>\n",
       "    </tr>\n",
       "    <tr>\n",
       "      <th>162753</th>\n",
       "      <td>the_joker_ethereal_captain_jack_sparrow_fantastic</td>\n",
       "      <td>Danny Mueller</td>\n",
       "      <td>False</td>\n",
       "      <td>A top-notch thriller with genuine surprises an...</td>\n",
       "      <td>POSITIVE</td>\n",
       "    </tr>\n",
       "    <tr>\n",
       "      <th>162754</th>\n",
       "      <td>e.t._hannibal_lecter_vito_corleone_katniss_eve...</td>\n",
       "      <td>Jennifer Clayton</td>\n",
       "      <td>True</td>\n",
       "      <td>Some people find Derek Zoolander funny and lik...</td>\n",
       "      <td>NEGATIVE</td>\n",
       "    </tr>\n",
       "    <tr>\n",
       "      <th>162755</th>\n",
       "      <td>infinite_enigma_luke_skywalker</td>\n",
       "      <td>Bryan Wilson</td>\n",
       "      <td>False</td>\n",
       "      <td>This fun, gentle comedy focuses mainly on them...</td>\n",
       "      <td>POSITIVE</td>\n",
       "    </tr>\n",
       "    <tr>\n",
       "      <th>162756</th>\n",
       "      <td>emerald_oracle_iron_man_wolverine</td>\n",
       "      <td>Erik Parker</td>\n",
       "      <td>False</td>\n",
       "      <td>The film is rescued by a strong third act, but...</td>\n",
       "      <td>NEGATIVE</td>\n",
       "    </tr>\n",
       "    <tr>\n",
       "      <th>162757</th>\n",
       "      <td>james_t._kirk_phenomenal_zephyr_chronicles</td>\n",
       "      <td>Howard Evans</td>\n",
       "      <td>False</td>\n",
       "      <td>A peerless exercise in stimulus response.</td>\n",
       "      <td>POSITIVE</td>\n",
       "    </tr>\n",
       "  </tbody>\n",
       "</table>\n",
       "<p>162758 rows × 5 columns</p>\n",
       "</div>"
      ],
      "text/plain": [
       "                                                  movieid  \\\n",
       "0                                        marvelous_pirate   \n",
       "1               tony_montana_frodo_baggins_v_rocky_balboa   \n",
       "2       darth_vader_katniss_everdeen_sorcerer_donnie_d...   \n",
       "3                                      lara_croft_glimmer   \n",
       "4       jason_bourne_surreal_the_terminator_indiana_jones   \n",
       "...                                                   ...   \n",
       "162753  the_joker_ethereal_captain_jack_sparrow_fantastic   \n",
       "162754  e.t._hannibal_lecter_vito_corleone_katniss_eve...   \n",
       "162755                     infinite_enigma_luke_skywalker   \n",
       "162756                  emerald_oracle_iron_man_wolverine   \n",
       "162757         james_t._kirk_phenomenal_zephyr_chronicles   \n",
       "\n",
       "               reviewerName  isFrequentReviewer  \\\n",
       "0            Benjamin Henry               False   \n",
       "1             Felicia Lopez               False   \n",
       "2       Mr. Charles Burgess                True   \n",
       "3              Ryan Barrett               False   \n",
       "4          Alexander Glover               False   \n",
       "...                     ...                 ...   \n",
       "162753        Danny Mueller               False   \n",
       "162754     Jennifer Clayton                True   \n",
       "162755         Bryan Wilson               False   \n",
       "162756          Erik Parker               False   \n",
       "162757         Howard Evans               False   \n",
       "\n",
       "                                               reviewText sentiment  \n",
       "0       Henry Selick’s first movie since 2009’s Corali...  POSITIVE  \n",
       "1       With a cast that reads like the Vogue Oscar pa...  NEGATIVE  \n",
       "2       Creed II does not give us anything but another...  POSITIVE  \n",
       "3       I know what you're thinking, but this is no Li...  POSITIVE  \n",
       "4       Director Fernando Meirelles tells the story wi...  POSITIVE  \n",
       "...                                                   ...       ...  \n",
       "162753  A top-notch thriller with genuine surprises an...  POSITIVE  \n",
       "162754  Some people find Derek Zoolander funny and lik...  NEGATIVE  \n",
       "162755  This fun, gentle comedy focuses mainly on them...  POSITIVE  \n",
       "162756  The film is rescued by a strong third act, but...  NEGATIVE  \n",
       "162757          A peerless exercise in stimulus response.  POSITIVE  \n",
       "\n",
       "[162758 rows x 5 columns]"
      ]
     },
     "execution_count": 4,
     "metadata": {},
     "output_type": "execute_result"
    }
   ],
   "source": [
    "traincopy = train.copy()\n",
    "traincopy"
   ]
  },
  {
   "cell_type": "code",
   "execution_count": 5,
   "id": "e5807027",
   "metadata": {
    "execution": {
     "iopub.execute_input": "2023-08-13T18:21:44.100818Z",
     "iopub.status.busy": "2023-08-13T18:21:44.100382Z",
     "iopub.status.idle": "2023-08-13T18:21:44.441027Z",
     "shell.execute_reply": "2023-08-13T18:21:44.439912Z"
    },
    "papermill": {
     "duration": 0.371496,
     "end_time": "2023-08-13T18:21:44.443603",
     "exception": false,
     "start_time": "2023-08-13T18:21:44.072107",
     "status": "completed"
    },
    "tags": []
   },
   "outputs": [
    {
     "data": {
      "text/html": [
       "<div>\n",
       "<style scoped>\n",
       "    .dataframe tbody tr th:only-of-type {\n",
       "        vertical-align: middle;\n",
       "    }\n",
       "\n",
       "    .dataframe tbody tr th {\n",
       "        vertical-align: top;\n",
       "    }\n",
       "\n",
       "    .dataframe thead th {\n",
       "        text-align: right;\n",
       "    }\n",
       "</style>\n",
       "<table border=\"1\" class=\"dataframe\">\n",
       "  <thead>\n",
       "    <tr style=\"text-align: right;\">\n",
       "      <th></th>\n",
       "      <th>movieid</th>\n",
       "      <th>reviewerName</th>\n",
       "      <th>isFrequentReviewer</th>\n",
       "      <th>reviewText</th>\n",
       "      <th>sentiment</th>\n",
       "    </tr>\n",
       "  </thead>\n",
       "  <tbody>\n",
       "    <tr>\n",
       "      <th>count</th>\n",
       "      <td>162758</td>\n",
       "      <td>162758</td>\n",
       "      <td>162758</td>\n",
       "      <td>156311</td>\n",
       "      <td>162758</td>\n",
       "    </tr>\n",
       "    <tr>\n",
       "      <th>unique</th>\n",
       "      <td>16812</td>\n",
       "      <td>4482</td>\n",
       "      <td>2</td>\n",
       "      <td>155071</td>\n",
       "      <td>2</td>\n",
       "    </tr>\n",
       "    <tr>\n",
       "      <th>top</th>\n",
       "      <td>escape_the_terminator_tyler_durden_astonish</td>\n",
       "      <td>Sherri Morrison</td>\n",
       "      <td>False</td>\n",
       "      <td>Parental Content Review</td>\n",
       "      <td>POSITIVE</td>\n",
       "    </tr>\n",
       "    <tr>\n",
       "      <th>freq</th>\n",
       "      <td>708</td>\n",
       "      <td>962</td>\n",
       "      <td>113189</td>\n",
       "      <td>29</td>\n",
       "      <td>108761</td>\n",
       "    </tr>\n",
       "  </tbody>\n",
       "</table>\n",
       "</div>"
      ],
      "text/plain": [
       "                                            movieid     reviewerName  \\\n",
       "count                                        162758           162758   \n",
       "unique                                        16812             4482   \n",
       "top     escape_the_terminator_tyler_durden_astonish  Sherri Morrison   \n",
       "freq                                            708              962   \n",
       "\n",
       "       isFrequentReviewer               reviewText sentiment  \n",
       "count              162758                   156311    162758  \n",
       "unique                  2                   155071         2  \n",
       "top                 False  Parental Content Review  POSITIVE  \n",
       "freq               113189                       29    108761  "
      ]
     },
     "execution_count": 5,
     "metadata": {},
     "output_type": "execute_result"
    }
   ],
   "source": [
    "traincopy.describe(include='all')"
   ]
  },
  {
   "cell_type": "markdown",
   "id": "c13c5725",
   "metadata": {
    "papermill": {
     "duration": 0.026311,
     "end_time": "2023-08-13T18:21:44.497328",
     "exception": false,
     "start_time": "2023-08-13T18:21:44.471017",
     "status": "completed"
    },
    "tags": []
   },
   "source": [
    "- Exploring and Checking for Null Values in the columns of train dataset**\n"
   ]
  },
  {
   "cell_type": "code",
   "execution_count": 6,
   "id": "bca94fb8",
   "metadata": {
    "execution": {
     "iopub.execute_input": "2023-08-13T18:21:44.553171Z",
     "iopub.status.busy": "2023-08-13T18:21:44.552574Z",
     "iopub.status.idle": "2023-08-13T18:21:44.783648Z",
     "shell.execute_reply": "2023-08-13T18:21:44.782458Z"
    },
    "papermill": {
     "duration": 0.262088,
     "end_time": "2023-08-13T18:21:44.786651",
     "exception": false,
     "start_time": "2023-08-13T18:21:44.524563",
     "status": "completed"
    },
    "tags": []
   },
   "outputs": [
    {
     "name": "stdout",
     "output_type": "stream",
     "text": [
      "<class 'pandas.core.frame.DataFrame'>\n",
      "RangeIndex: 162758 entries, 0 to 162757\n",
      "Data columns (total 5 columns):\n",
      " #   Column              Non-Null Count   Dtype \n",
      "---  ------              --------------   ----- \n",
      " 0   movieid             162758 non-null  object\n",
      " 1   reviewerName        162758 non-null  object\n",
      " 2   isFrequentReviewer  162758 non-null  bool  \n",
      " 3   reviewText          156311 non-null  object\n",
      " 4   sentiment           162758 non-null  object\n",
      "dtypes: bool(1), object(4)\n",
      "memory usage: 5.1+ MB\n"
     ]
    }
   ],
   "source": [
    "traincopy.info()"
   ]
  },
  {
   "cell_type": "code",
   "execution_count": 7,
   "id": "43744297",
   "metadata": {
    "execution": {
     "iopub.execute_input": "2023-08-13T18:21:44.843254Z",
     "iopub.status.busy": "2023-08-13T18:21:44.842517Z",
     "iopub.status.idle": "2023-08-13T18:21:45.058766Z",
     "shell.execute_reply": "2023-08-13T18:21:45.057378Z"
    },
    "papermill": {
     "duration": 0.248499,
     "end_time": "2023-08-13T18:21:45.061866",
     "exception": false,
     "start_time": "2023-08-13T18:21:44.813367",
     "status": "completed"
    },
    "tags": []
   },
   "outputs": [
    {
     "data": {
      "text/plain": [
       "movieid                  0\n",
       "reviewerName             0\n",
       "isFrequentReviewer       0\n",
       "reviewText            6447\n",
       "sentiment                0\n",
       "dtype: int64"
      ]
     },
     "execution_count": 7,
     "metadata": {},
     "output_type": "execute_result"
    }
   ],
   "source": [
    "traincopy.isnull().sum()"
   ]
  },
  {
   "cell_type": "markdown",
   "id": "7e7a194f",
   "metadata": {
    "papermill": {
     "duration": 0.02695,
     "end_time": "2023-08-13T18:21:45.115881",
     "exception": false,
     "start_time": "2023-08-13T18:21:45.088931",
     "status": "completed"
    },
    "tags": []
   },
   "source": [
    "- Creating a view containing all missing rows from the exploration train set"
   ]
  },
  {
   "cell_type": "code",
   "execution_count": 8,
   "id": "1098d377",
   "metadata": {
    "execution": {
     "iopub.execute_input": "2023-08-13T18:21:45.172164Z",
     "iopub.status.busy": "2023-08-13T18:21:45.171740Z",
     "iopub.status.idle": "2023-08-13T18:21:45.216252Z",
     "shell.execute_reply": "2023-08-13T18:21:45.215016Z"
    },
    "papermill": {
     "duration": 0.07599,
     "end_time": "2023-08-13T18:21:45.218909",
     "exception": false,
     "start_time": "2023-08-13T18:21:45.142919",
     "status": "completed"
    },
    "tags": []
   },
   "outputs": [
    {
     "data": {
      "text/html": [
       "<div>\n",
       "<style scoped>\n",
       "    .dataframe tbody tr th:only-of-type {\n",
       "        vertical-align: middle;\n",
       "    }\n",
       "\n",
       "    .dataframe tbody tr th {\n",
       "        vertical-align: top;\n",
       "    }\n",
       "\n",
       "    .dataframe thead th {\n",
       "        text-align: right;\n",
       "    }\n",
       "</style>\n",
       "<table border=\"1\" class=\"dataframe\">\n",
       "  <thead>\n",
       "    <tr style=\"text-align: right;\">\n",
       "      <th></th>\n",
       "      <th>movieid</th>\n",
       "      <th>reviewerName</th>\n",
       "      <th>isFrequentReviewer</th>\n",
       "      <th>reviewText</th>\n",
       "      <th>sentiment</th>\n",
       "    </tr>\n",
       "  </thead>\n",
       "  <tbody>\n",
       "    <tr>\n",
       "      <th>80</th>\n",
       "      <td>lost_whimsical_journey</td>\n",
       "      <td>Bobby Jenkins</td>\n",
       "      <td>False</td>\n",
       "      <td>NaN</td>\n",
       "      <td>NEGATIVE</td>\n",
       "    </tr>\n",
       "    <tr>\n",
       "      <th>113</th>\n",
       "      <td>journey_jack_torrance</td>\n",
       "      <td>Amanda Watson</td>\n",
       "      <td>False</td>\n",
       "      <td>NaN</td>\n",
       "      <td>NEGATIVE</td>\n",
       "    </tr>\n",
       "    <tr>\n",
       "      <th>178</th>\n",
       "      <td>james_bond_mystique</td>\n",
       "      <td>Jose Mccormick</td>\n",
       "      <td>False</td>\n",
       "      <td>NaN</td>\n",
       "      <td>POSITIVE</td>\n",
       "    </tr>\n",
       "    <tr>\n",
       "      <th>230</th>\n",
       "      <td>mystic_enigma_john_wick</td>\n",
       "      <td>Claire Conway</td>\n",
       "      <td>False</td>\n",
       "      <td>NaN</td>\n",
       "      <td>POSITIVE</td>\n",
       "    </tr>\n",
       "    <tr>\n",
       "      <th>232</th>\n",
       "      <td>rick_blaine_wonder</td>\n",
       "      <td>Brittany Medina</td>\n",
       "      <td>False</td>\n",
       "      <td>NaN</td>\n",
       "      <td>POSITIVE</td>\n",
       "    </tr>\n",
       "    <tr>\n",
       "      <th>...</th>\n",
       "      <td>...</td>\n",
       "      <td>...</td>\n",
       "      <td>...</td>\n",
       "      <td>...</td>\n",
       "      <td>...</td>\n",
       "    </tr>\n",
       "    <tr>\n",
       "      <th>162571</th>\n",
       "      <td>hidden_hannibal_lecter_riddle</td>\n",
       "      <td>Howard Evans</td>\n",
       "      <td>False</td>\n",
       "      <td>NaN</td>\n",
       "      <td>POSITIVE</td>\n",
       "    </tr>\n",
       "    <tr>\n",
       "      <th>162573</th>\n",
       "      <td>norman_bates_michael_corleone_sherlock_holmes</td>\n",
       "      <td>Andre Schmitt</td>\n",
       "      <td>True</td>\n",
       "      <td>NaN</td>\n",
       "      <td>POSITIVE</td>\n",
       "    </tr>\n",
       "    <tr>\n",
       "      <th>162579</th>\n",
       "      <td>captain_jack_sparrow_destiny_tony_stark_hulk</td>\n",
       "      <td>Sherri Morrison</td>\n",
       "      <td>False</td>\n",
       "      <td>NaN</td>\n",
       "      <td>POSITIVE</td>\n",
       "    </tr>\n",
       "    <tr>\n",
       "      <th>162660</th>\n",
       "      <td>astonish_wonder_james_t._kirk_witch</td>\n",
       "      <td>Thomas Stone</td>\n",
       "      <td>False</td>\n",
       "      <td>NaN</td>\n",
       "      <td>NEGATIVE</td>\n",
       "    </tr>\n",
       "    <tr>\n",
       "      <th>162724</th>\n",
       "      <td>mystique_ferris_bueller_sherlock_holmes_holly_...</td>\n",
       "      <td>Penny Vance</td>\n",
       "      <td>False</td>\n",
       "      <td>NaN</td>\n",
       "      <td>POSITIVE</td>\n",
       "    </tr>\n",
       "  </tbody>\n",
       "</table>\n",
       "<p>6447 rows × 5 columns</p>\n",
       "</div>"
      ],
      "text/plain": [
       "                                                  movieid     reviewerName  \\\n",
       "80                                 lost_whimsical_journey    Bobby Jenkins   \n",
       "113                                 journey_jack_torrance    Amanda Watson   \n",
       "178                                   james_bond_mystique   Jose Mccormick   \n",
       "230                               mystic_enigma_john_wick    Claire Conway   \n",
       "232                                    rick_blaine_wonder  Brittany Medina   \n",
       "...                                                   ...              ...   \n",
       "162571                      hidden_hannibal_lecter_riddle     Howard Evans   \n",
       "162573      norman_bates_michael_corleone_sherlock_holmes    Andre Schmitt   \n",
       "162579       captain_jack_sparrow_destiny_tony_stark_hulk  Sherri Morrison   \n",
       "162660                astonish_wonder_james_t._kirk_witch     Thomas Stone   \n",
       "162724  mystique_ferris_bueller_sherlock_holmes_holly_...      Penny Vance   \n",
       "\n",
       "        isFrequentReviewer reviewText sentiment  \n",
       "80                   False        NaN  NEGATIVE  \n",
       "113                  False        NaN  NEGATIVE  \n",
       "178                  False        NaN  POSITIVE  \n",
       "230                  False        NaN  POSITIVE  \n",
       "232                  False        NaN  POSITIVE  \n",
       "...                    ...        ...       ...  \n",
       "162571               False        NaN  POSITIVE  \n",
       "162573                True        NaN  POSITIVE  \n",
       "162579               False        NaN  POSITIVE  \n",
       "162660               False        NaN  NEGATIVE  \n",
       "162724               False        NaN  POSITIVE  \n",
       "\n",
       "[6447 rows x 5 columns]"
      ]
     },
     "execution_count": 8,
     "metadata": {},
     "output_type": "execute_result"
    }
   ],
   "source": [
    "missing_rows = traincopy[traincopy.reviewText.isnull()]\n",
    "missing_rows"
   ]
  },
  {
   "cell_type": "markdown",
   "id": "13da3c34",
   "metadata": {
    "papermill": {
     "duration": 0.027063,
     "end_time": "2023-08-13T18:21:45.273567",
     "exception": false,
     "start_time": "2023-08-13T18:21:45.246504",
     "status": "completed"
    },
    "tags": []
   },
   "source": [
    "- Relationship between Sentiment and Missing Rows"
   ]
  },
  {
   "cell_type": "code",
   "execution_count": 9,
   "id": "121a94fe",
   "metadata": {
    "execution": {
     "iopub.execute_input": "2023-08-13T18:21:45.332857Z",
     "iopub.status.busy": "2023-08-13T18:21:45.332426Z",
     "iopub.status.idle": "2023-08-13T18:21:45.694664Z",
     "shell.execute_reply": "2023-08-13T18:21:45.693469Z"
    },
    "papermill": {
     "duration": 0.396126,
     "end_time": "2023-08-13T18:21:45.697332",
     "exception": false,
     "start_time": "2023-08-13T18:21:45.301206",
     "status": "completed"
    },
    "tags": []
   },
   "outputs": [
    {
     "data": {
      "text/plain": [
       "<Axes: >"
      ]
     },
     "execution_count": 9,
     "metadata": {},
     "output_type": "execute_result"
    },
    {
     "data": {
      "image/png": "[encoded data removed]",
      "text/plain": [
       "<Figure size 640x480 with 1 Axes>"
      ]
     },
     "metadata": {},
     "output_type": "display_data"
    }
   ],
   "source": [
    "missing_rows.sentiment.value_counts().plot(kind='bar')"
   ]
  },
  {
   "cell_type": "markdown",
   "id": "583b6009",
   "metadata": {
    "papermill": {
     "duration": 0.028714,
     "end_time": "2023-08-13T18:21:45.754597",
     "exception": false,
     "start_time": "2023-08-13T18:21:45.725883",
     "status": "completed"
    },
    "tags": []
   },
   "source": [
    "- Relationship between isFrequentReviewer and Missing Rows"
   ]
  },
  {
   "cell_type": "code",
   "execution_count": 10,
   "id": "5436a8f1",
   "metadata": {
    "execution": {
     "iopub.execute_input": "2023-08-13T18:21:45.813799Z",
     "iopub.status.busy": "2023-08-13T18:21:45.813279Z",
     "iopub.status.idle": "2023-08-13T18:21:46.059721Z",
     "shell.execute_reply": "2023-08-13T18:21:46.058380Z"
    },
    "papermill": {
     "duration": 0.279753,
     "end_time": "2023-08-13T18:21:46.062472",
     "exception": false,
     "start_time": "2023-08-13T18:21:45.782719",
     "status": "completed"
    },
    "tags": []
   },
   "outputs": [
    {
     "data": {
      "text/plain": [
       "<Axes: >"
      ]
     },
     "execution_count": 10,
     "metadata": {},
     "output_type": "execute_result"
    },
    {
     "data": {
      "image/png": "[encoded data removed]",
      "text/plain": [
       "<Figure size 640x480 with 1 Axes>"
      ]
     },
     "metadata": {},
     "output_type": "display_data"
    }
   ],
   "source": [
    "missing_rows.isFrequentReviewer.value_counts().plot(kind='bar')"
   ]
  },
  {
   "cell_type": "markdown",
   "id": "86a5d6a5",
   "metadata": {
    "papermill": {
     "duration": 0.02843,
     "end_time": "2023-08-13T18:21:46.120022",
     "exception": false,
     "start_time": "2023-08-13T18:21:46.091592",
     "status": "completed"
    },
    "tags": []
   },
   "source": [
    "- With the above graphs we can understand that there is a high number of missing reviews contributing to **isFrquentReviewer:False** and **Sentiment:Positive** so we continue to do the Chi2 Test"
   ]
  },
  {
   "cell_type": "code",
   "execution_count": 11,
   "id": "cf385125",
   "metadata": {
    "execution": {
     "iopub.execute_input": "2023-08-13T18:21:46.178969Z",
     "iopub.status.busy": "2023-08-13T18:21:46.178541Z",
     "iopub.status.idle": "2023-08-13T18:21:46.240466Z",
     "shell.execute_reply": "2023-08-13T18:21:46.239429Z"
    },
    "papermill": {
     "duration": 0.094893,
     "end_time": "2023-08-13T18:21:46.243521",
     "exception": false,
     "start_time": "2023-08-13T18:21:46.148628",
     "status": "completed"
    },
    "tags": []
   },
   "outputs": [
    {
     "name": "stdout",
     "output_type": "stream",
     "text": [
      "sentiment           NEGATIVE  POSITIVE\n",
      "isFrequentReviewer                    \n",
      "False                  35760     77429\n",
      "True                   18237     31332\n"
     ]
    }
   ],
   "source": [
    "contingency_obs = pd.crosstab(traincopy['isFrequentReviewer'],traincopy['sentiment'], margins = False)\n",
    "print(contingency_obs)"
   ]
  },
  {
   "cell_type": "code",
   "execution_count": 12,
   "id": "f4241a1a",
   "metadata": {
    "execution": {
     "iopub.execute_input": "2023-08-13T18:21:46.302433Z",
     "iopub.status.busy": "2023-08-13T18:21:46.301991Z",
     "iopub.status.idle": "2023-08-13T18:21:46.312755Z",
     "shell.execute_reply": "2023-08-13T18:21:46.311649Z"
    },
    "papermill": {
     "duration": 0.042999,
     "end_time": "2023-08-13T18:21:46.314915",
     "exception": false,
     "start_time": "2023-08-13T18:21:46.271916",
     "status": "completed"
    },
    "tags": []
   },
   "outputs": [
    {
     "data": {
      "text/plain": [
       "Chi2ContingencyResult(statistic=419.89235425657796, pvalue=2.5755894769493255e-93, dof=1, expected_freq=array([[37551.86493444, 75637.13506556],\n",
       "       [16445.13506556, 33123.86493444]]))"
      ]
     },
     "execution_count": 12,
     "metadata": {},
     "output_type": "execute_result"
    }
   ],
   "source": [
    "from scipy.stats.contingency import chi2_contingency\n",
    "chi2_results = chi2_contingency(contingency_obs)\n",
    "chi2_results"
   ]
  },
  {
   "cell_type": "markdown",
   "id": "371f9b1d",
   "metadata": {
    "papermill": {
     "duration": 0.028297,
     "end_time": "2023-08-13T18:21:46.374631",
     "exception": false,
     "start_time": "2023-08-13T18:21:46.346334",
     "status": "completed"
    },
    "tags": []
   },
   "source": [
    "- To find top-words that contribute to the POSITIVE and NEGATIVE reviews in the Train Set"
   ]
  },
  {
   "cell_type": "code",
   "execution_count": 13,
   "id": "45809c24",
   "metadata": {
    "execution": {
     "iopub.execute_input": "2023-08-13T18:21:46.433229Z",
     "iopub.status.busy": "2023-08-13T18:21:46.432844Z",
     "iopub.status.idle": "2023-08-13T18:21:46.449260Z",
     "shell.execute_reply": "2023-08-13T18:21:46.448225Z"
    },
    "papermill": {
     "duration": 0.048589,
     "end_time": "2023-08-13T18:21:46.451555",
     "exception": false,
     "start_time": "2023-08-13T18:21:46.402966",
     "status": "completed"
    },
    "tags": []
   },
   "outputs": [
    {
     "data": {
      "text/html": [
       "<div>\n",
       "<style scoped>\n",
       "    .dataframe tbody tr th:only-of-type {\n",
       "        vertical-align: middle;\n",
       "    }\n",
       "\n",
       "    .dataframe tbody tr th {\n",
       "        vertical-align: top;\n",
       "    }\n",
       "\n",
       "    .dataframe thead th {\n",
       "        text-align: right;\n",
       "    }\n",
       "</style>\n",
       "<table border=\"1\" class=\"dataframe\">\n",
       "  <thead>\n",
       "    <tr style=\"text-align: right;\">\n",
       "      <th></th>\n",
       "      <th>movieid</th>\n",
       "      <th>reviewerName</th>\n",
       "      <th>isTopCritic</th>\n",
       "      <th>reviewText</th>\n",
       "    </tr>\n",
       "  </thead>\n",
       "  <tbody>\n",
       "    <tr>\n",
       "      <th>0</th>\n",
       "      <td>legend_marty_mcfly_oracle</td>\n",
       "      <td>John Kim</td>\n",
       "      <td>False</td>\n",
       "      <td>Green slowly cranks up the dread with style an...</td>\n",
       "    </tr>\n",
       "    <tr>\n",
       "      <th>1</th>\n",
       "      <td>terminator_katniss_everdeen_glimmer</td>\n",
       "      <td>Brian Chaney</td>\n",
       "      <td>False</td>\n",
       "      <td>Philip Noyce's direction is elegant and unforc...</td>\n",
       "    </tr>\n",
       "    <tr>\n",
       "      <th>2</th>\n",
       "      <td>james_bond_labyrinth_gollum</td>\n",
       "      <td>Danielle Parker</td>\n",
       "      <td>False</td>\n",
       "      <td>It wouldn't do to say what path Maria ultimate...</td>\n",
       "    </tr>\n",
       "    <tr>\n",
       "      <th>3</th>\n",
       "      <td>v_quest_han_solo_wondrous</td>\n",
       "      <td>Brittany Lane</td>\n",
       "      <td>False</td>\n",
       "      <td>Pig is not exactly the arthouse John Wick that...</td>\n",
       "    </tr>\n",
       "    <tr>\n",
       "      <th>4</th>\n",
       "      <td>enigma_hulk_surreal_starlight</td>\n",
       "      <td>Justin Willis</td>\n",
       "      <td>False</td>\n",
       "      <td>An imaginative no-budget musical of sorts abou...</td>\n",
       "    </tr>\n",
       "    <tr>\n",
       "      <th>...</th>\n",
       "      <td>...</td>\n",
       "      <td>...</td>\n",
       "      <td>...</td>\n",
       "      <td>...</td>\n",
       "    </tr>\n",
       "    <tr>\n",
       "      <th>55310</th>\n",
       "      <td>celestial_radiant</td>\n",
       "      <td>Jose Mccormick</td>\n",
       "      <td>False</td>\n",
       "      <td>Ron Howard delivers an unconventional romantic...</td>\n",
       "    </tr>\n",
       "    <tr>\n",
       "      <th>55311</th>\n",
       "      <td>vivid_james_t._kirk</td>\n",
       "      <td>Thomas Osborne</td>\n",
       "      <td>False</td>\n",
       "      <td>As an oddball art film that openly invites you...</td>\n",
       "    </tr>\n",
       "    <tr>\n",
       "      <th>55312</th>\n",
       "      <td>scarlett_o'hara_neo_scarlett_o'hara_infinite</td>\n",
       "      <td>Julie Kirby</td>\n",
       "      <td>False</td>\n",
       "      <td>Nicholson wears his devilish grin from his fir...</td>\n",
       "    </tr>\n",
       "    <tr>\n",
       "      <th>55313</th>\n",
       "      <td>terminator_epic_rocky_balboa_mystic</td>\n",
       "      <td>Tina Sutton</td>\n",
       "      <td>True</td>\n",
       "      <td>It's hard not be entertained by two dozen of C...</td>\n",
       "    </tr>\n",
       "    <tr>\n",
       "      <th>55314</th>\n",
       "      <td>wolverine_enigma_ellis_redding_gandalf</td>\n",
       "      <td>Taylor Wilcox</td>\n",
       "      <td>True</td>\n",
       "      <td>Not clever enough for Smith fans, not gross en...</td>\n",
       "    </tr>\n",
       "  </tbody>\n",
       "</table>\n",
       "<p>55315 rows × 4 columns</p>\n",
       "</div>"
      ],
      "text/plain": [
       "                                            movieid     reviewerName  \\\n",
       "0                         legend_marty_mcfly_oracle         John Kim   \n",
       "1               terminator_katniss_everdeen_glimmer     Brian Chaney   \n",
       "2                       james_bond_labyrinth_gollum  Danielle Parker   \n",
       "3                         v_quest_han_solo_wondrous    Brittany Lane   \n",
       "4                     enigma_hulk_surreal_starlight    Justin Willis   \n",
       "...                                             ...              ...   \n",
       "55310                             celestial_radiant   Jose Mccormick   \n",
       "55311                           vivid_james_t._kirk   Thomas Osborne   \n",
       "55312  scarlett_o'hara_neo_scarlett_o'hara_infinite      Julie Kirby   \n",
       "55313           terminator_epic_rocky_balboa_mystic      Tina Sutton   \n",
       "55314        wolverine_enigma_ellis_redding_gandalf    Taylor Wilcox   \n",
       "\n",
       "       isTopCritic                                         reviewText  \n",
       "0            False  Green slowly cranks up the dread with style an...  \n",
       "1            False  Philip Noyce's direction is elegant and unforc...  \n",
       "2            False  It wouldn't do to say what path Maria ultimate...  \n",
       "3            False  Pig is not exactly the arthouse John Wick that...  \n",
       "4            False  An imaginative no-budget musical of sorts abou...  \n",
       "...            ...                                                ...  \n",
       "55310        False  Ron Howard delivers an unconventional romantic...  \n",
       "55311        False  As an oddball art film that openly invites you...  \n",
       "55312        False  Nicholson wears his devilish grin from his fir...  \n",
       "55313         True  It's hard not be entertained by two dozen of C...  \n",
       "55314         True  Not clever enough for Smith fans, not gross en...  \n",
       "\n",
       "[55315 rows x 4 columns]"
      ]
     },
     "execution_count": 13,
     "metadata": {},
     "output_type": "execute_result"
    }
   ],
   "source": [
    "test"
   ]
  },
  {
   "cell_type": "code",
   "execution_count": 14,
   "id": "d718b726",
   "metadata": {
    "execution": {
     "iopub.execute_input": "2023-08-13T18:21:46.511829Z",
     "iopub.status.busy": "2023-08-13T18:21:46.511359Z",
     "iopub.status.idle": "2023-08-13T18:21:46.575562Z",
     "shell.execute_reply": "2023-08-13T18:21:46.574245Z"
    },
    "papermill": {
     "duration": 0.09747,
     "end_time": "2023-08-13T18:21:46.578145",
     "exception": false,
     "start_time": "2023-08-13T18:21:46.480675",
     "status": "completed"
    },
    "tags": []
   },
   "outputs": [
    {
     "data": {
      "text/plain": [
       "movieid            0\n",
       "reviewerName       0\n",
       "isTopCritic        0\n",
       "reviewText      2510\n",
       "dtype: int64"
      ]
     },
     "execution_count": 14,
     "metadata": {},
     "output_type": "execute_result"
    }
   ],
   "source": [
    "test.isna().sum()"
   ]
  },
  {
   "cell_type": "code",
   "execution_count": 15,
   "id": "536d580d",
   "metadata": {
    "execution": {
     "iopub.execute_input": "2023-08-13T18:21:46.639104Z",
     "iopub.status.busy": "2023-08-13T18:21:46.638663Z",
     "iopub.status.idle": "2023-08-13T18:21:46.658619Z",
     "shell.execute_reply": "2023-08-13T18:21:46.657349Z"
    },
    "papermill": {
     "duration": 0.053891,
     "end_time": "2023-08-13T18:21:46.661160",
     "exception": false,
     "start_time": "2023-08-13T18:21:46.607269",
     "status": "completed"
    },
    "tags": []
   },
   "outputs": [
    {
     "data": {
      "text/html": [
       "<div>\n",
       "<style scoped>\n",
       "    .dataframe tbody tr th:only-of-type {\n",
       "        vertical-align: middle;\n",
       "    }\n",
       "\n",
       "    .dataframe tbody tr th {\n",
       "        vertical-align: top;\n",
       "    }\n",
       "\n",
       "    .dataframe thead th {\n",
       "        text-align: right;\n",
       "    }\n",
       "</style>\n",
       "<table border=\"1\" class=\"dataframe\">\n",
       "  <thead>\n",
       "    <tr style=\"text-align: right;\">\n",
       "      <th></th>\n",
       "      <th>audienceScore</th>\n",
       "      <th>runtimeMinutes</th>\n",
       "    </tr>\n",
       "  </thead>\n",
       "  <tbody>\n",
       "    <tr>\n",
       "      <th>audienceScore</th>\n",
       "      <td>1.000000</td>\n",
       "      <td>0.160563</td>\n",
       "    </tr>\n",
       "    <tr>\n",
       "      <th>runtimeMinutes</th>\n",
       "      <td>0.160563</td>\n",
       "      <td>1.000000</td>\n",
       "    </tr>\n",
       "  </tbody>\n",
       "</table>\n",
       "</div>"
      ],
      "text/plain": [
       "                audienceScore  runtimeMinutes\n",
       "audienceScore        1.000000        0.160563\n",
       "runtimeMinutes       0.160563        1.000000"
      ]
     },
     "execution_count": 15,
     "metadata": {},
     "output_type": "execute_result"
    }
   ],
   "source": [
    "movies.corr()"
   ]
  },
  {
   "cell_type": "code",
   "execution_count": 16,
   "id": "c8c7601e",
   "metadata": {
    "execution": {
     "iopub.execute_input": "2023-08-13T18:21:46.722525Z",
     "iopub.status.busy": "2023-08-13T18:21:46.722053Z",
     "iopub.status.idle": "2023-08-13T18:21:46.750925Z",
     "shell.execute_reply": "2023-08-13T18:21:46.749784Z"
    },
    "papermill": {
     "duration": 0.062249,
     "end_time": "2023-08-13T18:21:46.753457",
     "exception": false,
     "start_time": "2023-08-13T18:21:46.691208",
     "status": "completed"
    },
    "tags": []
   },
   "outputs": [
    {
     "data": {
      "text/html": [
       "<div>\n",
       "<style scoped>\n",
       "    .dataframe tbody tr th:only-of-type {\n",
       "        vertical-align: middle;\n",
       "    }\n",
       "\n",
       "    .dataframe tbody tr th {\n",
       "        vertical-align: top;\n",
       "    }\n",
       "\n",
       "    .dataframe thead th {\n",
       "        text-align: right;\n",
       "    }\n",
       "</style>\n",
       "<table border=\"1\" class=\"dataframe\">\n",
       "  <thead>\n",
       "    <tr style=\"text-align: right;\">\n",
       "      <th></th>\n",
       "      <th>movieid</th>\n",
       "      <th>title</th>\n",
       "      <th>audienceScore</th>\n",
       "      <th>rating</th>\n",
       "      <th>ratingContents</th>\n",
       "      <th>releaseDateTheaters</th>\n",
       "      <th>releaseDateStreaming</th>\n",
       "      <th>runtimeMinutes</th>\n",
       "      <th>genre</th>\n",
       "      <th>originalLanguage</th>\n",
       "      <th>director</th>\n",
       "      <th>boxOffice</th>\n",
       "      <th>distributor</th>\n",
       "      <th>soundType</th>\n",
       "    </tr>\n",
       "  </thead>\n",
       "  <tbody>\n",
       "    <tr>\n",
       "      <th>0</th>\n",
       "      <td>han_solo_heroic_myth_wonder_woman</td>\n",
       "      <td>Han Solo Heroic Myth Wonder Woman</td>\n",
       "      <td>50.0</td>\n",
       "      <td>NaN</td>\n",
       "      <td>NaN</td>\n",
       "      <td>NaN</td>\n",
       "      <td>2018-08-25</td>\n",
       "      <td>75.0</td>\n",
       "      <td>Comedy, Horror, Sci-fi</td>\n",
       "      <td>English</td>\n",
       "      <td>Claude Nicolet</td>\n",
       "      <td>NaN</td>\n",
       "      <td>NaN</td>\n",
       "      <td>NaN</td>\n",
       "    </tr>\n",
       "    <tr>\n",
       "      <th>1</th>\n",
       "      <td>voyage_tyler_durden_han_solo_stardust</td>\n",
       "      <td>Voyage Tyler Durden Han Solo Stardust</td>\n",
       "      <td>NaN</td>\n",
       "      <td>NaN</td>\n",
       "      <td>NaN</td>\n",
       "      <td>NaN</td>\n",
       "      <td>2020-02-11</td>\n",
       "      <td>114.0</td>\n",
       "      <td>Drama</td>\n",
       "      <td>English</td>\n",
       "      <td>Nathan Haack</td>\n",
       "      <td>NaN</td>\n",
       "      <td>NaN</td>\n",
       "      <td>NaN</td>\n",
       "    </tr>\n",
       "    <tr>\n",
       "      <th>2</th>\n",
       "      <td>norman_bates_ferris_bueller_hermione_granger_v...</td>\n",
       "      <td>Norman Bates Ferris Bueller Hermione Granger V...</td>\n",
       "      <td>43.0</td>\n",
       "      <td>NaN</td>\n",
       "      <td>NaN</td>\n",
       "      <td>NaN</td>\n",
       "      <td>NaN</td>\n",
       "      <td>120.0</td>\n",
       "      <td>Drama</td>\n",
       "      <td>Korean</td>\n",
       "      <td>Theresa Smith</td>\n",
       "      <td>NaN</td>\n",
       "      <td>NaN</td>\n",
       "      <td>NaN</td>\n",
       "    </tr>\n",
       "    <tr>\n",
       "      <th>3</th>\n",
       "      <td>elegant_hermione_granger</td>\n",
       "      <td>Elegant Hermione Granger</td>\n",
       "      <td>60.0</td>\n",
       "      <td>NaN</td>\n",
       "      <td>NaN</td>\n",
       "      <td>NaN</td>\n",
       "      <td>2020-10-23</td>\n",
       "      <td>90.0</td>\n",
       "      <td>Action, Mystery &amp; thriller</td>\n",
       "      <td>English</td>\n",
       "      <td>Donald Lewis</td>\n",
       "      <td>NaN</td>\n",
       "      <td>NaN</td>\n",
       "      <td>NaN</td>\n",
       "    </tr>\n",
       "    <tr>\n",
       "      <th>4</th>\n",
       "      <td>adventure_rocky_balboa</td>\n",
       "      <td>Adventure Rocky Balboa</td>\n",
       "      <td>70.0</td>\n",
       "      <td>NaN</td>\n",
       "      <td>NaN</td>\n",
       "      <td>NaN</td>\n",
       "      <td>2017-03-27</td>\n",
       "      <td>80.0</td>\n",
       "      <td>Fantasy, Adventure, Animation</td>\n",
       "      <td>English</td>\n",
       "      <td>Howard Simms</td>\n",
       "      <td>NaN</td>\n",
       "      <td>NaN</td>\n",
       "      <td>NaN</td>\n",
       "    </tr>\n",
       "    <tr>\n",
       "      <th>...</th>\n",
       "      <td>...</td>\n",
       "      <td>...</td>\n",
       "      <td>...</td>\n",
       "      <td>...</td>\n",
       "      <td>...</td>\n",
       "      <td>...</td>\n",
       "      <td>...</td>\n",
       "      <td>...</td>\n",
       "      <td>...</td>\n",
       "      <td>...</td>\n",
       "      <td>...</td>\n",
       "      <td>...</td>\n",
       "      <td>...</td>\n",
       "      <td>...</td>\n",
       "    </tr>\n",
       "    <tr>\n",
       "      <th>143253</th>\n",
       "      <td>sherlock_holmes_surreal_james_bond</td>\n",
       "      <td>Sherlock Holmes Surreal James Bond</td>\n",
       "      <td>14.0</td>\n",
       "      <td>NaN</td>\n",
       "      <td>NaN</td>\n",
       "      <td>2002-08-27</td>\n",
       "      <td>NaN</td>\n",
       "      <td>90.0</td>\n",
       "      <td>Action, Adventure, Anime</td>\n",
       "      <td>Japanese</td>\n",
       "      <td>William Sims</td>\n",
       "      <td>NaN</td>\n",
       "      <td>ADV Films</td>\n",
       "      <td>NaN</td>\n",
       "    </tr>\n",
       "    <tr>\n",
       "      <th>143254</th>\n",
       "      <td>mr._miyagi_katniss_everdeen_harmony</td>\n",
       "      <td>Mr. Miyagi Katniss Everdeen Harmony</td>\n",
       "      <td>NaN</td>\n",
       "      <td>NaN</td>\n",
       "      <td>NaN</td>\n",
       "      <td>NaN</td>\n",
       "      <td>NaN</td>\n",
       "      <td>99.0</td>\n",
       "      <td>Drama</td>\n",
       "      <td>English</td>\n",
       "      <td>Robert Paddock</td>\n",
       "      <td>NaN</td>\n",
       "      <td>NaN</td>\n",
       "      <td>NaN</td>\n",
       "    </tr>\n",
       "    <tr>\n",
       "      <th>143255</th>\n",
       "      <td>elegant_emerald_valiant_donnie_darko</td>\n",
       "      <td>Elegant Emerald Valiant Donnie Darko</td>\n",
       "      <td>71.0</td>\n",
       "      <td>NaN</td>\n",
       "      <td>NaN</td>\n",
       "      <td>NaN</td>\n",
       "      <td>NaN</td>\n",
       "      <td>43.0</td>\n",
       "      <td>Documentary</td>\n",
       "      <td>English</td>\n",
       "      <td>Roy Lovelace</td>\n",
       "      <td>NaN</td>\n",
       "      <td>NaN</td>\n",
       "      <td>NaN</td>\n",
       "    </tr>\n",
       "    <tr>\n",
       "      <th>143256</th>\n",
       "      <td>wonder_hermione_granger_hulk_v</td>\n",
       "      <td>Wonder Hermione Granger Hulk V</td>\n",
       "      <td>NaN</td>\n",
       "      <td>NaN</td>\n",
       "      <td>NaN</td>\n",
       "      <td>NaN</td>\n",
       "      <td>2006-11-21</td>\n",
       "      <td>63.0</td>\n",
       "      <td>Drama</td>\n",
       "      <td>English</td>\n",
       "      <td>Dwayne Clayton</td>\n",
       "      <td>NaN</td>\n",
       "      <td>NaN</td>\n",
       "      <td>NaN</td>\n",
       "    </tr>\n",
       "    <tr>\n",
       "      <th>143257</th>\n",
       "      <td>lara_croft_voyage</td>\n",
       "      <td>Lara Croft Voyage</td>\n",
       "      <td>NaN</td>\n",
       "      <td>NaN</td>\n",
       "      <td>NaN</td>\n",
       "      <td>NaN</td>\n",
       "      <td>NaN</td>\n",
       "      <td>90.0</td>\n",
       "      <td>Horror</td>\n",
       "      <td>English</td>\n",
       "      <td>Valerie Mcneal</td>\n",
       "      <td>NaN</td>\n",
       "      <td>NaN</td>\n",
       "      <td>NaN</td>\n",
       "    </tr>\n",
       "  </tbody>\n",
       "</table>\n",
       "<p>143258 rows × 14 columns</p>\n",
       "</div>"
      ],
      "text/plain": [
       "                                                  movieid  \\\n",
       "0                       han_solo_heroic_myth_wonder_woman   \n",
       "1                   voyage_tyler_durden_han_solo_stardust   \n",
       "2       norman_bates_ferris_bueller_hermione_granger_v...   \n",
       "3                                elegant_hermione_granger   \n",
       "4                                  adventure_rocky_balboa   \n",
       "...                                                   ...   \n",
       "143253                 sherlock_holmes_surreal_james_bond   \n",
       "143254                mr._miyagi_katniss_everdeen_harmony   \n",
       "143255               elegant_emerald_valiant_donnie_darko   \n",
       "143256                     wonder_hermione_granger_hulk_v   \n",
       "143257                                  lara_croft_voyage   \n",
       "\n",
       "                                                    title  audienceScore  \\\n",
       "0                       Han Solo Heroic Myth Wonder Woman           50.0   \n",
       "1                   Voyage Tyler Durden Han Solo Stardust            NaN   \n",
       "2       Norman Bates Ferris Bueller Hermione Granger V...           43.0   \n",
       "3                                Elegant Hermione Granger           60.0   \n",
       "4                                  Adventure Rocky Balboa           70.0   \n",
       "...                                                   ...            ...   \n",
       "143253                 Sherlock Holmes Surreal James Bond           14.0   \n",
       "143254                Mr. Miyagi Katniss Everdeen Harmony            NaN   \n",
       "143255               Elegant Emerald Valiant Donnie Darko           71.0   \n",
       "143256                     Wonder Hermione Granger Hulk V            NaN   \n",
       "143257                                  Lara Croft Voyage            NaN   \n",
       "\n",
       "       rating ratingContents releaseDateTheaters releaseDateStreaming  \\\n",
       "0         NaN            NaN                 NaN           2018-08-25   \n",
       "1         NaN            NaN                 NaN           2020-02-11   \n",
       "2         NaN            NaN                 NaN                  NaN   \n",
       "3         NaN            NaN                 NaN           2020-10-23   \n",
       "4         NaN            NaN                 NaN           2017-03-27   \n",
       "...       ...            ...                 ...                  ...   \n",
       "143253    NaN            NaN          2002-08-27                  NaN   \n",
       "143254    NaN            NaN                 NaN                  NaN   \n",
       "143255    NaN            NaN                 NaN                  NaN   \n",
       "143256    NaN            NaN                 NaN           2006-11-21   \n",
       "143257    NaN            NaN                 NaN                  NaN   \n",
       "\n",
       "        runtimeMinutes                          genre originalLanguage  \\\n",
       "0                 75.0         Comedy, Horror, Sci-fi          English   \n",
       "1                114.0                          Drama          English   \n",
       "2                120.0                          Drama           Korean   \n",
       "3                 90.0     Action, Mystery & thriller          English   \n",
       "4                 80.0  Fantasy, Adventure, Animation          English   \n",
       "...                ...                            ...              ...   \n",
       "143253            90.0       Action, Adventure, Anime         Japanese   \n",
       "143254            99.0                          Drama          English   \n",
       "143255            43.0                    Documentary          English   \n",
       "143256            63.0                          Drama          English   \n",
       "143257            90.0                         Horror          English   \n",
       "\n",
       "              director boxOffice distributor soundType  \n",
       "0       Claude Nicolet       NaN         NaN       NaN  \n",
       "1         Nathan Haack       NaN         NaN       NaN  \n",
       "2        Theresa Smith       NaN         NaN       NaN  \n",
       "3         Donald Lewis       NaN         NaN       NaN  \n",
       "4         Howard Simms       NaN         NaN       NaN  \n",
       "...                ...       ...         ...       ...  \n",
       "143253    William Sims       NaN   ADV Films       NaN  \n",
       "143254  Robert Paddock       NaN         NaN       NaN  \n",
       "143255    Roy Lovelace       NaN         NaN       NaN  \n",
       "143256  Dwayne Clayton       NaN         NaN       NaN  \n",
       "143257  Valerie Mcneal       NaN         NaN       NaN  \n",
       "\n",
       "[143258 rows x 14 columns]"
      ]
     },
     "execution_count": 16,
     "metadata": {},
     "output_type": "execute_result"
    }
   ],
   "source": [
    "movies"
   ]
  },
  {
   "cell_type": "code",
   "execution_count": 17,
   "id": "e5537762",
   "metadata": {
    "execution": {
     "iopub.execute_input": "2023-08-13T18:21:46.814986Z",
     "iopub.status.busy": "2023-08-13T18:21:46.814610Z",
     "iopub.status.idle": "2023-08-13T18:21:47.085375Z",
     "shell.execute_reply": "2023-08-13T18:21:47.083596Z"
    },
    "papermill": {
     "duration": 0.307205,
     "end_time": "2023-08-13T18:21:47.090384",
     "exception": false,
     "start_time": "2023-08-13T18:21:46.783179",
     "status": "completed"
    },
    "tags": []
   },
   "outputs": [
    {
     "data": {
      "image/png": "[encoded data removed]",
      "text/plain": [
       "<Figure size 640x480 with 1 Axes>"
      ]
     },
     "metadata": {},
     "output_type": "display_data"
    }
   ],
   "source": [
    "# Pie Chart - Original Language Distribution\n",
    "language_counts = movies['originalLanguage'].value_counts()[:7]\n",
    "plt.pie(language_counts, labels=language_counts.index, autopct='%1.1f%%')\n",
    "plt.title('Original Language Distribution')\n",
    "plt.show()"
   ]
  },
  {
   "cell_type": "code",
   "execution_count": 18,
   "id": "15eba6da",
   "metadata": {
    "execution": {
     "iopub.execute_input": "2023-08-13T18:21:47.163099Z",
     "iopub.status.busy": "2023-08-13T18:21:47.162218Z",
     "iopub.status.idle": "2023-08-13T18:21:47.511655Z",
     "shell.execute_reply": "2023-08-13T18:21:47.510778Z"
    },
    "papermill": {
     "duration": 0.384202,
     "end_time": "2023-08-13T18:21:47.514144",
     "exception": false,
     "start_time": "2023-08-13T18:21:47.129942",
     "status": "completed"
    },
    "tags": []
   },
   "outputs": [
    {
     "data": {
      "image/png": "[encoded data removed]",
      "text/plain": [
       "<Figure size 640x480 with 1 Axes>"
      ]
     },
     "metadata": {},
     "output_type": "display_data"
    }
   ],
   "source": [
    "# Pie Chart - Original Language Distribution\n",
    "genre_counts = movies['genre'].value_counts()[:15]\n",
    "plt.pie(genre_counts, labels=genre_counts.index, autopct='%1.1f%%')\n",
    "plt.title('Genre Distribution')\n",
    "plt.show()"
   ]
  },
  {
   "cell_type": "code",
   "execution_count": 19,
   "id": "2191157d",
   "metadata": {
    "execution": {
     "iopub.execute_input": "2023-08-13T18:21:47.580735Z",
     "iopub.status.busy": "2023-08-13T18:21:47.579869Z",
     "iopub.status.idle": "2023-08-13T18:21:47.969639Z",
     "shell.execute_reply": "2023-08-13T18:21:47.968458Z"
    },
    "papermill": {
     "duration": 0.425418,
     "end_time": "2023-08-13T18:21:47.972013",
     "exception": false,
     "start_time": "2023-08-13T18:21:47.546595",
     "status": "completed"
    },
    "tags": []
   },
   "outputs": [
    {
     "data": {
      "image/png": "[encoded data removed]",
      "text/plain": [
       "<Figure size 1000x600 with 1 Axes>"
      ]
     },
     "metadata": {},
     "output_type": "display_data"
    }
   ],
   "source": [
    "avg_score_by_language = movies.groupby('originalLanguage')['audienceScore'].mean().sort_values(ascending=False)[:10]\n",
    "plt.figure(figsize=(10, 6))\n",
    "sns.barplot(x=avg_score_by_language.index, y=avg_score_by_language.values, palette='viridis')\n",
    "plt.xticks(rotation=45)\n",
    "plt.xlabel('Original Language')\n",
    "plt.ylabel('Average Audience Score')\n",
    "plt.title('Average Audience Score by Original Language')\n",
    "plt.show()"
   ]
  },
  {
   "cell_type": "code",
   "execution_count": 20,
   "id": "e1e5a9d4",
   "metadata": {
    "execution": {
     "iopub.execute_input": "2023-08-13T18:21:48.041179Z",
     "iopub.status.busy": "2023-08-13T18:21:48.040294Z",
     "iopub.status.idle": "2023-08-13T18:21:51.229888Z",
     "shell.execute_reply": "2023-08-13T18:21:51.228635Z"
    },
    "papermill": {
     "duration": 3.227105,
     "end_time": "2023-08-13T18:21:51.232602",
     "exception": false,
     "start_time": "2023-08-13T18:21:48.005497",
     "status": "completed"
    },
    "tags": []
   },
   "outputs": [
    {
     "data": {
      "image/png": "[encoded data removed]",
      "text/plain": [
       "<Figure size 500x500 with 6 Axes>"
      ]
     },
     "metadata": {},
     "output_type": "display_data"
    }
   ],
   "source": [
    "sns.pairplot(movies,diag_kind='kde')\n",
    "plt.suptitle('Pair Plot of Numeric Attributes')\n",
    "plt.show()"
   ]
  },
  {
   "cell_type": "code",
   "execution_count": 21,
   "id": "d54facf6",
   "metadata": {
    "execution": {
     "iopub.execute_input": "2023-08-13T18:21:51.303076Z",
     "iopub.status.busy": "2023-08-13T18:21:51.302426Z",
     "iopub.status.idle": "2023-08-13T18:21:52.341776Z",
     "shell.execute_reply": "2023-08-13T18:21:52.340507Z"
    },
    "papermill": {
     "duration": 1.078749,
     "end_time": "2023-08-13T18:21:52.345319",
     "exception": false,
     "start_time": "2023-08-13T18:21:51.266570",
     "status": "completed"
    },
    "tags": []
   },
   "outputs": [
    {
     "data": {
      "image/png": "[encoded data removed]",
      "text/plain": [
       "<Figure size 1000x600 with 1 Axes>"
      ]
     },
     "metadata": {},
     "output_type": "display_data"
    }
   ],
   "source": [
    "plt.figure(figsize=(10, 6))\n",
    "sns.swarmplot(x='director', y='audienceScore', data=movies.head(25), palette='Set2')\n",
    "plt.xticks(rotation=45)\n",
    "plt.xlabel('Director')\n",
    "plt.ylabel('Audience Score')\n",
    "plt.title('Audience Score by Director')\n",
    "plt.show()"
   ]
  },
  {
   "cell_type": "code",
   "execution_count": 22,
   "id": "70a00a39",
   "metadata": {
    "execution": {
     "iopub.execute_input": "2023-08-13T18:21:52.418607Z",
     "iopub.status.busy": "2023-08-13T18:21:52.417851Z",
     "iopub.status.idle": "2023-08-13T18:21:52.743145Z",
     "shell.execute_reply": "2023-08-13T18:21:52.741885Z"
    },
    "papermill": {
     "duration": 0.364395,
     "end_time": "2023-08-13T18:21:52.745725",
     "exception": false,
     "start_time": "2023-08-13T18:21:52.381330",
     "status": "completed"
    },
    "tags": []
   },
   "outputs": [
    {
     "data": {
      "image/png": "[encoded data removed]",
      "text/plain": [
       "<Figure size 640x480 with 1 Axes>"
      ]
     },
     "metadata": {},
     "output_type": "display_data"
    }
   ],
   "source": [
    "plt.hist(movies['runtimeMinutes'], bins=20, color='purple', edgecolor='black')\n",
    "plt.xlabel('runtimeMinutes')\n",
    "plt.ylabel('Frequency')\n",
    "plt.title('runtimeMinutes Distribution')\n",
    "plt.show()"
   ]
  },
  {
   "cell_type": "markdown",
   "id": "697295cb",
   "metadata": {
    "papermill": {
     "duration": 0.036014,
     "end_time": "2023-08-13T18:21:52.817645",
     "exception": false,
     "start_time": "2023-08-13T18:21:52.781631",
     "status": "completed"
    },
    "tags": []
   },
   "source": [
    "## Preprocessing"
   ]
  },
  {
   "cell_type": "code",
   "execution_count": 23,
   "id": "a3f50174",
   "metadata": {
    "execution": {
     "iopub.execute_input": "2023-08-13T18:21:52.893014Z",
     "iopub.status.busy": "2023-08-13T18:21:52.892348Z",
     "iopub.status.idle": "2023-08-13T18:21:55.864488Z",
     "shell.execute_reply": "2023-08-13T18:21:55.863262Z"
    },
    "papermill": {
     "duration": 3.013296,
     "end_time": "2023-08-13T18:21:55.867428",
     "exception": false,
     "start_time": "2023-08-13T18:21:52.854132",
     "status": "completed"
    },
    "tags": []
   },
   "outputs": [],
   "source": [
    "train.reviewText.replace(\"[^a-z,A-Z]\",\" \",regex=True,inplace=True)\n",
    "test.reviewText.replace(\"[^a-z,A-Z]\",\" \",regex=True,inplace=True)"
   ]
  },
  {
   "cell_type": "code",
   "execution_count": 24,
   "id": "fd759d0a",
   "metadata": {
    "execution": {
     "iopub.execute_input": "2023-08-13T18:21:55.941552Z",
     "iopub.status.busy": "2023-08-13T18:21:55.940995Z",
     "iopub.status.idle": "2023-08-13T18:21:55.982779Z",
     "shell.execute_reply": "2023-08-13T18:21:55.981437Z"
    },
    "papermill": {
     "duration": 0.081969,
     "end_time": "2023-08-13T18:21:55.985454",
     "exception": false,
     "start_time": "2023-08-13T18:21:55.903485",
     "status": "completed"
    },
    "tags": []
   },
   "outputs": [],
   "source": [
    "def stem_word(word):\n",
    "    if len(word) > 2:\n",
    "        if word.endswith('sses'):\n",
    "            word = word[:-2]\n",
    "        elif word.endswith('ies'):\n",
    "            word = word[:-2] + 'i'\n",
    "        elif word.endswith('ss'):\n",
    "            word = word\n",
    "        elif word.endswith('s'):\n",
    "            word = word[:-1]\n",
    "        \n",
    "        if word.endswith('eed'):\n",
    "            if len(word) > 4:\n",
    "                word = word[:-1]\n",
    "        elif word.endswith('ed'):\n",
    "            if 'v' in word[:-2]:\n",
    "                word = word[:-2]\n",
    "                if word.endswith('at'):\n",
    "                    word += 'e'\n",
    "            else:\n",
    "                word = word[:-2]\n",
    "        elif word.endswith('ing'):\n",
    "            if 'v' in word[:-3]:\n",
    "                word = word[:-3]\n",
    "                if word.endswith('at'):\n",
    "                    word += 'e'\n",
    "            else:\n",
    "                word = word[:-3]\n",
    "        \n",
    "        if word.endswith('y'):\n",
    "            if len(word) > 2:\n",
    "                if word[-2] not in ['a', 'e', 'i', 'o', 'u']:\n",
    "                    word = word[:-1] + 'i'\n",
    "        \n",
    "        if word.endswith('ational'):\n",
    "            if len(word) > 7:\n",
    "                word = word[:-5] + 'e'\n",
    "        elif word.endswith('tional'):\n",
    "            if len(word) > 6:\n",
    "                word = word[:-2]\n",
    "        elif word.endswith('izer'):\n",
    "            if len(word) > 4:\n",
    "                word = word[:-1]\n",
    "        elif word.endswith('ational'):\n",
    "            if len(word) > 8:\n",
    "                word = word[:-5] + 'e'\n",
    "        elif word.endswith('alize'):\n",
    "            if len(word) > 5:\n",
    "                word = word[:-3]\n",
    "        elif word.endswith('ative'):\n",
    "            if len(word) > 6:\n",
    "                word = word[:-5]\n",
    "        \n",
    "        if word.endswith('ical'):\n",
    "            if len(word) > 4:\n",
    "                word = word[:-2]\n",
    "        elif word.endswith('ful'):\n",
    "            if len(word) > 3:\n",
    "                word = word[:-3]\n",
    "        elif word.endswith('ness'):\n",
    "            if len(word) > 4:\n",
    "                word = word[:-4]\n",
    "        \n",
    "        if word.endswith('icate'):\n",
    "            if len(word) > 5:\n",
    "                word = word[:-3]\n",
    "        elif word.endswith('iciti'):\n",
    "            if len(word) > 5:\n",
    "                word = word[:-3]\n",
    "        elif word.endswith('ical'):\n",
    "            if len(word) > 4:\n",
    "                word = word[:-2]\n",
    "        \n",
    "        if word.endswith('al'):\n",
    "            if len(word) > 3:\n",
    "                word = word[:-2]\n",
    "        elif word.endswith('ance'):\n",
    "            if len(word) > 4:\n",
    "                word = word[:-4]\n",
    "        elif word.endswith('ence'):\n",
    "            if len(word) > 4:\n",
    "                word = word[:-4]\n",
    "        elif word.endswith('er'):\n",
    "            if len(word) > 2:\n",
    "                word = word[:-2]\n",
    "        \n",
    "        if word.endswith('ic'):\n",
    "            if len(word) > 2:\n",
    "                word = word[:-2]\n",
    "        elif word.endswith('able'):\n",
    "            if len(word) > 4:\n",
    "                word = word[:-4]\n",
    "        elif word.endswith('ible'):\n",
    "            if len(word) > 4:\n",
    "                word = word[:-4]\n",
    "        \n",
    "        if word.endswith('ant'):\n",
    "            if len(word) > 3:\n",
    "                word = word[:-3]\n",
    "        elif word.endswith('ement'):\n",
    "            if len(word) > 5:\n",
    "                word = word[:-5]\n",
    "        elif word.endswith('ment'):\n",
    "            if len(word) > 4:\n",
    "                word = word[:-4]\n",
    "        elif word.endswith('ent'):\n",
    "            if len(word) > 2:\n",
    "                word = word[:-2]\n",
    "        \n",
    "        if word.endswith('ion'):\n",
    "            if len(word) > 3 and word[-4] in ['s', 't']:\n",
    "                word = word[:-3]\n",
    "        \n",
    "        if word.endswith('ou'):\n",
    "            if len(word) > 2:\n",
    "                word = word[:-2]\n",
    "        elif word.endswith('ism'):\n",
    "            if len(word) > 3:\n",
    "                word = word[:-3]\n",
    "        elif word.endswith('ate'):\n",
    "            if len(word) > 3:\n",
    "                word = word[:-3]\n",
    "        elif word.endswith('iti'):\n",
    "            if len(word) > 3:\n",
    "                word = word[:-3]\n",
    "        \n",
    "        if word.endswith('ous'):\n",
    "            if len(word) > 3:\n",
    "                word = word[:-3]\n",
    "        elif word.endswith('ive'):\n",
    "            if len(word) > 3:\n",
    "                word = word[:-3]\n",
    "        elif word.endswith('ize'):\n",
    "            if len(word) > 3:\n",
    "                word = word[:-3]\n",
    "        \n",
    "        if word.endswith('al'):\n",
    "            if len(word) > 2:\n",
    "                word = word[:-2]\n",
    "        elif word.endswith('er'):\n",
    "            if len(word) > 2:\n",
    "                word = word[:-2]\n",
    "        elif word.endswith('ic'):\n",
    "            if len(word) > 2:\n",
    "                word = word[:-2]\n",
    "        elif word.endswith('ible'):\n",
    "            if len(word) > 4:\n",
    "                word = word[:-4]\n",
    "        elif word.endswith('ant'):\n",
    "            if len(word) > 3:\n",
    "                word = word[:-3]\n",
    "        elif word.endswith('ent'):\n",
    "            if len(word) > 2:\n",
    "                word = word[:-2]\n",
    "        elif word.endswith('ism'):\n",
    "            if len(word) > 3:\n",
    "                word = word[:-3]\n",
    "        elif word.endswith('ate'):\n",
    "            if len(word) > 3:\n",
    "                word = word[:-3]\n",
    "        elif word.endswith('iti'):\n",
    "            if len(word) > 3:\n",
    "                word = word[:-3]\n",
    "        elif word.endswith('ous'):\n",
    "            if len(word) > 3:\n",
    "                word = word[:-3]\n",
    "        elif word.endswith('ive'):\n",
    "            if len(word) > 3:\n",
    "                word = word[:-3]\n",
    "        elif word.endswith('ize'):\n",
    "            if len(word) > 3:\n",
    "                word = word[:-3]\n",
    "    \n",
    "    return word"
   ]
  },
  {
   "cell_type": "code",
   "execution_count": 25,
   "id": "174ee080",
   "metadata": {
    "execution": {
     "iopub.execute_input": "2023-08-13T18:21:56.060312Z",
     "iopub.status.busy": "2023-08-13T18:21:56.059918Z",
     "iopub.status.idle": "2023-08-13T18:21:56.065560Z",
     "shell.execute_reply": "2023-08-13T18:21:56.064429Z"
    },
    "papermill": {
     "duration": 0.045605,
     "end_time": "2023-08-13T18:21:56.068049",
     "exception": false,
     "start_time": "2023-08-13T18:21:56.022444",
     "status": "completed"
    },
    "tags": []
   },
   "outputs": [],
   "source": [
    "def decontracted(phrase):\n",
    "    return re.sub(r\"n\\'t|\\'re|\\'s|\\'d|\\'ll|\\'ve|\\'m\", lambda match: {\"n't\": \" not\", \"'re\": \" are\", \"'s\": \" is\", \"'d\": \" had\", \"'ll\": \" will\", \"'ve\": \" have\", \"'m\": \" am\"}[match.group(0)], phrase)"
   ]
  },
  {
   "cell_type": "code",
   "execution_count": 26,
   "id": "ba13e151",
   "metadata": {
    "execution": {
     "iopub.execute_input": "2023-08-13T18:21:56.142576Z",
     "iopub.status.busy": "2023-08-13T18:21:56.141744Z",
     "iopub.status.idle": "2023-08-13T18:21:56.149987Z",
     "shell.execute_reply": "2023-08-13T18:21:56.148901Z"
    },
    "papermill": {
     "duration": 0.048853,
     "end_time": "2023-08-13T18:21:56.152710",
     "exception": false,
     "start_time": "2023-08-13T18:21:56.103857",
     "status": "completed"
    },
    "tags": []
   },
   "outputs": [],
   "source": [
    "def preprocess_text(text):\n",
    "    if isinstance(text, str):\n",
    "        text = text.lower()          # Convert text to lowercase\n",
    "        text = re.sub(r'\\d+', '', text)        # Remove numbers\n",
    "        words = text.split()        # Tokenization (split text into words)\n",
    "        # Remove stopwords stopwords_list = ['i', 'me', 'my', 'myself', 'we', 'our', 'ours', 'ourselves', 'you', \"you're\", \"you've\", \"you'll\", \"you'd\", 'your', 'yours', 'yourself', 'yourselves', 'he', 'him', 'his', 'himself', 'she', \"she's\", 'her', 'hers', 'herself', 'it', \"it's\", 'its', 'itself', 'they', 'them', 'their', 'theirs', 'themselves', 'what', 'which', 'who', 'whom', 'this', 'that', \"that'll\", 'these', 'those', 'am', 'is', 'are', 'was', 'were', 'be', 'been', 'being', 'have', 'has', 'had', 'having', 'do', 'does', 'did', 'doing', 'a', 'an', 'the', 'and', 'but', 'if', 'or', 'because', 'as', 'until', 'while', 'of', 'at', 'by', 'for', 'with', 'about', 'between', 'into', 'through', 'during', 'before', 'after', 'above', 'below', 'to', 'from', 'up', 'down', 'in', 'out', 'on', 'off', 'over', 'under', 'again', 'further', 'then', 'once', 'here', 'there', 'when', 'where', 'why', 'how', 'all', 'any', 'both', 'each', 'few', 'other', 'some', 'such','nor', 'only', 'own', 'same', 'so', 'than', 'too', 's', 't', 'can', 'will', 'just', 'don', 'now', 'd', 'll', 'm', 'o', 're', 've', 'y', 'ain', 'aren', 'ma']\n",
    "        decontracted_words = [decontracted(word) for word in words]\n",
    "        final_words = [stem_word(word).strip() for word in decontracted_words ] #if (word not in stopwords_list)\n",
    "        processed_text = ' '.join(final_words)         # Join the words back into a single string\n",
    "        return processed_text"
   ]
  },
  {
   "cell_type": "code",
   "execution_count": 27,
   "id": "194aea2d",
   "metadata": {
    "execution": {
     "iopub.execute_input": "2023-08-13T18:21:56.227318Z",
     "iopub.status.busy": "2023-08-13T18:21:56.226506Z",
     "iopub.status.idle": "2023-08-13T18:21:56.243148Z",
     "shell.execute_reply": "2023-08-13T18:21:56.241976Z"
    },
    "papermill": {
     "duration": 0.05777,
     "end_time": "2023-08-13T18:21:56.246632",
     "exception": false,
     "start_time": "2023-08-13T18:21:56.188862",
     "status": "completed"
    },
    "tags": []
   },
   "outputs": [
    {
     "data": {
      "text/html": [
       "<div>\n",
       "<style scoped>\n",
       "    .dataframe tbody tr th:only-of-type {\n",
       "        vertical-align: middle;\n",
       "    }\n",
       "\n",
       "    .dataframe tbody tr th {\n",
       "        vertical-align: top;\n",
       "    }\n",
       "\n",
       "    .dataframe thead th {\n",
       "        text-align: right;\n",
       "    }\n",
       "</style>\n",
       "<table border=\"1\" class=\"dataframe\">\n",
       "  <thead>\n",
       "    <tr style=\"text-align: right;\">\n",
       "      <th></th>\n",
       "      <th>movieid</th>\n",
       "      <th>reviewerName</th>\n",
       "      <th>isFrequentReviewer</th>\n",
       "      <th>reviewText</th>\n",
       "      <th>sentiment</th>\n",
       "    </tr>\n",
       "  </thead>\n",
       "  <tbody>\n",
       "    <tr>\n",
       "      <th>0</th>\n",
       "      <td>marvelous_pirate</td>\n",
       "      <td>Benjamin Henry</td>\n",
       "      <td>False</td>\n",
       "      <td>Henry Selick s first movie since      s Corali...</td>\n",
       "      <td>POSITIVE</td>\n",
       "    </tr>\n",
       "    <tr>\n",
       "      <th>1</th>\n",
       "      <td>tony_montana_frodo_baggins_v_rocky_balboa</td>\n",
       "      <td>Felicia Lopez</td>\n",
       "      <td>False</td>\n",
       "      <td>With a cast that reads like the Vogue Oscar pa...</td>\n",
       "      <td>NEGATIVE</td>\n",
       "    </tr>\n",
       "    <tr>\n",
       "      <th>2</th>\n",
       "      <td>darth_vader_katniss_everdeen_sorcerer_donnie_d...</td>\n",
       "      <td>Mr. Charles Burgess</td>\n",
       "      <td>True</td>\n",
       "      <td>Creed II does not give us anything but another...</td>\n",
       "      <td>POSITIVE</td>\n",
       "    </tr>\n",
       "    <tr>\n",
       "      <th>3</th>\n",
       "      <td>lara_croft_glimmer</td>\n",
       "      <td>Ryan Barrett</td>\n",
       "      <td>False</td>\n",
       "      <td>I know what you re thinking, but this is no Li...</td>\n",
       "      <td>POSITIVE</td>\n",
       "    </tr>\n",
       "    <tr>\n",
       "      <th>4</th>\n",
       "      <td>jason_bourne_surreal_the_terminator_indiana_jones</td>\n",
       "      <td>Alexander Glover</td>\n",
       "      <td>False</td>\n",
       "      <td>Director Fernando Meirelles tells the story wi...</td>\n",
       "      <td>POSITIVE</td>\n",
       "    </tr>\n",
       "    <tr>\n",
       "      <th>...</th>\n",
       "      <td>...</td>\n",
       "      <td>...</td>\n",
       "      <td>...</td>\n",
       "      <td>...</td>\n",
       "      <td>...</td>\n",
       "    </tr>\n",
       "    <tr>\n",
       "      <th>162753</th>\n",
       "      <td>the_joker_ethereal_captain_jack_sparrow_fantastic</td>\n",
       "      <td>Danny Mueller</td>\n",
       "      <td>False</td>\n",
       "      <td>A top notch thriller with genuine surprises an...</td>\n",
       "      <td>POSITIVE</td>\n",
       "    </tr>\n",
       "    <tr>\n",
       "      <th>162754</th>\n",
       "      <td>e.t._hannibal_lecter_vito_corleone_katniss_eve...</td>\n",
       "      <td>Jennifer Clayton</td>\n",
       "      <td>True</td>\n",
       "      <td>Some people find Derek Zoolander funny and lik...</td>\n",
       "      <td>NEGATIVE</td>\n",
       "    </tr>\n",
       "    <tr>\n",
       "      <th>162755</th>\n",
       "      <td>infinite_enigma_luke_skywalker</td>\n",
       "      <td>Bryan Wilson</td>\n",
       "      <td>False</td>\n",
       "      <td>This fun, gentle comedy focuses mainly on them...</td>\n",
       "      <td>POSITIVE</td>\n",
       "    </tr>\n",
       "    <tr>\n",
       "      <th>162756</th>\n",
       "      <td>emerald_oracle_iron_man_wolverine</td>\n",
       "      <td>Erik Parker</td>\n",
       "      <td>False</td>\n",
       "      <td>The film is rescued by a strong third act, but...</td>\n",
       "      <td>NEGATIVE</td>\n",
       "    </tr>\n",
       "    <tr>\n",
       "      <th>162757</th>\n",
       "      <td>james_t._kirk_phenomenal_zephyr_chronicles</td>\n",
       "      <td>Howard Evans</td>\n",
       "      <td>False</td>\n",
       "      <td>A peerless exercise in stimulus response</td>\n",
       "      <td>POSITIVE</td>\n",
       "    </tr>\n",
       "  </tbody>\n",
       "</table>\n",
       "<p>162758 rows × 5 columns</p>\n",
       "</div>"
      ],
      "text/plain": [
       "                                                  movieid  \\\n",
       "0                                        marvelous_pirate   \n",
       "1               tony_montana_frodo_baggins_v_rocky_balboa   \n",
       "2       darth_vader_katniss_everdeen_sorcerer_donnie_d...   \n",
       "3                                      lara_croft_glimmer   \n",
       "4       jason_bourne_surreal_the_terminator_indiana_jones   \n",
       "...                                                   ...   \n",
       "162753  the_joker_ethereal_captain_jack_sparrow_fantastic   \n",
       "162754  e.t._hannibal_lecter_vito_corleone_katniss_eve...   \n",
       "162755                     infinite_enigma_luke_skywalker   \n",
       "162756                  emerald_oracle_iron_man_wolverine   \n",
       "162757         james_t._kirk_phenomenal_zephyr_chronicles   \n",
       "\n",
       "               reviewerName  isFrequentReviewer  \\\n",
       "0            Benjamin Henry               False   \n",
       "1             Felicia Lopez               False   \n",
       "2       Mr. Charles Burgess                True   \n",
       "3              Ryan Barrett               False   \n",
       "4          Alexander Glover               False   \n",
       "...                     ...                 ...   \n",
       "162753        Danny Mueller               False   \n",
       "162754     Jennifer Clayton                True   \n",
       "162755         Bryan Wilson               False   \n",
       "162756          Erik Parker               False   \n",
       "162757         Howard Evans               False   \n",
       "\n",
       "                                               reviewText sentiment  \n",
       "0       Henry Selick s first movie since      s Corali...  POSITIVE  \n",
       "1       With a cast that reads like the Vogue Oscar pa...  NEGATIVE  \n",
       "2       Creed II does not give us anything but another...  POSITIVE  \n",
       "3       I know what you re thinking, but this is no Li...  POSITIVE  \n",
       "4       Director Fernando Meirelles tells the story wi...  POSITIVE  \n",
       "...                                                   ...       ...  \n",
       "162753  A top notch thriller with genuine surprises an...  POSITIVE  \n",
       "162754  Some people find Derek Zoolander funny and lik...  NEGATIVE  \n",
       "162755  This fun, gentle comedy focuses mainly on them...  POSITIVE  \n",
       "162756  The film is rescued by a strong third act, but...  NEGATIVE  \n",
       "162757          A peerless exercise in stimulus response   POSITIVE  \n",
       "\n",
       "[162758 rows x 5 columns]"
      ]
     },
     "execution_count": 27,
     "metadata": {},
     "output_type": "execute_result"
    }
   ],
   "source": [
    "train"
   ]
  },
  {
   "cell_type": "code",
   "execution_count": 28,
   "id": "e9c7469e",
   "metadata": {
    "execution": {
     "iopub.execute_input": "2023-08-13T18:21:56.327778Z",
     "iopub.status.busy": "2023-08-13T18:21:56.326881Z",
     "iopub.status.idle": "2023-08-13T18:21:56.596634Z",
     "shell.execute_reply": "2023-08-13T18:21:56.595479Z"
    },
    "papermill": {
     "duration": 0.314536,
     "end_time": "2023-08-13T18:21:56.599272",
     "exception": false,
     "start_time": "2023-08-13T18:21:56.284736",
     "status": "completed"
    },
    "tags": []
   },
   "outputs": [
    {
     "data": {
      "text/plain": [
       "movieid                  0\n",
       "reviewerName             0\n",
       "isFrequentReviewer       0\n",
       "reviewText            6447\n",
       "sentiment                0\n",
       "dtype: int64"
      ]
     },
     "execution_count": 28,
     "metadata": {},
     "output_type": "execute_result"
    }
   ],
   "source": [
    "train.isna().sum()"
   ]
  },
  {
   "cell_type": "code",
   "execution_count": 29,
   "id": "368f7bd3",
   "metadata": {
    "execution": {
     "iopub.execute_input": "2023-08-13T18:21:56.675950Z",
     "iopub.status.busy": "2023-08-13T18:21:56.674943Z",
     "iopub.status.idle": "2023-08-13T18:21:56.686183Z",
     "shell.execute_reply": "2023-08-13T18:21:56.685194Z"
    },
    "papermill": {
     "duration": 0.052764,
     "end_time": "2023-08-13T18:21:56.688988",
     "exception": false,
     "start_time": "2023-08-13T18:21:56.636224",
     "status": "completed"
    },
    "tags": []
   },
   "outputs": [],
   "source": [
    "def topwords(df, column):\n",
    "    from collections import Counter\n",
    "    df = df.astype('str')    # Load the file into a DataFrame\n",
    "    positive_reviews = df[df['sentiment'] == 'POSITIVE']    # Separate positive and negative reviews\n",
    "    negative_reviews = df[df['sentiment'] == 'NEGATIVE']\n",
    "    positive_text = ' '.join(positive_reviews[column].tolist())    # Combine all positive reviews into a single text\n",
    "    negative_text = ' '.join(negative_reviews[column].tolist())    # Combine all negative reviews into a single text\n",
    "    positive_words = positive_text.split()    # Tokenize the positive text into words\n",
    "    negative_words = negative_text.split()    # Tokenize the negative text into words\n",
    "    positive_word_counts = Counter(positive_words)    # Count the frequency of each word in positive and negative reviews\n",
    "    negative_word_counts = Counter(negative_words)\n",
    "    top_positive_words = positive_word_counts.most_common(100)    # Get the top 100 words for positive and negative reviews\n",
    "    top_negative_words = negative_word_counts.most_common(100)\n",
    "    top_positive_words= set(list(map(lambda x: x[0], top_positive_words)))\n",
    "    top_negative_words= set(list(map(lambda x: x[0], top_negative_words)))\n",
    "    return top_positive_words.intersection(top_negative_words)"
   ]
  },
  {
   "cell_type": "code",
   "execution_count": 30,
   "id": "3adb2923",
   "metadata": {
    "execution": {
     "iopub.execute_input": "2023-08-13T18:21:56.772107Z",
     "iopub.status.busy": "2023-08-13T18:21:56.771283Z",
     "iopub.status.idle": "2023-08-13T18:21:58.201181Z",
     "shell.execute_reply": "2023-08-13T18:21:58.199922Z"
    },
    "papermill": {
     "duration": 1.472928,
     "end_time": "2023-08-13T18:21:58.203656",
     "exception": false,
     "start_time": "2023-08-13T18:21:56.730728",
     "status": "completed"
    },
    "tags": []
   },
   "outputs": [
    {
     "name": "stdout",
     "output_type": "stream",
     "text": [
      "{'if', 'this', 'has', 'good', 'as', 'like', 'you', 'what', 'This', 'comedy', 'time', 'not', 'enough', 'to', 'nan', 'which', 'all', 'can', 'I', 'than', 't', 'very', 'way', 'a', 's', 'on', 'it', 'with', 'It', 'so', 'out', 'are', 'characters', 'in', 'for', 'never', 'no', 'at', 'have', 'by', 'from', 'he', 'its', 'his', 'The', 'when', 'just', 'one', 'their', 'up', 'story', 'there', 'but', 'too', 'is', 'the', 'even', 'make', 'an', 'and', 'A', 'about', 'of', 'who', 'will', 'most', 'we', 'be', 'was', 'they', 'some', 'much', 'or', 'into', 'that', 'movie', 'action', 'film', 'more'}\n"
     ]
    }
   ],
   "source": [
    "print(topwords(train, 'reviewText'))"
   ]
  },
  {
   "cell_type": "code",
   "execution_count": 31,
   "id": "4a6262e3",
   "metadata": {
    "execution": {
     "iopub.execute_input": "2023-08-13T18:21:58.280934Z",
     "iopub.status.busy": "2023-08-13T18:21:58.280014Z",
     "iopub.status.idle": "2023-08-13T18:21:58.623802Z",
     "shell.execute_reply": "2023-08-13T18:21:58.622504Z"
    },
    "papermill": {
     "duration": 0.386014,
     "end_time": "2023-08-13T18:21:58.626621",
     "exception": false,
     "start_time": "2023-08-13T18:21:58.240607",
     "status": "completed"
    },
    "tags": []
   },
   "outputs": [
    {
     "data": {
      "text/html": [
       "<div>\n",
       "<style scoped>\n",
       "    .dataframe tbody tr th:only-of-type {\n",
       "        vertical-align: middle;\n",
       "    }\n",
       "\n",
       "    .dataframe tbody tr th {\n",
       "        vertical-align: top;\n",
       "    }\n",
       "\n",
       "    .dataframe thead th {\n",
       "        text-align: right;\n",
       "    }\n",
       "</style>\n",
       "<table border=\"1\" class=\"dataframe\">\n",
       "  <thead>\n",
       "    <tr style=\"text-align: right;\">\n",
       "      <th></th>\n",
       "      <th>movieid</th>\n",
       "      <th>reviewerName</th>\n",
       "      <th>isFrequentReviewer</th>\n",
       "      <th>reviewText</th>\n",
       "      <th>sentiment</th>\n",
       "      <th>isMissingReview</th>\n",
       "    </tr>\n",
       "  </thead>\n",
       "  <tbody>\n",
       "    <tr>\n",
       "      <th>0</th>\n",
       "      <td>marvelous_pirate</td>\n",
       "      <td>Benjamin Henry</td>\n",
       "      <td>False</td>\n",
       "      <td>Henry Selick s first movie since      s Corali...</td>\n",
       "      <td>POSITIVE</td>\n",
       "      <td>False</td>\n",
       "    </tr>\n",
       "    <tr>\n",
       "      <th>1</th>\n",
       "      <td>tony_montana_frodo_baggins_v_rocky_balboa</td>\n",
       "      <td>Felicia Lopez</td>\n",
       "      <td>False</td>\n",
       "      <td>With a cast that reads like the Vogue Oscar pa...</td>\n",
       "      <td>NEGATIVE</td>\n",
       "      <td>False</td>\n",
       "    </tr>\n",
       "    <tr>\n",
       "      <th>2</th>\n",
       "      <td>darth_vader_katniss_everdeen_sorcerer_donnie_d...</td>\n",
       "      <td>Mr. Charles Burgess</td>\n",
       "      <td>True</td>\n",
       "      <td>Creed II does not give us anything but another...</td>\n",
       "      <td>POSITIVE</td>\n",
       "      <td>False</td>\n",
       "    </tr>\n",
       "    <tr>\n",
       "      <th>3</th>\n",
       "      <td>lara_croft_glimmer</td>\n",
       "      <td>Ryan Barrett</td>\n",
       "      <td>False</td>\n",
       "      <td>I know what you re thinking, but this is no Li...</td>\n",
       "      <td>POSITIVE</td>\n",
       "      <td>False</td>\n",
       "    </tr>\n",
       "    <tr>\n",
       "      <th>4</th>\n",
       "      <td>jason_bourne_surreal_the_terminator_indiana_jones</td>\n",
       "      <td>Alexander Glover</td>\n",
       "      <td>False</td>\n",
       "      <td>Director Fernando Meirelles tells the story wi...</td>\n",
       "      <td>POSITIVE</td>\n",
       "      <td>False</td>\n",
       "    </tr>\n",
       "    <tr>\n",
       "      <th>...</th>\n",
       "      <td>...</td>\n",
       "      <td>...</td>\n",
       "      <td>...</td>\n",
       "      <td>...</td>\n",
       "      <td>...</td>\n",
       "      <td>...</td>\n",
       "    </tr>\n",
       "    <tr>\n",
       "      <th>162753</th>\n",
       "      <td>the_joker_ethereal_captain_jack_sparrow_fantastic</td>\n",
       "      <td>Danny Mueller</td>\n",
       "      <td>False</td>\n",
       "      <td>A top notch thriller with genuine surprises an...</td>\n",
       "      <td>POSITIVE</td>\n",
       "      <td>False</td>\n",
       "    </tr>\n",
       "    <tr>\n",
       "      <th>162754</th>\n",
       "      <td>e.t._hannibal_lecter_vito_corleone_katniss_eve...</td>\n",
       "      <td>Jennifer Clayton</td>\n",
       "      <td>True</td>\n",
       "      <td>Some people find Derek Zoolander funny and lik...</td>\n",
       "      <td>NEGATIVE</td>\n",
       "      <td>False</td>\n",
       "    </tr>\n",
       "    <tr>\n",
       "      <th>162755</th>\n",
       "      <td>infinite_enigma_luke_skywalker</td>\n",
       "      <td>Bryan Wilson</td>\n",
       "      <td>False</td>\n",
       "      <td>This fun, gentle comedy focuses mainly on them...</td>\n",
       "      <td>POSITIVE</td>\n",
       "      <td>False</td>\n",
       "    </tr>\n",
       "    <tr>\n",
       "      <th>162756</th>\n",
       "      <td>emerald_oracle_iron_man_wolverine</td>\n",
       "      <td>Erik Parker</td>\n",
       "      <td>False</td>\n",
       "      <td>The film is rescued by a strong third act, but...</td>\n",
       "      <td>NEGATIVE</td>\n",
       "      <td>False</td>\n",
       "    </tr>\n",
       "    <tr>\n",
       "      <th>162757</th>\n",
       "      <td>james_t._kirk_phenomenal_zephyr_chronicles</td>\n",
       "      <td>Howard Evans</td>\n",
       "      <td>False</td>\n",
       "      <td>A peerless exercise in stimulus response</td>\n",
       "      <td>POSITIVE</td>\n",
       "      <td>False</td>\n",
       "    </tr>\n",
       "  </tbody>\n",
       "</table>\n",
       "<p>162758 rows × 6 columns</p>\n",
       "</div>"
      ],
      "text/plain": [
       "                                                  movieid  \\\n",
       "0                                        marvelous_pirate   \n",
       "1               tony_montana_frodo_baggins_v_rocky_balboa   \n",
       "2       darth_vader_katniss_everdeen_sorcerer_donnie_d...   \n",
       "3                                      lara_croft_glimmer   \n",
       "4       jason_bourne_surreal_the_terminator_indiana_jones   \n",
       "...                                                   ...   \n",
       "162753  the_joker_ethereal_captain_jack_sparrow_fantastic   \n",
       "162754  e.t._hannibal_lecter_vito_corleone_katniss_eve...   \n",
       "162755                     infinite_enigma_luke_skywalker   \n",
       "162756                  emerald_oracle_iron_man_wolverine   \n",
       "162757         james_t._kirk_phenomenal_zephyr_chronicles   \n",
       "\n",
       "               reviewerName  isFrequentReviewer  \\\n",
       "0            Benjamin Henry               False   \n",
       "1             Felicia Lopez               False   \n",
       "2       Mr. Charles Burgess                True   \n",
       "3              Ryan Barrett               False   \n",
       "4          Alexander Glover               False   \n",
       "...                     ...                 ...   \n",
       "162753        Danny Mueller               False   \n",
       "162754     Jennifer Clayton                True   \n",
       "162755         Bryan Wilson               False   \n",
       "162756          Erik Parker               False   \n",
       "162757         Howard Evans               False   \n",
       "\n",
       "                                               reviewText sentiment  \\\n",
       "0       Henry Selick s first movie since      s Corali...  POSITIVE   \n",
       "1       With a cast that reads like the Vogue Oscar pa...  NEGATIVE   \n",
       "2       Creed II does not give us anything but another...  POSITIVE   \n",
       "3       I know what you re thinking, but this is no Li...  POSITIVE   \n",
       "4       Director Fernando Meirelles tells the story wi...  POSITIVE   \n",
       "...                                                   ...       ...   \n",
       "162753  A top notch thriller with genuine surprises an...  POSITIVE   \n",
       "162754  Some people find Derek Zoolander funny and lik...  NEGATIVE   \n",
       "162755  This fun, gentle comedy focuses mainly on them...  POSITIVE   \n",
       "162756  The film is rescued by a strong third act, but...  NEGATIVE   \n",
       "162757          A peerless exercise in stimulus response   POSITIVE   \n",
       "\n",
       "       isMissingReview  \n",
       "0                False  \n",
       "1                False  \n",
       "2                False  \n",
       "3                False  \n",
       "4                False  \n",
       "...                ...  \n",
       "162753           False  \n",
       "162754           False  \n",
       "162755           False  \n",
       "162756           False  \n",
       "162757           False  \n",
       "\n",
       "[162758 rows x 6 columns]"
      ]
     },
     "execution_count": 31,
     "metadata": {},
     "output_type": "execute_result"
    }
   ],
   "source": [
    "from sklearn.impute import SimpleImputer\n",
    "si = SimpleImputer(missing_values=np.nan,strategy='constant', fill_value='No Review', add_indicator=True)\n",
    "si.fit(np.array(train.reviewText).reshape(-1,1))\n",
    "train[['reviewText', 'isMissingReview']] = pd.DataFrame(si.transform(np.array(train.reviewText).reshape(-1,1)))\n",
    "train"
   ]
  },
  {
   "cell_type": "code",
   "execution_count": 32,
   "id": "dea52883",
   "metadata": {
    "execution": {
     "iopub.execute_input": "2023-08-13T18:21:58.705194Z",
     "iopub.status.busy": "2023-08-13T18:21:58.704782Z",
     "iopub.status.idle": "2023-08-13T18:21:58.724517Z",
     "shell.execute_reply": "2023-08-13T18:21:58.723213Z"
    },
    "papermill": {
     "duration": 0.061875,
     "end_time": "2023-08-13T18:21:58.727383",
     "exception": false,
     "start_time": "2023-08-13T18:21:58.665508",
     "status": "completed"
    },
    "tags": []
   },
   "outputs": [],
   "source": [
    "test[['reviewText', 'isMissingReview']] = pd.DataFrame(si.transform(np.array(test.reviewText).reshape(-1,1)))"
   ]
  },
  {
   "cell_type": "code",
   "execution_count": 33,
   "id": "86cc598b",
   "metadata": {
    "execution": {
     "iopub.execute_input": "2023-08-13T18:21:58.806218Z",
     "iopub.status.busy": "2023-08-13T18:21:58.805371Z",
     "iopub.status.idle": "2023-08-13T18:21:58.820763Z",
     "shell.execute_reply": "2023-08-13T18:21:58.819716Z"
    },
    "papermill": {
     "duration": 0.056642,
     "end_time": "2023-08-13T18:21:58.823204",
     "exception": false,
     "start_time": "2023-08-13T18:21:58.766562",
     "status": "completed"
    },
    "tags": []
   },
   "outputs": [
    {
     "data": {
      "text/html": [
       "<div>\n",
       "<style scoped>\n",
       "    .dataframe tbody tr th:only-of-type {\n",
       "        vertical-align: middle;\n",
       "    }\n",
       "\n",
       "    .dataframe tbody tr th {\n",
       "        vertical-align: top;\n",
       "    }\n",
       "\n",
       "    .dataframe thead th {\n",
       "        text-align: right;\n",
       "    }\n",
       "</style>\n",
       "<table border=\"1\" class=\"dataframe\">\n",
       "  <thead>\n",
       "    <tr style=\"text-align: right;\">\n",
       "      <th></th>\n",
       "      <th>movieid</th>\n",
       "      <th>reviewerName</th>\n",
       "      <th>isTopCritic</th>\n",
       "      <th>reviewText</th>\n",
       "      <th>isMissingReview</th>\n",
       "    </tr>\n",
       "  </thead>\n",
       "  <tbody>\n",
       "    <tr>\n",
       "      <th>0</th>\n",
       "      <td>legend_marty_mcfly_oracle</td>\n",
       "      <td>John Kim</td>\n",
       "      <td>False</td>\n",
       "      <td>Green slowly cranks up the dread with style an...</td>\n",
       "      <td>False</td>\n",
       "    </tr>\n",
       "    <tr>\n",
       "      <th>1</th>\n",
       "      <td>terminator_katniss_everdeen_glimmer</td>\n",
       "      <td>Brian Chaney</td>\n",
       "      <td>False</td>\n",
       "      <td>Philip Noyce s direction is elegant and unforc...</td>\n",
       "      <td>False</td>\n",
       "    </tr>\n",
       "    <tr>\n",
       "      <th>2</th>\n",
       "      <td>james_bond_labyrinth_gollum</td>\n",
       "      <td>Danielle Parker</td>\n",
       "      <td>False</td>\n",
       "      <td>It wouldn t do to say what path Maria ultimate...</td>\n",
       "      <td>False</td>\n",
       "    </tr>\n",
       "    <tr>\n",
       "      <th>3</th>\n",
       "      <td>v_quest_han_solo_wondrous</td>\n",
       "      <td>Brittany Lane</td>\n",
       "      <td>False</td>\n",
       "      <td>Pig is not exactly the arthouse John Wick that...</td>\n",
       "      <td>False</td>\n",
       "    </tr>\n",
       "    <tr>\n",
       "      <th>4</th>\n",
       "      <td>enigma_hulk_surreal_starlight</td>\n",
       "      <td>Justin Willis</td>\n",
       "      <td>False</td>\n",
       "      <td>An imaginative no budget musical of sorts abou...</td>\n",
       "      <td>False</td>\n",
       "    </tr>\n",
       "    <tr>\n",
       "      <th>...</th>\n",
       "      <td>...</td>\n",
       "      <td>...</td>\n",
       "      <td>...</td>\n",
       "      <td>...</td>\n",
       "      <td>...</td>\n",
       "    </tr>\n",
       "    <tr>\n",
       "      <th>55310</th>\n",
       "      <td>celestial_radiant</td>\n",
       "      <td>Jose Mccormick</td>\n",
       "      <td>False</td>\n",
       "      <td>Ron Howard delivers an unconventional romantic...</td>\n",
       "      <td>False</td>\n",
       "    </tr>\n",
       "    <tr>\n",
       "      <th>55311</th>\n",
       "      <td>vivid_james_t._kirk</td>\n",
       "      <td>Thomas Osborne</td>\n",
       "      <td>False</td>\n",
       "      <td>As an oddball art film that openly invites you...</td>\n",
       "      <td>False</td>\n",
       "    </tr>\n",
       "    <tr>\n",
       "      <th>55312</th>\n",
       "      <td>scarlett_o'hara_neo_scarlett_o'hara_infinite</td>\n",
       "      <td>Julie Kirby</td>\n",
       "      <td>False</td>\n",
       "      <td>Nicholson wears his devilish grin from his fir...</td>\n",
       "      <td>False</td>\n",
       "    </tr>\n",
       "    <tr>\n",
       "      <th>55313</th>\n",
       "      <td>terminator_epic_rocky_balboa_mystic</td>\n",
       "      <td>Tina Sutton</td>\n",
       "      <td>True</td>\n",
       "      <td>It s hard not be entertained by two dozen of C...</td>\n",
       "      <td>False</td>\n",
       "    </tr>\n",
       "    <tr>\n",
       "      <th>55314</th>\n",
       "      <td>wolverine_enigma_ellis_redding_gandalf</td>\n",
       "      <td>Taylor Wilcox</td>\n",
       "      <td>True</td>\n",
       "      <td>Not clever enough for Smith fans, not gross en...</td>\n",
       "      <td>False</td>\n",
       "    </tr>\n",
       "  </tbody>\n",
       "</table>\n",
       "<p>55315 rows × 5 columns</p>\n",
       "</div>"
      ],
      "text/plain": [
       "                                            movieid     reviewerName  \\\n",
       "0                         legend_marty_mcfly_oracle         John Kim   \n",
       "1               terminator_katniss_everdeen_glimmer     Brian Chaney   \n",
       "2                       james_bond_labyrinth_gollum  Danielle Parker   \n",
       "3                         v_quest_han_solo_wondrous    Brittany Lane   \n",
       "4                     enigma_hulk_surreal_starlight    Justin Willis   \n",
       "...                                             ...              ...   \n",
       "55310                             celestial_radiant   Jose Mccormick   \n",
       "55311                           vivid_james_t._kirk   Thomas Osborne   \n",
       "55312  scarlett_o'hara_neo_scarlett_o'hara_infinite      Julie Kirby   \n",
       "55313           terminator_epic_rocky_balboa_mystic      Tina Sutton   \n",
       "55314        wolverine_enigma_ellis_redding_gandalf    Taylor Wilcox   \n",
       "\n",
       "       isTopCritic                                         reviewText  \\\n",
       "0            False  Green slowly cranks up the dread with style an...   \n",
       "1            False  Philip Noyce s direction is elegant and unforc...   \n",
       "2            False  It wouldn t do to say what path Maria ultimate...   \n",
       "3            False  Pig is not exactly the arthouse John Wick that...   \n",
       "4            False  An imaginative no budget musical of sorts abou...   \n",
       "...            ...                                                ...   \n",
       "55310        False  Ron Howard delivers an unconventional romantic...   \n",
       "55311        False  As an oddball art film that openly invites you...   \n",
       "55312        False  Nicholson wears his devilish grin from his fir...   \n",
       "55313         True  It s hard not be entertained by two dozen of C...   \n",
       "55314         True  Not clever enough for Smith fans, not gross en...   \n",
       "\n",
       "      isMissingReview  \n",
       "0               False  \n",
       "1               False  \n",
       "2               False  \n",
       "3               False  \n",
       "4               False  \n",
       "...               ...  \n",
       "55310           False  \n",
       "55311           False  \n",
       "55312           False  \n",
       "55313           False  \n",
       "55314           False  \n",
       "\n",
       "[55315 rows x 5 columns]"
      ]
     },
     "execution_count": 33,
     "metadata": {},
     "output_type": "execute_result"
    }
   ],
   "source": [
    "test"
   ]
  },
  {
   "cell_type": "code",
   "execution_count": 34,
   "id": "3860ddcc",
   "metadata": {
    "execution": {
     "iopub.execute_input": "2023-08-13T18:21:58.902209Z",
     "iopub.status.busy": "2023-08-13T18:21:58.901762Z",
     "iopub.status.idle": "2023-08-13T18:21:58.906756Z",
     "shell.execute_reply": "2023-08-13T18:21:58.905762Z"
    },
    "papermill": {
     "duration": 0.046424,
     "end_time": "2023-08-13T18:21:58.909011",
     "exception": false,
     "start_time": "2023-08-13T18:21:58.862587",
     "status": "completed"
    },
    "tags": []
   },
   "outputs": [],
   "source": [
    "# import os\n",
    "\n",
    "# # Specify the file path you want to delete\n",
    "# file_path = '/kaggle/working/train_pr.pkl'\n",
    "\n",
    "# # Delete the file\n",
    "# if os.path.exists(file_path):\n",
    "#     os.remove(file_path)\n",
    "#     print(f\"File '{file_path}' has been deleted.\")\n",
    "# else:\n",
    "#     print(f\"File '{file_path}' does not exist.\")"
   ]
  },
  {
   "cell_type": "code",
   "execution_count": 35,
   "id": "21020743",
   "metadata": {
    "execution": {
     "iopub.execute_input": "2023-08-13T18:21:58.987044Z",
     "iopub.status.busy": "2023-08-13T18:21:58.986642Z",
     "iopub.status.idle": "2023-08-13T18:22:43.189862Z",
     "shell.execute_reply": "2023-08-13T18:22:43.188496Z"
    },
    "papermill": {
     "duration": 44.245621,
     "end_time": "2023-08-13T18:22:43.192661",
     "exception": false,
     "start_time": "2023-08-13T18:21:58.947040",
     "status": "completed"
    },
    "tags": []
   },
   "outputs": [],
   "source": [
    "train.reviewText = train.reviewText.apply(preprocess_text)\n",
    "test.reviewText = test.reviewText.apply(preprocess_text)"
   ]
  },
  {
   "cell_type": "code",
   "execution_count": 36,
   "id": "191805b2",
   "metadata": {
    "execution": {
     "iopub.execute_input": "2023-08-13T18:22:43.271091Z",
     "iopub.status.busy": "2023-08-13T18:22:43.270663Z",
     "iopub.status.idle": "2023-08-13T18:22:43.289065Z",
     "shell.execute_reply": "2023-08-13T18:22:43.287890Z"
    },
    "papermill": {
     "duration": 0.060966,
     "end_time": "2023-08-13T18:22:43.291719",
     "exception": false,
     "start_time": "2023-08-13T18:22:43.230753",
     "status": "completed"
    },
    "tags": []
   },
   "outputs": [
    {
     "data": {
      "text/html": [
       "<div>\n",
       "<style scoped>\n",
       "    .dataframe tbody tr th:only-of-type {\n",
       "        vertical-align: middle;\n",
       "    }\n",
       "\n",
       "    .dataframe tbody tr th {\n",
       "        vertical-align: top;\n",
       "    }\n",
       "\n",
       "    .dataframe thead th {\n",
       "        text-align: right;\n",
       "    }\n",
       "</style>\n",
       "<table border=\"1\" class=\"dataframe\">\n",
       "  <thead>\n",
       "    <tr style=\"text-align: right;\">\n",
       "      <th></th>\n",
       "      <th>movieid</th>\n",
       "      <th>reviewerName</th>\n",
       "      <th>isFrequentReviewer</th>\n",
       "      <th>reviewText</th>\n",
       "      <th>sentiment</th>\n",
       "      <th>isMissingReview</th>\n",
       "    </tr>\n",
       "  </thead>\n",
       "  <tbody>\n",
       "    <tr>\n",
       "      <th>0</th>\n",
       "      <td>marvelous_pirate</td>\n",
       "      <td>Benjamin Henry</td>\n",
       "      <td>False</td>\n",
       "      <td>henri selick s first movie since s coraline hi...</td>\n",
       "      <td>POSITIVE</td>\n",
       "      <td>False</td>\n",
       "    </tr>\n",
       "    <tr>\n",
       "      <th>1</th>\n",
       "      <td>tony_montana_frodo_baggins_v_rocky_balboa</td>\n",
       "      <td>Felicia Lopez</td>\n",
       "      <td>False</td>\n",
       "      <td>with a cast that read like the vogue oscar par...</td>\n",
       "      <td>NEGATIVE</td>\n",
       "      <td>False</td>\n",
       "    </tr>\n",
       "    <tr>\n",
       "      <th>2</th>\n",
       "      <td>darth_vader_katniss_everdeen_sorcerer_donnie_d...</td>\n",
       "      <td>Mr. Charles Burgess</td>\n",
       "      <td>True</td>\n",
       "      <td>cree ii doe not g us anyth but another, slight...</td>\n",
       "      <td>POSITIVE</td>\n",
       "      <td>False</td>\n",
       "    </tr>\n",
       "    <tr>\n",
       "      <th>3</th>\n",
       "      <td>lara_croft_glimmer</td>\n",
       "      <td>Ryan Barrett</td>\n",
       "      <td>False</td>\n",
       "      <td>i know what y re thinking, but thi is no limit...</td>\n",
       "      <td>POSITIVE</td>\n",
       "      <td>False</td>\n",
       "    </tr>\n",
       "    <tr>\n",
       "      <th>4</th>\n",
       "      <td>jason_bourne_surreal_the_terminator_indiana_jones</td>\n",
       "      <td>Alexander Glover</td>\n",
       "      <td>False</td>\n",
       "      <td>director fernando meirelle tell the stori with...</td>\n",
       "      <td>POSITIVE</td>\n",
       "      <td>False</td>\n",
       "    </tr>\n",
       "    <tr>\n",
       "      <th>...</th>\n",
       "      <td>...</td>\n",
       "      <td>...</td>\n",
       "      <td>...</td>\n",
       "      <td>...</td>\n",
       "      <td>...</td>\n",
       "      <td>...</td>\n",
       "    </tr>\n",
       "    <tr>\n",
       "      <th>162753</th>\n",
       "      <td>the_joker_ethereal_captain_jack_sparrow_fantastic</td>\n",
       "      <td>Danny Mueller</td>\n",
       "      <td>False</td>\n",
       "      <td>a top notch thrill with genuine surprise and a...</td>\n",
       "      <td>POSITIVE</td>\n",
       "      <td>False</td>\n",
       "    </tr>\n",
       "    <tr>\n",
       "      <th>162754</th>\n",
       "      <td>e.t._hannibal_lecter_vito_corleone_katniss_eve...</td>\n",
       "      <td>Jennifer Clayton</td>\n",
       "      <td>True</td>\n",
       "      <td>some people find derek zooland funni and lik a...</td>\n",
       "      <td>NEGATIVE</td>\n",
       "      <td>False</td>\n",
       "    </tr>\n",
       "    <tr>\n",
       "      <th>162755</th>\n",
       "      <td>infinite_enigma_luke_skywalker</td>\n",
       "      <td>Bryan Wilson</td>\n",
       "      <td>False</td>\n",
       "      <td>thi fun, gentle comedi focuse mainli on theme ...</td>\n",
       "      <td>POSITIVE</td>\n",
       "      <td>False</td>\n",
       "    </tr>\n",
       "    <tr>\n",
       "      <th>162756</th>\n",
       "      <td>emerald_oracle_iron_man_wolverine</td>\n",
       "      <td>Erik Parker</td>\n",
       "      <td>False</td>\n",
       "      <td>the film is rescu by a strong third act, but g...</td>\n",
       "      <td>NEGATIVE</td>\n",
       "      <td>False</td>\n",
       "    </tr>\n",
       "    <tr>\n",
       "      <th>162757</th>\n",
       "      <td>james_t._kirk_phenomenal_zephyr_chronicles</td>\n",
       "      <td>Howard Evans</td>\n",
       "      <td>False</td>\n",
       "      <td>a peerless exercise in stimulu response</td>\n",
       "      <td>POSITIVE</td>\n",
       "      <td>False</td>\n",
       "    </tr>\n",
       "  </tbody>\n",
       "</table>\n",
       "<p>162758 rows × 6 columns</p>\n",
       "</div>"
      ],
      "text/plain": [
       "                                                  movieid  \\\n",
       "0                                        marvelous_pirate   \n",
       "1               tony_montana_frodo_baggins_v_rocky_balboa   \n",
       "2       darth_vader_katniss_everdeen_sorcerer_donnie_d...   \n",
       "3                                      lara_croft_glimmer   \n",
       "4       jason_bourne_surreal_the_terminator_indiana_jones   \n",
       "...                                                   ...   \n",
       "162753  the_joker_ethereal_captain_jack_sparrow_fantastic   \n",
       "162754  e.t._hannibal_lecter_vito_corleone_katniss_eve...   \n",
       "162755                     infinite_enigma_luke_skywalker   \n",
       "162756                  emerald_oracle_iron_man_wolverine   \n",
       "162757         james_t._kirk_phenomenal_zephyr_chronicles   \n",
       "\n",
       "               reviewerName  isFrequentReviewer  \\\n",
       "0            Benjamin Henry               False   \n",
       "1             Felicia Lopez               False   \n",
       "2       Mr. Charles Burgess                True   \n",
       "3              Ryan Barrett               False   \n",
       "4          Alexander Glover               False   \n",
       "...                     ...                 ...   \n",
       "162753        Danny Mueller               False   \n",
       "162754     Jennifer Clayton                True   \n",
       "162755         Bryan Wilson               False   \n",
       "162756          Erik Parker               False   \n",
       "162757         Howard Evans               False   \n",
       "\n",
       "                                               reviewText sentiment  \\\n",
       "0       henri selick s first movie since s coraline hi...  POSITIVE   \n",
       "1       with a cast that read like the vogue oscar par...  NEGATIVE   \n",
       "2       cree ii doe not g us anyth but another, slight...  POSITIVE   \n",
       "3       i know what y re thinking, but thi is no limit...  POSITIVE   \n",
       "4       director fernando meirelle tell the stori with...  POSITIVE   \n",
       "...                                                   ...       ...   \n",
       "162753  a top notch thrill with genuine surprise and a...  POSITIVE   \n",
       "162754  some people find derek zooland funni and lik a...  NEGATIVE   \n",
       "162755  thi fun, gentle comedi focuse mainli on theme ...  POSITIVE   \n",
       "162756  the film is rescu by a strong third act, but g...  NEGATIVE   \n",
       "162757            a peerless exercise in stimulu response  POSITIVE   \n",
       "\n",
       "       isMissingReview  \n",
       "0                False  \n",
       "1                False  \n",
       "2                False  \n",
       "3                False  \n",
       "4                False  \n",
       "...                ...  \n",
       "162753           False  \n",
       "162754           False  \n",
       "162755           False  \n",
       "162756           False  \n",
       "162757           False  \n",
       "\n",
       "[162758 rows x 6 columns]"
      ]
     },
     "execution_count": 36,
     "metadata": {},
     "output_type": "execute_result"
    }
   ],
   "source": [
    "train"
   ]
  },
  {
   "cell_type": "code",
   "execution_count": 37,
   "id": "ca17d37a",
   "metadata": {
    "execution": {
     "iopub.execute_input": "2023-08-13T18:22:43.373656Z",
     "iopub.status.busy": "2023-08-13T18:22:43.372870Z",
     "iopub.status.idle": "2023-08-13T18:22:43.640204Z",
     "shell.execute_reply": "2023-08-13T18:22:43.639053Z"
    },
    "papermill": {
     "duration": 0.311967,
     "end_time": "2023-08-13T18:22:43.642689",
     "exception": false,
     "start_time": "2023-08-13T18:22:43.330722",
     "status": "completed"
    },
    "tags": []
   },
   "outputs": [
    {
     "data": {
      "text/plain": [
       "movieid               0\n",
       "reviewerName          0\n",
       "isFrequentReviewer    0\n",
       "reviewText            0\n",
       "sentiment             0\n",
       "isMissingReview       0\n",
       "dtype: int64"
      ]
     },
     "execution_count": 37,
     "metadata": {},
     "output_type": "execute_result"
    }
   ],
   "source": [
    "train.isna().sum()"
   ]
  },
  {
   "cell_type": "code",
   "execution_count": 38,
   "id": "02c95bbd",
   "metadata": {
    "execution": {
     "iopub.execute_input": "2023-08-13T18:22:43.723495Z",
     "iopub.status.busy": "2023-08-13T18:22:43.722209Z",
     "iopub.status.idle": "2023-08-13T18:22:44.221988Z",
     "shell.execute_reply": "2023-08-13T18:22:44.220631Z"
    },
    "papermill": {
     "duration": 0.543121,
     "end_time": "2023-08-13T18:22:44.224540",
     "exception": false,
     "start_time": "2023-08-13T18:22:43.681419",
     "status": "completed"
    },
    "tags": []
   },
   "outputs": [
    {
     "name": "stdout",
     "output_type": "stream",
     "text": [
      "Percentage of Null Values in the Merged Data Frame:\n",
      " movieid                  0.000000\n",
      "title                    0.000000\n",
      "audienceScore           48.869871\n",
      "rating                  90.233704\n",
      "ratingContents          90.233704\n",
      "releaseDateTheaters     78.519175\n",
      "releaseDateStreaming    44.561560\n",
      "runtimeMinutes           9.651817\n",
      "genre                    7.736392\n",
      "originalLanguage         9.673456\n",
      "director                 0.000000\n",
      "boxOffice               89.708777\n",
      "distributor             83.941560\n",
      "soundType               88.889277\n",
      "dtype: float64\n"
     ]
    }
   ],
   "source": [
    "print('Percentage of Null Values in the Merged Data Frame:\\n', movies.isna().sum()/movies.shape[0] * 100)"
   ]
  },
  {
   "cell_type": "code",
   "execution_count": 39,
   "id": "66632c91",
   "metadata": {
    "execution": {
     "iopub.execute_input": "2023-08-13T18:22:44.305145Z",
     "iopub.status.busy": "2023-08-13T18:22:44.304370Z",
     "iopub.status.idle": "2023-08-13T18:22:44.321795Z",
     "shell.execute_reply": "2023-08-13T18:22:44.320131Z"
    },
    "papermill": {
     "duration": 0.061283,
     "end_time": "2023-08-13T18:22:44.324989",
     "exception": false,
     "start_time": "2023-08-13T18:22:44.263706",
     "status": "completed"
    },
    "tags": []
   },
   "outputs": [],
   "source": [
    "movies_data = movies.drop(['rating','ratingContents','releaseDateTheaters','boxOffice','distributor','soundType'],axis=1)"
   ]
  },
  {
   "cell_type": "code",
   "execution_count": 40,
   "id": "69432b52",
   "metadata": {
    "execution": {
     "iopub.execute_input": "2023-08-13T18:22:44.406305Z",
     "iopub.status.busy": "2023-08-13T18:22:44.405881Z",
     "iopub.status.idle": "2023-08-13T18:22:44.429013Z",
     "shell.execute_reply": "2023-08-13T18:22:44.427937Z"
    },
    "papermill": {
     "duration": 0.06761,
     "end_time": "2023-08-13T18:22:44.431576",
     "exception": false,
     "start_time": "2023-08-13T18:22:44.363966",
     "status": "completed"
    },
    "tags": []
   },
   "outputs": [
    {
     "data": {
      "text/html": [
       "<div>\n",
       "<style scoped>\n",
       "    .dataframe tbody tr th:only-of-type {\n",
       "        vertical-align: middle;\n",
       "    }\n",
       "\n",
       "    .dataframe tbody tr th {\n",
       "        vertical-align: top;\n",
       "    }\n",
       "\n",
       "    .dataframe thead th {\n",
       "        text-align: right;\n",
       "    }\n",
       "</style>\n",
       "<table border=\"1\" class=\"dataframe\">\n",
       "  <thead>\n",
       "    <tr style=\"text-align: right;\">\n",
       "      <th></th>\n",
       "      <th>movieid</th>\n",
       "      <th>title</th>\n",
       "      <th>audienceScore</th>\n",
       "      <th>releaseDateStreaming</th>\n",
       "      <th>runtimeMinutes</th>\n",
       "      <th>genre</th>\n",
       "      <th>originalLanguage</th>\n",
       "      <th>director</th>\n",
       "    </tr>\n",
       "  </thead>\n",
       "  <tbody>\n",
       "    <tr>\n",
       "      <th>0</th>\n",
       "      <td>han_solo_heroic_myth_wonder_woman</td>\n",
       "      <td>Han Solo Heroic Myth Wonder Woman</td>\n",
       "      <td>50.0</td>\n",
       "      <td>2018-08-25</td>\n",
       "      <td>75.0</td>\n",
       "      <td>Comedy, Horror, Sci-fi</td>\n",
       "      <td>English</td>\n",
       "      <td>Claude Nicolet</td>\n",
       "    </tr>\n",
       "    <tr>\n",
       "      <th>1</th>\n",
       "      <td>voyage_tyler_durden_han_solo_stardust</td>\n",
       "      <td>Voyage Tyler Durden Han Solo Stardust</td>\n",
       "      <td>NaN</td>\n",
       "      <td>2020-02-11</td>\n",
       "      <td>114.0</td>\n",
       "      <td>Drama</td>\n",
       "      <td>English</td>\n",
       "      <td>Nathan Haack</td>\n",
       "    </tr>\n",
       "    <tr>\n",
       "      <th>2</th>\n",
       "      <td>norman_bates_ferris_bueller_hermione_granger_v...</td>\n",
       "      <td>Norman Bates Ferris Bueller Hermione Granger V...</td>\n",
       "      <td>43.0</td>\n",
       "      <td>NaN</td>\n",
       "      <td>120.0</td>\n",
       "      <td>Drama</td>\n",
       "      <td>Korean</td>\n",
       "      <td>Theresa Smith</td>\n",
       "    </tr>\n",
       "    <tr>\n",
       "      <th>3</th>\n",
       "      <td>elegant_hermione_granger</td>\n",
       "      <td>Elegant Hermione Granger</td>\n",
       "      <td>60.0</td>\n",
       "      <td>2020-10-23</td>\n",
       "      <td>90.0</td>\n",
       "      <td>Action, Mystery &amp; thriller</td>\n",
       "      <td>English</td>\n",
       "      <td>Donald Lewis</td>\n",
       "    </tr>\n",
       "    <tr>\n",
       "      <th>4</th>\n",
       "      <td>adventure_rocky_balboa</td>\n",
       "      <td>Adventure Rocky Balboa</td>\n",
       "      <td>70.0</td>\n",
       "      <td>2017-03-27</td>\n",
       "      <td>80.0</td>\n",
       "      <td>Fantasy, Adventure, Animation</td>\n",
       "      <td>English</td>\n",
       "      <td>Howard Simms</td>\n",
       "    </tr>\n",
       "    <tr>\n",
       "      <th>...</th>\n",
       "      <td>...</td>\n",
       "      <td>...</td>\n",
       "      <td>...</td>\n",
       "      <td>...</td>\n",
       "      <td>...</td>\n",
       "      <td>...</td>\n",
       "      <td>...</td>\n",
       "      <td>...</td>\n",
       "    </tr>\n",
       "    <tr>\n",
       "      <th>143253</th>\n",
       "      <td>sherlock_holmes_surreal_james_bond</td>\n",
       "      <td>Sherlock Holmes Surreal James Bond</td>\n",
       "      <td>14.0</td>\n",
       "      <td>NaN</td>\n",
       "      <td>90.0</td>\n",
       "      <td>Action, Adventure, Anime</td>\n",
       "      <td>Japanese</td>\n",
       "      <td>William Sims</td>\n",
       "    </tr>\n",
       "    <tr>\n",
       "      <th>143254</th>\n",
       "      <td>mr._miyagi_katniss_everdeen_harmony</td>\n",
       "      <td>Mr. Miyagi Katniss Everdeen Harmony</td>\n",
       "      <td>NaN</td>\n",
       "      <td>NaN</td>\n",
       "      <td>99.0</td>\n",
       "      <td>Drama</td>\n",
       "      <td>English</td>\n",
       "      <td>Robert Paddock</td>\n",
       "    </tr>\n",
       "    <tr>\n",
       "      <th>143255</th>\n",
       "      <td>elegant_emerald_valiant_donnie_darko</td>\n",
       "      <td>Elegant Emerald Valiant Donnie Darko</td>\n",
       "      <td>71.0</td>\n",
       "      <td>NaN</td>\n",
       "      <td>43.0</td>\n",
       "      <td>Documentary</td>\n",
       "      <td>English</td>\n",
       "      <td>Roy Lovelace</td>\n",
       "    </tr>\n",
       "    <tr>\n",
       "      <th>143256</th>\n",
       "      <td>wonder_hermione_granger_hulk_v</td>\n",
       "      <td>Wonder Hermione Granger Hulk V</td>\n",
       "      <td>NaN</td>\n",
       "      <td>2006-11-21</td>\n",
       "      <td>63.0</td>\n",
       "      <td>Drama</td>\n",
       "      <td>English</td>\n",
       "      <td>Dwayne Clayton</td>\n",
       "    </tr>\n",
       "    <tr>\n",
       "      <th>143257</th>\n",
       "      <td>lara_croft_voyage</td>\n",
       "      <td>Lara Croft Voyage</td>\n",
       "      <td>NaN</td>\n",
       "      <td>NaN</td>\n",
       "      <td>90.0</td>\n",
       "      <td>Horror</td>\n",
       "      <td>English</td>\n",
       "      <td>Valerie Mcneal</td>\n",
       "    </tr>\n",
       "  </tbody>\n",
       "</table>\n",
       "<p>143258 rows × 8 columns</p>\n",
       "</div>"
      ],
      "text/plain": [
       "                                                  movieid  \\\n",
       "0                       han_solo_heroic_myth_wonder_woman   \n",
       "1                   voyage_tyler_durden_han_solo_stardust   \n",
       "2       norman_bates_ferris_bueller_hermione_granger_v...   \n",
       "3                                elegant_hermione_granger   \n",
       "4                                  adventure_rocky_balboa   \n",
       "...                                                   ...   \n",
       "143253                 sherlock_holmes_surreal_james_bond   \n",
       "143254                mr._miyagi_katniss_everdeen_harmony   \n",
       "143255               elegant_emerald_valiant_donnie_darko   \n",
       "143256                     wonder_hermione_granger_hulk_v   \n",
       "143257                                  lara_croft_voyage   \n",
       "\n",
       "                                                    title  audienceScore  \\\n",
       "0                       Han Solo Heroic Myth Wonder Woman           50.0   \n",
       "1                   Voyage Tyler Durden Han Solo Stardust            NaN   \n",
       "2       Norman Bates Ferris Bueller Hermione Granger V...           43.0   \n",
       "3                                Elegant Hermione Granger           60.0   \n",
       "4                                  Adventure Rocky Balboa           70.0   \n",
       "...                                                   ...            ...   \n",
       "143253                 Sherlock Holmes Surreal James Bond           14.0   \n",
       "143254                Mr. Miyagi Katniss Everdeen Harmony            NaN   \n",
       "143255               Elegant Emerald Valiant Donnie Darko           71.0   \n",
       "143256                     Wonder Hermione Granger Hulk V            NaN   \n",
       "143257                                  Lara Croft Voyage            NaN   \n",
       "\n",
       "       releaseDateStreaming  runtimeMinutes                          genre  \\\n",
       "0                2018-08-25            75.0         Comedy, Horror, Sci-fi   \n",
       "1                2020-02-11           114.0                          Drama   \n",
       "2                       NaN           120.0                          Drama   \n",
       "3                2020-10-23            90.0     Action, Mystery & thriller   \n",
       "4                2017-03-27            80.0  Fantasy, Adventure, Animation   \n",
       "...                     ...             ...                            ...   \n",
       "143253                  NaN            90.0       Action, Adventure, Anime   \n",
       "143254                  NaN            99.0                          Drama   \n",
       "143255                  NaN            43.0                    Documentary   \n",
       "143256           2006-11-21            63.0                          Drama   \n",
       "143257                  NaN            90.0                         Horror   \n",
       "\n",
       "       originalLanguage        director  \n",
       "0               English  Claude Nicolet  \n",
       "1               English    Nathan Haack  \n",
       "2                Korean   Theresa Smith  \n",
       "3               English    Donald Lewis  \n",
       "4               English    Howard Simms  \n",
       "...                 ...             ...  \n",
       "143253         Japanese    William Sims  \n",
       "143254          English  Robert Paddock  \n",
       "143255          English    Roy Lovelace  \n",
       "143256          English  Dwayne Clayton  \n",
       "143257          English  Valerie Mcneal  \n",
       "\n",
       "[143258 rows x 8 columns]"
      ]
     },
     "execution_count": 40,
     "metadata": {},
     "output_type": "execute_result"
    }
   ],
   "source": [
    "movies_data"
   ]
  },
  {
   "cell_type": "code",
   "execution_count": 41,
   "id": "edf0ac19",
   "metadata": {
    "execution": {
     "iopub.execute_input": "2023-08-13T18:22:44.512514Z",
     "iopub.status.busy": "2023-08-13T18:22:44.511846Z",
     "iopub.status.idle": "2023-08-13T18:22:44.576868Z",
     "shell.execute_reply": "2023-08-13T18:22:44.575847Z"
    },
    "papermill": {
     "duration": 0.108643,
     "end_time": "2023-08-13T18:22:44.579540",
     "exception": false,
     "start_time": "2023-08-13T18:22:44.470897",
     "status": "completed"
    },
    "tags": []
   },
   "outputs": [],
   "source": [
    "movies_data['releaseDateStreaming'] = pd.to_datetime(movies_data['releaseDateStreaming']).dt.year"
   ]
  },
  {
   "cell_type": "markdown",
   "id": "d6e11c42",
   "metadata": {
    "papermill": {
     "duration": 0.039117,
     "end_time": "2023-08-13T18:22:44.661202",
     "exception": false,
     "start_time": "2023-08-13T18:22:44.622085",
     "status": "completed"
    },
    "tags": []
   },
   "source": [
    "- **Imputing `releaseDateStreaming` (Movies)**"
   ]
  },
  {
   "cell_type": "code",
   "execution_count": 42,
   "id": "5b3776f7",
   "metadata": {
    "execution": {
     "iopub.execute_input": "2023-08-13T18:22:44.741572Z",
     "iopub.status.busy": "2023-08-13T18:22:44.741166Z",
     "iopub.status.idle": "2023-08-13T18:22:44.760022Z",
     "shell.execute_reply": "2023-08-13T18:22:44.758780Z"
    },
    "papermill": {
     "duration": 0.062491,
     "end_time": "2023-08-13T18:22:44.762928",
     "exception": false,
     "start_time": "2023-08-13T18:22:44.700437",
     "status": "completed"
    },
    "tags": []
   },
   "outputs": [],
   "source": [
    "si_mfmode = SimpleImputer(missing_values = np.nan, strategy='most_frequent')\n",
    "movies_data['releaseDateStreaming'] = pd.DataFrame(si_mfmode.fit_transform(np.array(movies_data['releaseDateStreaming']).reshape(-1,1)))"
   ]
  },
  {
   "cell_type": "code",
   "execution_count": 43,
   "id": "fe050610",
   "metadata": {
    "execution": {
     "iopub.execute_input": "2023-08-13T18:22:44.844036Z",
     "iopub.status.busy": "2023-08-13T18:22:44.843637Z",
     "iopub.status.idle": "2023-08-13T18:22:44.852481Z",
     "shell.execute_reply": "2023-08-13T18:22:44.851334Z"
    },
    "papermill": {
     "duration": 0.052006,
     "end_time": "2023-08-13T18:22:44.854722",
     "exception": false,
     "start_time": "2023-08-13T18:22:44.802716",
     "status": "completed"
    },
    "tags": []
   },
   "outputs": [
    {
     "data": {
      "text/plain": [
       "0"
      ]
     },
     "execution_count": 43,
     "metadata": {},
     "output_type": "execute_result"
    }
   ],
   "source": [
    "movies_data['releaseDateStreaming'].isna().sum()"
   ]
  },
  {
   "cell_type": "markdown",
   "id": "b98a0b99",
   "metadata": {
    "papermill": {
     "duration": 0.039808,
     "end_time": "2023-08-13T18:22:44.935561",
     "exception": false,
     "start_time": "2023-08-13T18:22:44.895753",
     "status": "completed"
    },
    "tags": []
   },
   "source": [
    "- **Imputing `audienceScore` (Movies)**"
   ]
  },
  {
   "cell_type": "code",
   "execution_count": 44,
   "id": "82450406",
   "metadata": {
    "execution": {
     "iopub.execute_input": "2023-08-13T18:22:45.019219Z",
     "iopub.status.busy": "2023-08-13T18:22:45.018480Z",
     "iopub.status.idle": "2023-08-13T18:22:45.849513Z",
     "shell.execute_reply": "2023-08-13T18:22:45.848052Z"
    },
    "papermill": {
     "duration": 0.876585,
     "end_time": "2023-08-13T18:22:45.852268",
     "exception": false,
     "start_time": "2023-08-13T18:22:44.975683",
     "status": "completed"
    },
    "tags": []
   },
   "outputs": [
    {
     "data": {
      "image/png": "[encoded data removed]",
      "text/plain": [
       "<Figure size 640x480 with 1 Axes>"
      ]
     },
     "metadata": {},
     "output_type": "display_data"
    },
    {
     "name": "stdout",
     "output_type": "stream",
     "text": [
      "Skewness: -0.22568648273306127\n",
      "Mean: 55.67496723460026\n",
      "Median: 57.0\n",
      "Mode: 50.0\n"
     ]
    }
   ],
   "source": [
    "# Let's create a histogram to visualize the distribution\n",
    "sns.histplot(movies_data['audienceScore'], kde=True, bins=20)\n",
    "plt.xlabel('Audience Score')\n",
    "plt.ylabel('Frequency')\n",
    "plt.title('Distribution of Audience Scores')\n",
    "plt.show()\n",
    "\n",
    "# Calculate skewness\n",
    "skewness = movies_data['audienceScore'].skew()\n",
    "\n",
    "# Print the skewness, mean, and median\n",
    "print(\"Skewness:\", skewness)\n",
    "print(\"Mean:\", movies_data['audienceScore'].mean())\n",
    "print(\"Median:\", movies_data['audienceScore'].median())\n",
    "print(\"Mode:\", movies_data['audienceScore'].mode()[0])"
   ]
  },
  {
   "cell_type": "code",
   "execution_count": 45,
   "id": "03091582",
   "metadata": {
    "execution": {
     "iopub.execute_input": "2023-08-13T18:22:45.937139Z",
     "iopub.status.busy": "2023-08-13T18:22:45.936745Z",
     "iopub.status.idle": "2023-08-13T18:22:45.954361Z",
     "shell.execute_reply": "2023-08-13T18:22:45.953282Z"
    },
    "papermill": {
     "duration": 0.063622,
     "end_time": "2023-08-13T18:22:45.957113",
     "exception": false,
     "start_time": "2023-08-13T18:22:45.893491",
     "status": "completed"
    },
    "tags": []
   },
   "outputs": [],
   "source": [
    "# Calculate the mean and standard deviation of the 'audienceScore' column\n",
    "mean_audienceScore = movies_data['audienceScore'].mean()\n",
    "std_audienceScore = movies_data['audienceScore'].std()\n",
    "\n",
    "# Generate random samples from a Gaussian distribution with the same mean and standard deviation\n",
    "# Use the number of missing values as the size of the samples\n",
    "num_missing_values = movies_data['audienceScore'].isnull().sum()\n",
    "random_samples = np.random.normal(loc=mean_audienceScore, scale=std_audienceScore, size=num_missing_values)\n",
    "\n",
    "# Fill the missing values with the generated random samples\n",
    "missing_indices = movies_data['audienceScore'].isnull()\n",
    "movies_data.loc[missing_indices, 'audienceScore'] = random_samples"
   ]
  },
  {
   "cell_type": "code",
   "execution_count": 46,
   "id": "6b48ee17",
   "metadata": {
    "execution": {
     "iopub.execute_input": "2023-08-13T18:22:46.045044Z",
     "iopub.status.busy": "2023-08-13T18:22:46.044607Z",
     "iopub.status.idle": "2023-08-13T18:22:46.053379Z",
     "shell.execute_reply": "2023-08-13T18:22:46.052200Z"
    },
    "papermill": {
     "duration": 0.057293,
     "end_time": "2023-08-13T18:22:46.056211",
     "exception": false,
     "start_time": "2023-08-13T18:22:45.998918",
     "status": "completed"
    },
    "tags": []
   },
   "outputs": [
    {
     "data": {
      "text/plain": [
       "0"
      ]
     },
     "execution_count": 46,
     "metadata": {},
     "output_type": "execute_result"
    }
   ],
   "source": [
    "movies_data.audienceScore.isna().sum()"
   ]
  },
  {
   "cell_type": "markdown",
   "id": "14daee54",
   "metadata": {
    "papermill": {
     "duration": 0.041648,
     "end_time": "2023-08-13T18:22:46.140801",
     "exception": false,
     "start_time": "2023-08-13T18:22:46.099153",
     "status": "completed"
    },
    "tags": []
   },
   "source": [
    "- **Imputing `runtimeMinutes` (Movies)**"
   ]
  },
  {
   "cell_type": "code",
   "execution_count": 47,
   "id": "de280695",
   "metadata": {
    "execution": {
     "iopub.execute_input": "2023-08-13T18:22:46.225826Z",
     "iopub.status.busy": "2023-08-13T18:22:46.225387Z",
     "iopub.status.idle": "2023-08-13T18:22:47.351918Z",
     "shell.execute_reply": "2023-08-13T18:22:47.350484Z"
    },
    "papermill": {
     "duration": 1.171773,
     "end_time": "2023-08-13T18:22:47.354344",
     "exception": false,
     "start_time": "2023-08-13T18:22:46.182571",
     "status": "completed"
    },
    "tags": []
   },
   "outputs": [
    {
     "data": {
      "image/png": "[encoded data removed]",
      "text/plain": [
       "<Figure size 640x480 with 1 Axes>"
      ]
     },
     "metadata": {},
     "output_type": "display_data"
    },
    {
     "name": "stdout",
     "output_type": "stream",
     "text": [
      "Skewness: 7.623215088141611\n",
      "Mean: 93.70857831585941\n",
      "Median: 92.0\n"
     ]
    }
   ],
   "source": [
    "# Let's create a histogram to visualize the distribution\n",
    "sns.histplot(movies_data['runtimeMinutes'], kde=True, bins=20)\n",
    "plt.xlabel('Runtime (in Minutes)')\n",
    "plt.ylabel('Frequency')\n",
    "plt.title('Distribution of Audience Scores')\n",
    "plt.show()\n",
    "\n",
    "# Calculate skewness\n",
    "skewness_rm = movies_data['runtimeMinutes'].skew()\n",
    "\n",
    "# Print the skewness, mean, and median\n",
    "print(\"Skewness:\", skewness_rm)\n",
    "print(\"Mean:\", movies_data['runtimeMinutes'].mean())\n",
    "print(\"Median:\", movies_data['runtimeMinutes'].median())"
   ]
  },
  {
   "cell_type": "markdown",
   "id": "9e033659",
   "metadata": {
    "papermill": {
     "duration": 0.041281,
     "end_time": "2023-08-13T18:22:47.437279",
     "exception": false,
     "start_time": "2023-08-13T18:22:47.395998",
     "status": "completed"
    },
    "tags": []
   },
   "source": [
    "- Here we can observe that the Skew for the above distribution of `runtimeMinutes` is slightly higher which is 7.63 and the by the distribution we can infer that the data is `Positively Skewed` so we can use `Winsorization` a technique of Imputation that deals with missing data by filling the missing values with the `95th Percentile Value`."
   ]
  },
  {
   "cell_type": "code",
   "execution_count": 48,
   "id": "7878fbc0",
   "metadata": {
    "execution": {
     "iopub.execute_input": "2023-08-13T18:22:47.523653Z",
     "iopub.status.busy": "2023-08-13T18:22:47.522251Z",
     "iopub.status.idle": "2023-08-13T18:22:47.533642Z",
     "shell.execute_reply": "2023-08-13T18:22:47.532400Z"
    },
    "papermill": {
     "duration": 0.057071,
     "end_time": "2023-08-13T18:22:47.536039",
     "exception": false,
     "start_time": "2023-08-13T18:22:47.478968",
     "status": "completed"
    },
    "tags": []
   },
   "outputs": [
    {
     "name": "stdout",
     "output_type": "stream",
     "text": [
      "Value at 95th percentile: 137.0\n"
     ]
    }
   ],
   "source": [
    "# Calculate the value at the 95th percentile using Pandas\n",
    "percentile_value_runtimeMinutes = movies_data['runtimeMinutes'].quantile(0.95)\n",
    "print(\"Value at 95th percentile:\", percentile_value_runtimeMinutes)"
   ]
  },
  {
   "cell_type": "code",
   "execution_count": 49,
   "id": "02810ba2",
   "metadata": {
    "execution": {
     "iopub.execute_input": "2023-08-13T18:22:47.624121Z",
     "iopub.status.busy": "2023-08-13T18:22:47.623391Z",
     "iopub.status.idle": "2023-08-13T18:22:47.633799Z",
     "shell.execute_reply": "2023-08-13T18:22:47.632645Z"
    },
    "papermill": {
     "duration": 0.05844,
     "end_time": "2023-08-13T18:22:47.636303",
     "exception": false,
     "start_time": "2023-08-13T18:22:47.577863",
     "status": "completed"
    },
    "tags": []
   },
   "outputs": [],
   "source": [
    "imp_constant_95percentile = SimpleImputer(missing_values=np.nan, strategy='constant', fill_value=137)\n",
    "movies_data.runtimeMinutes = pd.DataFrame(imp_constant_95percentile.fit_transform(np.array(movies_data.runtimeMinutes).reshape(-1,1)))"
   ]
  },
  {
   "cell_type": "code",
   "execution_count": 50,
   "id": "46b09cc7",
   "metadata": {
    "execution": {
     "iopub.execute_input": "2023-08-13T18:22:47.722314Z",
     "iopub.status.busy": "2023-08-13T18:22:47.721821Z",
     "iopub.status.idle": "2023-08-13T18:22:47.731469Z",
     "shell.execute_reply": "2023-08-13T18:22:47.730217Z"
    },
    "papermill": {
     "duration": 0.056349,
     "end_time": "2023-08-13T18:22:47.734268",
     "exception": false,
     "start_time": "2023-08-13T18:22:47.677919",
     "status": "completed"
    },
    "tags": []
   },
   "outputs": [
    {
     "data": {
      "text/plain": [
       "0"
      ]
     },
     "execution_count": 50,
     "metadata": {},
     "output_type": "execute_result"
    }
   ],
   "source": [
    "movies_data.runtimeMinutes.isna().sum()"
   ]
  },
  {
   "cell_type": "markdown",
   "id": "70d595da",
   "metadata": {
    "papermill": {
     "duration": 0.042898,
     "end_time": "2023-08-13T18:22:47.820602",
     "exception": false,
     "start_time": "2023-08-13T18:22:47.777704",
     "status": "completed"
    },
    "tags": []
   },
   "source": [
    "- **Imputing `genre` and `originalLanguage` (Train)**"
   ]
  },
  {
   "cell_type": "code",
   "execution_count": 51,
   "id": "fd8b3a75",
   "metadata": {
    "execution": {
     "iopub.execute_input": "2023-08-13T18:22:47.908912Z",
     "iopub.status.busy": "2023-08-13T18:22:47.907778Z",
     "iopub.status.idle": "2023-08-13T18:22:48.003643Z",
     "shell.execute_reply": "2023-08-13T18:22:48.002169Z"
    },
    "papermill": {
     "duration": 0.143324,
     "end_time": "2023-08-13T18:22:48.006433",
     "exception": false,
     "start_time": "2023-08-13T18:22:47.863109",
     "status": "completed"
    },
    "tags": []
   },
   "outputs": [],
   "source": [
    "imp_mf = SimpleImputer(missing_values=np.nan, strategy='most_frequent')\n",
    "movies_data.genre = pd.DataFrame(imp_mf.fit_transform(np.array(movies_data.genre).reshape(-1,1)))\n",
    "movies_data.originalLanguage = pd.DataFrame(imp_mf.fit_transform(np.array(movies_data.originalLanguage).reshape(-1,1)))"
   ]
  },
  {
   "cell_type": "code",
   "execution_count": 52,
   "id": "67ab0dfb",
   "metadata": {
    "execution": {
     "iopub.execute_input": "2023-08-13T18:22:48.096231Z",
     "iopub.status.busy": "2023-08-13T18:22:48.095818Z",
     "iopub.status.idle": "2023-08-13T18:22:48.338621Z",
     "shell.execute_reply": "2023-08-13T18:22:48.337485Z"
    },
    "papermill": {
     "duration": 0.292035,
     "end_time": "2023-08-13T18:22:48.341982",
     "exception": false,
     "start_time": "2023-08-13T18:22:48.049947",
     "status": "completed"
    },
    "tags": []
   },
   "outputs": [
    {
     "data": {
      "text/plain": [
       "movieid                 0\n",
       "title                   0\n",
       "audienceScore           0\n",
       "releaseDateStreaming    0\n",
       "runtimeMinutes          0\n",
       "genre                   0\n",
       "originalLanguage        0\n",
       "director                0\n",
       "dtype: int64"
      ]
     },
     "execution_count": 52,
     "metadata": {},
     "output_type": "execute_result"
    }
   ],
   "source": [
    "movies_data.isna().sum()"
   ]
  },
  {
   "cell_type": "code",
   "execution_count": 53,
   "id": "71e62f6e",
   "metadata": {
    "execution": {
     "iopub.execute_input": "2023-08-13T18:22:48.434528Z",
     "iopub.status.busy": "2023-08-13T18:22:48.433124Z",
     "iopub.status.idle": "2023-08-13T18:22:48.516803Z",
     "shell.execute_reply": "2023-08-13T18:22:48.515225Z"
    },
    "papermill": {
     "duration": 0.132959,
     "end_time": "2023-08-13T18:22:48.519320",
     "exception": false,
     "start_time": "2023-08-13T18:22:48.386361",
     "status": "completed"
    },
    "tags": []
   },
   "outputs": [
    {
     "data": {
      "text/html": [
       "<div>\n",
       "<style scoped>\n",
       "    .dataframe tbody tr th:only-of-type {\n",
       "        vertical-align: middle;\n",
       "    }\n",
       "\n",
       "    .dataframe tbody tr th {\n",
       "        vertical-align: top;\n",
       "    }\n",
       "\n",
       "    .dataframe thead th {\n",
       "        text-align: right;\n",
       "    }\n",
       "</style>\n",
       "<table border=\"1\" class=\"dataframe\">\n",
       "  <thead>\n",
       "    <tr style=\"text-align: right;\">\n",
       "      <th></th>\n",
       "      <th>movieid</th>\n",
       "      <th>title</th>\n",
       "      <th>audienceScore</th>\n",
       "      <th>releaseDateStreaming</th>\n",
       "      <th>runtimeMinutes</th>\n",
       "      <th>genre</th>\n",
       "      <th>originalLanguage</th>\n",
       "      <th>director</th>\n",
       "    </tr>\n",
       "  </thead>\n",
       "  <tbody>\n",
       "    <tr>\n",
       "      <th>0</th>\n",
       "      <td>han_solo_heroic_myth_wonder_woman</td>\n",
       "      <td>Han Solo Heroic Myth Wonder Woman</td>\n",
       "      <td>50.000000</td>\n",
       "      <td>2018.0</td>\n",
       "      <td>75.0</td>\n",
       "      <td>Comedy, Horror, Sci-fi</td>\n",
       "      <td>English</td>\n",
       "      <td>Claude Nicolet</td>\n",
       "    </tr>\n",
       "    <tr>\n",
       "      <th>1</th>\n",
       "      <td>voyage_tyler_durden_han_solo_stardust</td>\n",
       "      <td>Voyage Tyler Durden Han Solo Stardust</td>\n",
       "      <td>85.236784</td>\n",
       "      <td>2020.0</td>\n",
       "      <td>114.0</td>\n",
       "      <td>Drama</td>\n",
       "      <td>English</td>\n",
       "      <td>Nathan Haack</td>\n",
       "    </tr>\n",
       "    <tr>\n",
       "      <th>2</th>\n",
       "      <td>norman_bates_ferris_bueller_hermione_granger_v...</td>\n",
       "      <td>Norman Bates Ferris Bueller Hermione Granger V...</td>\n",
       "      <td>43.000000</td>\n",
       "      <td>2017.0</td>\n",
       "      <td>120.0</td>\n",
       "      <td>Drama</td>\n",
       "      <td>Korean</td>\n",
       "      <td>Theresa Smith</td>\n",
       "    </tr>\n",
       "    <tr>\n",
       "      <th>3</th>\n",
       "      <td>elegant_hermione_granger</td>\n",
       "      <td>Elegant Hermione Granger</td>\n",
       "      <td>60.000000</td>\n",
       "      <td>2020.0</td>\n",
       "      <td>90.0</td>\n",
       "      <td>Action, Mystery &amp; thriller</td>\n",
       "      <td>English</td>\n",
       "      <td>Donald Lewis</td>\n",
       "    </tr>\n",
       "    <tr>\n",
       "      <th>4</th>\n",
       "      <td>adventure_rocky_balboa</td>\n",
       "      <td>Adventure Rocky Balboa</td>\n",
       "      <td>70.000000</td>\n",
       "      <td>2017.0</td>\n",
       "      <td>80.0</td>\n",
       "      <td>Fantasy, Adventure, Animation</td>\n",
       "      <td>English</td>\n",
       "      <td>Howard Simms</td>\n",
       "    </tr>\n",
       "    <tr>\n",
       "      <th>...</th>\n",
       "      <td>...</td>\n",
       "      <td>...</td>\n",
       "      <td>...</td>\n",
       "      <td>...</td>\n",
       "      <td>...</td>\n",
       "      <td>...</td>\n",
       "      <td>...</td>\n",
       "      <td>...</td>\n",
       "    </tr>\n",
       "    <tr>\n",
       "      <th>143252</th>\n",
       "      <td>james_bond_jason_bourne</td>\n",
       "      <td>James Bond Jason Bourne</td>\n",
       "      <td>44.761549</td>\n",
       "      <td>2019.0</td>\n",
       "      <td>131.0</td>\n",
       "      <td>Action, Mystery &amp; thriller</td>\n",
       "      <td>Hindi</td>\n",
       "      <td>Reginald Davis</td>\n",
       "    </tr>\n",
       "    <tr>\n",
       "      <th>143253</th>\n",
       "      <td>sherlock_holmes_surreal_james_bond</td>\n",
       "      <td>Sherlock Holmes Surreal James Bond</td>\n",
       "      <td>14.000000</td>\n",
       "      <td>2017.0</td>\n",
       "      <td>90.0</td>\n",
       "      <td>Action, Adventure, Anime</td>\n",
       "      <td>Japanese</td>\n",
       "      <td>William Sims</td>\n",
       "    </tr>\n",
       "    <tr>\n",
       "      <th>143254</th>\n",
       "      <td>mr._miyagi_katniss_everdeen_harmony</td>\n",
       "      <td>Mr. Miyagi Katniss Everdeen Harmony</td>\n",
       "      <td>33.733118</td>\n",
       "      <td>2017.0</td>\n",
       "      <td>99.0</td>\n",
       "      <td>Drama</td>\n",
       "      <td>English</td>\n",
       "      <td>Robert Paddock</td>\n",
       "    </tr>\n",
       "    <tr>\n",
       "      <th>143255</th>\n",
       "      <td>elegant_emerald_valiant_donnie_darko</td>\n",
       "      <td>Elegant Emerald Valiant Donnie Darko</td>\n",
       "      <td>71.000000</td>\n",
       "      <td>2017.0</td>\n",
       "      <td>43.0</td>\n",
       "      <td>Documentary</td>\n",
       "      <td>English</td>\n",
       "      <td>Roy Lovelace</td>\n",
       "    </tr>\n",
       "    <tr>\n",
       "      <th>143256</th>\n",
       "      <td>wonder_hermione_granger_hulk_v</td>\n",
       "      <td>Wonder Hermione Granger Hulk V</td>\n",
       "      <td>48.131883</td>\n",
       "      <td>2006.0</td>\n",
       "      <td>63.0</td>\n",
       "      <td>Drama</td>\n",
       "      <td>English</td>\n",
       "      <td>Dwayne Clayton</td>\n",
       "    </tr>\n",
       "  </tbody>\n",
       "</table>\n",
       "<p>126404 rows × 8 columns</p>\n",
       "</div>"
      ],
      "text/plain": [
       "                                                  movieid  \\\n",
       "0                       han_solo_heroic_myth_wonder_woman   \n",
       "1                   voyage_tyler_durden_han_solo_stardust   \n",
       "2       norman_bates_ferris_bueller_hermione_granger_v...   \n",
       "3                                elegant_hermione_granger   \n",
       "4                                  adventure_rocky_balboa   \n",
       "...                                                   ...   \n",
       "143252                            james_bond_jason_bourne   \n",
       "143253                 sherlock_holmes_surreal_james_bond   \n",
       "143254                mr._miyagi_katniss_everdeen_harmony   \n",
       "143255               elegant_emerald_valiant_donnie_darko   \n",
       "143256                     wonder_hermione_granger_hulk_v   \n",
       "\n",
       "                                                    title  audienceScore  \\\n",
       "0                       Han Solo Heroic Myth Wonder Woman      50.000000   \n",
       "1                   Voyage Tyler Durden Han Solo Stardust      85.236784   \n",
       "2       Norman Bates Ferris Bueller Hermione Granger V...      43.000000   \n",
       "3                                Elegant Hermione Granger      60.000000   \n",
       "4                                  Adventure Rocky Balboa      70.000000   \n",
       "...                                                   ...            ...   \n",
       "143252                            James Bond Jason Bourne      44.761549   \n",
       "143253                 Sherlock Holmes Surreal James Bond      14.000000   \n",
       "143254                Mr. Miyagi Katniss Everdeen Harmony      33.733118   \n",
       "143255               Elegant Emerald Valiant Donnie Darko      71.000000   \n",
       "143256                     Wonder Hermione Granger Hulk V      48.131883   \n",
       "\n",
       "        releaseDateStreaming  runtimeMinutes                          genre  \\\n",
       "0                     2018.0            75.0         Comedy, Horror, Sci-fi   \n",
       "1                     2020.0           114.0                          Drama   \n",
       "2                     2017.0           120.0                          Drama   \n",
       "3                     2020.0            90.0     Action, Mystery & thriller   \n",
       "4                     2017.0            80.0  Fantasy, Adventure, Animation   \n",
       "...                      ...             ...                            ...   \n",
       "143252                2019.0           131.0     Action, Mystery & thriller   \n",
       "143253                2017.0            90.0       Action, Adventure, Anime   \n",
       "143254                2017.0            99.0                          Drama   \n",
       "143255                2017.0            43.0                    Documentary   \n",
       "143256                2006.0            63.0                          Drama   \n",
       "\n",
       "       originalLanguage        director  \n",
       "0               English  Claude Nicolet  \n",
       "1               English    Nathan Haack  \n",
       "2                Korean   Theresa Smith  \n",
       "3               English    Donald Lewis  \n",
       "4               English    Howard Simms  \n",
       "...                 ...             ...  \n",
       "143252            Hindi  Reginald Davis  \n",
       "143253         Japanese    William Sims  \n",
       "143254          English  Robert Paddock  \n",
       "143255          English    Roy Lovelace  \n",
       "143256          English  Dwayne Clayton  \n",
       "\n",
       "[126404 rows x 8 columns]"
      ]
     },
     "execution_count": 53,
     "metadata": {},
     "output_type": "execute_result"
    }
   ],
   "source": [
    "movies_data = movies_data.drop_duplicates(subset=['movieid'], keep='first')\n",
    "movies_data"
   ]
  },
  {
   "cell_type": "code",
   "execution_count": 54,
   "id": "c999754a",
   "metadata": {
    "execution": {
     "iopub.execute_input": "2023-08-13T18:22:48.611782Z",
     "iopub.status.busy": "2023-08-13T18:22:48.611350Z",
     "iopub.status.idle": "2023-08-13T18:22:48.843176Z",
     "shell.execute_reply": "2023-08-13T18:22:48.842081Z"
    },
    "papermill": {
     "duration": 0.281047,
     "end_time": "2023-08-13T18:22:48.845860",
     "exception": false,
     "start_time": "2023-08-13T18:22:48.564813",
     "status": "completed"
    },
    "tags": []
   },
   "outputs": [
    {
     "data": {
      "text/html": [
       "<div>\n",
       "<style scoped>\n",
       "    .dataframe tbody tr th:only-of-type {\n",
       "        vertical-align: middle;\n",
       "    }\n",
       "\n",
       "    .dataframe tbody tr th {\n",
       "        vertical-align: top;\n",
       "    }\n",
       "\n",
       "    .dataframe thead th {\n",
       "        text-align: right;\n",
       "    }\n",
       "</style>\n",
       "<table border=\"1\" class=\"dataframe\">\n",
       "  <thead>\n",
       "    <tr style=\"text-align: right;\">\n",
       "      <th></th>\n",
       "      <th>movieid</th>\n",
       "      <th>reviewerName</th>\n",
       "      <th>isFrequentReviewer</th>\n",
       "      <th>reviewText</th>\n",
       "      <th>sentiment</th>\n",
       "      <th>isMissingReview</th>\n",
       "      <th>title</th>\n",
       "      <th>audienceScore</th>\n",
       "      <th>releaseDateStreaming</th>\n",
       "      <th>runtimeMinutes</th>\n",
       "      <th>genre</th>\n",
       "      <th>originalLanguage</th>\n",
       "      <th>director</th>\n",
       "    </tr>\n",
       "  </thead>\n",
       "  <tbody>\n",
       "    <tr>\n",
       "      <th>0</th>\n",
       "      <td>marvelous_pirate</td>\n",
       "      <td>Benjamin Henry</td>\n",
       "      <td>False</td>\n",
       "      <td>henri selick s first movie since s coraline hi...</td>\n",
       "      <td>POSITIVE</td>\n",
       "      <td>False</td>\n",
       "      <td>Marvelous Pirate</td>\n",
       "      <td>65.000000</td>\n",
       "      <td>2022.0</td>\n",
       "      <td>105.0</td>\n",
       "      <td>Comedy, Animation, Adventure, Fantasy</td>\n",
       "      <td>English</td>\n",
       "      <td>Bennie Basso</td>\n",
       "    </tr>\n",
       "    <tr>\n",
       "      <th>1</th>\n",
       "      <td>tony_montana_frodo_baggins_v_rocky_balboa</td>\n",
       "      <td>Felicia Lopez</td>\n",
       "      <td>False</td>\n",
       "      <td>with a cast that read like the vogue oscar par...</td>\n",
       "      <td>NEGATIVE</td>\n",
       "      <td>False</td>\n",
       "      <td>Tony Montana Frodo Baggins V Rocky Balboa</td>\n",
       "      <td>26.902689</td>\n",
       "      <td>2013.0</td>\n",
       "      <td>91.0</td>\n",
       "      <td>Action</td>\n",
       "      <td>English</td>\n",
       "      <td>Alma White</td>\n",
       "    </tr>\n",
       "    <tr>\n",
       "      <th>2</th>\n",
       "      <td>darth_vader_katniss_everdeen_sorcerer_donnie_d...</td>\n",
       "      <td>Mr. Charles Burgess</td>\n",
       "      <td>True</td>\n",
       "      <td>cree ii doe not g us anyth but another, slight...</td>\n",
       "      <td>POSITIVE</td>\n",
       "      <td>False</td>\n",
       "      <td>Darth Vader Katniss Everdeen Sorcerer Donnie D...</td>\n",
       "      <td>80.000000</td>\n",
       "      <td>2019.0</td>\n",
       "      <td>130.0</td>\n",
       "      <td>Drama</td>\n",
       "      <td>English</td>\n",
       "      <td>Bobby Oleary</td>\n",
       "    </tr>\n",
       "    <tr>\n",
       "      <th>3</th>\n",
       "      <td>lara_croft_glimmer</td>\n",
       "      <td>Ryan Barrett</td>\n",
       "      <td>False</td>\n",
       "      <td>i know what y re thinking, but thi is no limit...</td>\n",
       "      <td>POSITIVE</td>\n",
       "      <td>False</td>\n",
       "      <td>Lara Croft Glimmer</td>\n",
       "      <td>107.618519</td>\n",
       "      <td>2020.0</td>\n",
       "      <td>15.0</td>\n",
       "      <td>Drama</td>\n",
       "      <td>Spanish</td>\n",
       "      <td>Eric Hutcherson</td>\n",
       "    </tr>\n",
       "    <tr>\n",
       "      <th>4</th>\n",
       "      <td>jason_bourne_surreal_the_terminator_indiana_jones</td>\n",
       "      <td>Alexander Glover</td>\n",
       "      <td>False</td>\n",
       "      <td>director fernando meirelle tell the stori with...</td>\n",
       "      <td>POSITIVE</td>\n",
       "      <td>False</td>\n",
       "      <td>Jason Bourne Surreal The Terminator Indiana Jones</td>\n",
       "      <td>97.000000</td>\n",
       "      <td>2004.0</td>\n",
       "      <td>131.0</td>\n",
       "      <td>Crime, Drama</td>\n",
       "      <td>Portuguese (Brazil)</td>\n",
       "      <td>John Trent</td>\n",
       "    </tr>\n",
       "    <tr>\n",
       "      <th>...</th>\n",
       "      <td>...</td>\n",
       "      <td>...</td>\n",
       "      <td>...</td>\n",
       "      <td>...</td>\n",
       "      <td>...</td>\n",
       "      <td>...</td>\n",
       "      <td>...</td>\n",
       "      <td>...</td>\n",
       "      <td>...</td>\n",
       "      <td>...</td>\n",
       "      <td>...</td>\n",
       "      <td>...</td>\n",
       "      <td>...</td>\n",
       "    </tr>\n",
       "    <tr>\n",
       "      <th>162753</th>\n",
       "      <td>the_joker_ethereal_captain_jack_sparrow_fantastic</td>\n",
       "      <td>Danny Mueller</td>\n",
       "      <td>False</td>\n",
       "      <td>a top notch thrill with genuine surprise and a...</td>\n",
       "      <td>POSITIVE</td>\n",
       "      <td>False</td>\n",
       "      <td>The Joker Ethereal Captain Jack Sparrow Fantastic</td>\n",
       "      <td>52.514578</td>\n",
       "      <td>2004.0</td>\n",
       "      <td>96.0</td>\n",
       "      <td>Romance</td>\n",
       "      <td>English</td>\n",
       "      <td>Gertrude Fonner</td>\n",
       "    </tr>\n",
       "    <tr>\n",
       "      <th>162754</th>\n",
       "      <td>e.t._hannibal_lecter_vito_corleone_katniss_eve...</td>\n",
       "      <td>Jennifer Clayton</td>\n",
       "      <td>True</td>\n",
       "      <td>some people find derek zooland funni and lik a...</td>\n",
       "      <td>NEGATIVE</td>\n",
       "      <td>False</td>\n",
       "      <td>E.T. Hannibal Lecter Vito Corleone Katniss Eve...</td>\n",
       "      <td>20.000000</td>\n",
       "      <td>2016.0</td>\n",
       "      <td>102.0</td>\n",
       "      <td>Comedy, Adventure</td>\n",
       "      <td>English</td>\n",
       "      <td>Susan Oley</td>\n",
       "    </tr>\n",
       "    <tr>\n",
       "      <th>162755</th>\n",
       "      <td>infinite_enigma_luke_skywalker</td>\n",
       "      <td>Bryan Wilson</td>\n",
       "      <td>False</td>\n",
       "      <td>thi fun, gentle comedi focuse mainli on theme ...</td>\n",
       "      <td>POSITIVE</td>\n",
       "      <td>False</td>\n",
       "      <td>Infinite Enigma Luke Skywalker</td>\n",
       "      <td>78.000000</td>\n",
       "      <td>2022.0</td>\n",
       "      <td>90.0</td>\n",
       "      <td>Comedy, Drama</td>\n",
       "      <td>English</td>\n",
       "      <td>Bryant Reams</td>\n",
       "    </tr>\n",
       "    <tr>\n",
       "      <th>162756</th>\n",
       "      <td>emerald_oracle_iron_man_wolverine</td>\n",
       "      <td>Erik Parker</td>\n",
       "      <td>False</td>\n",
       "      <td>the film is rescu by a strong third act, but g...</td>\n",
       "      <td>NEGATIVE</td>\n",
       "      <td>False</td>\n",
       "      <td>Emerald Oracle Iron Man Wolverine</td>\n",
       "      <td>39.000000</td>\n",
       "      <td>1998.0</td>\n",
       "      <td>88.0</td>\n",
       "      <td>Kids &amp; family, Holiday, Comedy</td>\n",
       "      <td>English</td>\n",
       "      <td>Lisa Cruz</td>\n",
       "    </tr>\n",
       "    <tr>\n",
       "      <th>162757</th>\n",
       "      <td>james_t._kirk_phenomenal_zephyr_chronicles</td>\n",
       "      <td>Howard Evans</td>\n",
       "      <td>False</td>\n",
       "      <td>a peerless exercise in stimulu response</td>\n",
       "      <td>POSITIVE</td>\n",
       "      <td>False</td>\n",
       "      <td>James T. Kirk Phenomenal Zephyr Chronicles</td>\n",
       "      <td>57.000000</td>\n",
       "      <td>2009.0</td>\n",
       "      <td>86.0</td>\n",
       "      <td>Horror, Mystery &amp; thriller</td>\n",
       "      <td>English</td>\n",
       "      <td>Philip Stuck</td>\n",
       "    </tr>\n",
       "  </tbody>\n",
       "</table>\n",
       "<p>162758 rows × 13 columns</p>\n",
       "</div>"
      ],
      "text/plain": [
       "                                                  movieid  \\\n",
       "0                                        marvelous_pirate   \n",
       "1               tony_montana_frodo_baggins_v_rocky_balboa   \n",
       "2       darth_vader_katniss_everdeen_sorcerer_donnie_d...   \n",
       "3                                      lara_croft_glimmer   \n",
       "4       jason_bourne_surreal_the_terminator_indiana_jones   \n",
       "...                                                   ...   \n",
       "162753  the_joker_ethereal_captain_jack_sparrow_fantastic   \n",
       "162754  e.t._hannibal_lecter_vito_corleone_katniss_eve...   \n",
       "162755                     infinite_enigma_luke_skywalker   \n",
       "162756                  emerald_oracle_iron_man_wolverine   \n",
       "162757         james_t._kirk_phenomenal_zephyr_chronicles   \n",
       "\n",
       "               reviewerName  isFrequentReviewer  \\\n",
       "0            Benjamin Henry               False   \n",
       "1             Felicia Lopez               False   \n",
       "2       Mr. Charles Burgess                True   \n",
       "3              Ryan Barrett               False   \n",
       "4          Alexander Glover               False   \n",
       "...                     ...                 ...   \n",
       "162753        Danny Mueller               False   \n",
       "162754     Jennifer Clayton                True   \n",
       "162755         Bryan Wilson               False   \n",
       "162756          Erik Parker               False   \n",
       "162757         Howard Evans               False   \n",
       "\n",
       "                                               reviewText sentiment  \\\n",
       "0       henri selick s first movie since s coraline hi...  POSITIVE   \n",
       "1       with a cast that read like the vogue oscar par...  NEGATIVE   \n",
       "2       cree ii doe not g us anyth but another, slight...  POSITIVE   \n",
       "3       i know what y re thinking, but thi is no limit...  POSITIVE   \n",
       "4       director fernando meirelle tell the stori with...  POSITIVE   \n",
       "...                                                   ...       ...   \n",
       "162753  a top notch thrill with genuine surprise and a...  POSITIVE   \n",
       "162754  some people find derek zooland funni and lik a...  NEGATIVE   \n",
       "162755  thi fun, gentle comedi focuse mainli on theme ...  POSITIVE   \n",
       "162756  the film is rescu by a strong third act, but g...  NEGATIVE   \n",
       "162757            a peerless exercise in stimulu response  POSITIVE   \n",
       "\n",
       "       isMissingReview                                              title  \\\n",
       "0                False                                   Marvelous Pirate   \n",
       "1                False          Tony Montana Frodo Baggins V Rocky Balboa   \n",
       "2                False  Darth Vader Katniss Everdeen Sorcerer Donnie D...   \n",
       "3                False                                 Lara Croft Glimmer   \n",
       "4                False  Jason Bourne Surreal The Terminator Indiana Jones   \n",
       "...                ...                                                ...   \n",
       "162753           False  The Joker Ethereal Captain Jack Sparrow Fantastic   \n",
       "162754           False  E.T. Hannibal Lecter Vito Corleone Katniss Eve...   \n",
       "162755           False                     Infinite Enigma Luke Skywalker   \n",
       "162756           False                  Emerald Oracle Iron Man Wolverine   \n",
       "162757           False         James T. Kirk Phenomenal Zephyr Chronicles   \n",
       "\n",
       "        audienceScore  releaseDateStreaming  runtimeMinutes  \\\n",
       "0           65.000000                2022.0           105.0   \n",
       "1           26.902689                2013.0            91.0   \n",
       "2           80.000000                2019.0           130.0   \n",
       "3          107.618519                2020.0            15.0   \n",
       "4           97.000000                2004.0           131.0   \n",
       "...               ...                   ...             ...   \n",
       "162753      52.514578                2004.0            96.0   \n",
       "162754      20.000000                2016.0           102.0   \n",
       "162755      78.000000                2022.0            90.0   \n",
       "162756      39.000000                1998.0            88.0   \n",
       "162757      57.000000                2009.0            86.0   \n",
       "\n",
       "                                        genre     originalLanguage  \\\n",
       "0       Comedy, Animation, Adventure, Fantasy              English   \n",
       "1                                      Action              English   \n",
       "2                                       Drama              English   \n",
       "3                                       Drama              Spanish   \n",
       "4                                Crime, Drama  Portuguese (Brazil)   \n",
       "...                                       ...                  ...   \n",
       "162753                                Romance              English   \n",
       "162754                      Comedy, Adventure              English   \n",
       "162755                          Comedy, Drama              English   \n",
       "162756         Kids & family, Holiday, Comedy              English   \n",
       "162757             Horror, Mystery & thriller              English   \n",
       "\n",
       "               director  \n",
       "0          Bennie Basso  \n",
       "1            Alma White  \n",
       "2          Bobby Oleary  \n",
       "3       Eric Hutcherson  \n",
       "4            John Trent  \n",
       "...                 ...  \n",
       "162753  Gertrude Fonner  \n",
       "162754       Susan Oley  \n",
       "162755     Bryant Reams  \n",
       "162756        Lisa Cruz  \n",
       "162757     Philip Stuck  \n",
       "\n",
       "[162758 rows x 13 columns]"
      ]
     },
     "execution_count": 54,
     "metadata": {},
     "output_type": "execute_result"
    }
   ],
   "source": [
    "merged_train = pd.merge(train, movies_data, on='movieid',how='left')\n",
    "merged_train"
   ]
  },
  {
   "cell_type": "code",
   "execution_count": 55,
   "id": "a443380f",
   "metadata": {
    "execution": {
     "iopub.execute_input": "2023-08-13T18:22:48.937916Z",
     "iopub.status.busy": "2023-08-13T18:22:48.937525Z",
     "iopub.status.idle": "2023-08-13T18:22:48.951531Z",
     "shell.execute_reply": "2023-08-13T18:22:48.950470Z"
    },
    "papermill": {
     "duration": 0.065217,
     "end_time": "2023-08-13T18:22:48.955025",
     "exception": false,
     "start_time": "2023-08-13T18:22:48.889808",
     "status": "completed"
    },
    "tags": []
   },
   "outputs": [],
   "source": [
    "test = test.rename({'isTopCritic':'isFrequentReviewer'}, axis=1)"
   ]
  },
  {
   "cell_type": "code",
   "execution_count": 56,
   "id": "06f73087",
   "metadata": {
    "execution": {
     "iopub.execute_input": "2023-08-13T18:22:49.051130Z",
     "iopub.status.busy": "2023-08-13T18:22:49.050297Z",
     "iopub.status.idle": "2023-08-13T18:22:49.190008Z",
     "shell.execute_reply": "2023-08-13T18:22:49.188825Z"
    },
    "papermill": {
     "duration": 0.191643,
     "end_time": "2023-08-13T18:22:49.192502",
     "exception": false,
     "start_time": "2023-08-13T18:22:49.000859",
     "status": "completed"
    },
    "tags": []
   },
   "outputs": [
    {
     "data": {
      "text/html": [
       "<div>\n",
       "<style scoped>\n",
       "    .dataframe tbody tr th:only-of-type {\n",
       "        vertical-align: middle;\n",
       "    }\n",
       "\n",
       "    .dataframe tbody tr th {\n",
       "        vertical-align: top;\n",
       "    }\n",
       "\n",
       "    .dataframe thead th {\n",
       "        text-align: right;\n",
       "    }\n",
       "</style>\n",
       "<table border=\"1\" class=\"dataframe\">\n",
       "  <thead>\n",
       "    <tr style=\"text-align: right;\">\n",
       "      <th></th>\n",
       "      <th>movieid</th>\n",
       "      <th>reviewerName</th>\n",
       "      <th>isFrequentReviewer</th>\n",
       "      <th>reviewText</th>\n",
       "      <th>isMissingReview</th>\n",
       "      <th>title</th>\n",
       "      <th>audienceScore</th>\n",
       "      <th>releaseDateStreaming</th>\n",
       "      <th>runtimeMinutes</th>\n",
       "      <th>genre</th>\n",
       "      <th>originalLanguage</th>\n",
       "      <th>director</th>\n",
       "    </tr>\n",
       "  </thead>\n",
       "  <tbody>\n",
       "    <tr>\n",
       "      <th>0</th>\n",
       "      <td>legend_marty_mcfly_oracle</td>\n",
       "      <td>John Kim</td>\n",
       "      <td>False</td>\n",
       "      <td>green slowli crank up the dread with style and...</td>\n",
       "      <td>False</td>\n",
       "      <td>Legend Marty McFly Oracle</td>\n",
       "      <td>57.000000</td>\n",
       "      <td>2022.0</td>\n",
       "      <td>111.0</td>\n",
       "      <td>Holiday, Horror, Mystery &amp; thriller</td>\n",
       "      <td>English</td>\n",
       "      <td>Sara Barnett</td>\n",
       "    </tr>\n",
       "    <tr>\n",
       "      <th>1</th>\n",
       "      <td>terminator_katniss_everdeen_glimmer</td>\n",
       "      <td>Brian Chaney</td>\n",
       "      <td>False</td>\n",
       "      <td>philip noyce s direct is eleg and unforced, wi...</td>\n",
       "      <td>False</td>\n",
       "      <td>Terminator Katniss Everdeen Glimmer</td>\n",
       "      <td>86.000000</td>\n",
       "      <td>2003.0</td>\n",
       "      <td>94.0</td>\n",
       "      <td>Drama, Adventure</td>\n",
       "      <td>English</td>\n",
       "      <td>Cindy Flander</td>\n",
       "    </tr>\n",
       "    <tr>\n",
       "      <th>2</th>\n",
       "      <td>james_bond_labyrinth_gollum</td>\n",
       "      <td>Danielle Parker</td>\n",
       "      <td>False</td>\n",
       "      <td>it wouldn t do to say what path maria ultimate...</td>\n",
       "      <td>False</td>\n",
       "      <td>James Bond Labyrinth Gollum</td>\n",
       "      <td>62.000000</td>\n",
       "      <td>2017.0</td>\n",
       "      <td>137.0</td>\n",
       "      <td>Drama</td>\n",
       "      <td>French</td>\n",
       "      <td>Charlotte Bramble</td>\n",
       "    </tr>\n",
       "    <tr>\n",
       "      <th>3</th>\n",
       "      <td>v_quest_han_solo_wondrous</td>\n",
       "      <td>Brittany Lane</td>\n",
       "      <td>False</td>\n",
       "      <td>pig is not exactli the arthouse john wick that...</td>\n",
       "      <td>False</td>\n",
       "      <td>V Quest Han Solo Wondrous</td>\n",
       "      <td>84.000000</td>\n",
       "      <td>2021.0</td>\n",
       "      <td>92.0</td>\n",
       "      <td>Drama, Mystery &amp; thriller</td>\n",
       "      <td>English</td>\n",
       "      <td>Jean Gainer</td>\n",
       "    </tr>\n",
       "    <tr>\n",
       "      <th>4</th>\n",
       "      <td>enigma_hulk_surreal_starlight</td>\n",
       "      <td>Justin Willis</td>\n",
       "      <td>False</td>\n",
       "      <td>an imagin no budget mus of sort about male sam...</td>\n",
       "      <td>False</td>\n",
       "      <td>Enigma Hulk Surreal Starlight</td>\n",
       "      <td>46.272185</td>\n",
       "      <td>2017.0</td>\n",
       "      <td>66.0</td>\n",
       "      <td>Drama, Musical</td>\n",
       "      <td>Arabic</td>\n",
       "      <td>Marvin Short</td>\n",
       "    </tr>\n",
       "    <tr>\n",
       "      <th>...</th>\n",
       "      <td>...</td>\n",
       "      <td>...</td>\n",
       "      <td>...</td>\n",
       "      <td>...</td>\n",
       "      <td>...</td>\n",
       "      <td>...</td>\n",
       "      <td>...</td>\n",
       "      <td>...</td>\n",
       "      <td>...</td>\n",
       "      <td>...</td>\n",
       "      <td>...</td>\n",
       "      <td>...</td>\n",
       "    </tr>\n",
       "    <tr>\n",
       "      <th>55310</th>\n",
       "      <td>celestial_radiant</td>\n",
       "      <td>Jose Mccormick</td>\n",
       "      <td>False</td>\n",
       "      <td>ron howard deliv an unconve rom comedi that s ...</td>\n",
       "      <td>False</td>\n",
       "      <td>Celestial Radiant</td>\n",
       "      <td>29.000000</td>\n",
       "      <td>2011.0</td>\n",
       "      <td>111.0</td>\n",
       "      <td>Comedy</td>\n",
       "      <td>English</td>\n",
       "      <td>Jill Fraser</td>\n",
       "    </tr>\n",
       "    <tr>\n",
       "      <th>55311</th>\n",
       "      <td>vivid_james_t._kirk</td>\n",
       "      <td>Thomas Osborne</td>\n",
       "      <td>False</td>\n",
       "      <td>as an oddball art film that openli invite y to...</td>\n",
       "      <td>False</td>\n",
       "      <td>Vivid James T. Kirk</td>\n",
       "      <td>71.000000</td>\n",
       "      <td>2013.0</td>\n",
       "      <td>116.0</td>\n",
       "      <td>Comedy, Drama, Fantasy</td>\n",
       "      <td>English</td>\n",
       "      <td>Daryl Wilson</td>\n",
       "    </tr>\n",
       "    <tr>\n",
       "      <th>55312</th>\n",
       "      <td>scarlett_o'hara_neo_scarlett_o'hara_infinite</td>\n",
       "      <td>Julie Kirby</td>\n",
       "      <td>False</td>\n",
       "      <td>nicholson wear hi devilish grin from hi first ...</td>\n",
       "      <td>False</td>\n",
       "      <td>Scarlett O'Hara Neo Scarlett O'Hara Infinite</td>\n",
       "      <td>60.000000</td>\n",
       "      <td>2003.0</td>\n",
       "      <td>106.0</td>\n",
       "      <td>Comedy</td>\n",
       "      <td>English</td>\n",
       "      <td>Maria Tejada</td>\n",
       "    </tr>\n",
       "    <tr>\n",
       "      <th>55313</th>\n",
       "      <td>terminator_epic_rocky_balboa_mystic</td>\n",
       "      <td>Tina Sutton</td>\n",
       "      <td>True</td>\n",
       "      <td>it s hard not be entertain by two dozen of col...</td>\n",
       "      <td>False</td>\n",
       "      <td>Terminator Epic Rocky Balboa Mystic</td>\n",
       "      <td>65.000000</td>\n",
       "      <td>2004.0</td>\n",
       "      <td>125.0</td>\n",
       "      <td>Musical, Biography, Drama, Lgbtq+</td>\n",
       "      <td>English</td>\n",
       "      <td>Jermaine Fantasia</td>\n",
       "    </tr>\n",
       "    <tr>\n",
       "      <th>55314</th>\n",
       "      <td>wolverine_enigma_ellis_redding_gandalf</td>\n",
       "      <td>Taylor Wilcox</td>\n",
       "      <td>True</td>\n",
       "      <td>not clev enough for smith fans, not gross enou...</td>\n",
       "      <td>False</td>\n",
       "      <td>Wolverine Enigma Ellis Redding Gandalf</td>\n",
       "      <td>75.000000</td>\n",
       "      <td>2002.0</td>\n",
       "      <td>104.0</td>\n",
       "      <td>Comedy</td>\n",
       "      <td>English</td>\n",
       "      <td>Jeffrey Hogue</td>\n",
       "    </tr>\n",
       "  </tbody>\n",
       "</table>\n",
       "<p>55315 rows × 12 columns</p>\n",
       "</div>"
      ],
      "text/plain": [
       "                                            movieid     reviewerName  \\\n",
       "0                         legend_marty_mcfly_oracle         John Kim   \n",
       "1               terminator_katniss_everdeen_glimmer     Brian Chaney   \n",
       "2                       james_bond_labyrinth_gollum  Danielle Parker   \n",
       "3                         v_quest_han_solo_wondrous    Brittany Lane   \n",
       "4                     enigma_hulk_surreal_starlight    Justin Willis   \n",
       "...                                             ...              ...   \n",
       "55310                             celestial_radiant   Jose Mccormick   \n",
       "55311                           vivid_james_t._kirk   Thomas Osborne   \n",
       "55312  scarlett_o'hara_neo_scarlett_o'hara_infinite      Julie Kirby   \n",
       "55313           terminator_epic_rocky_balboa_mystic      Tina Sutton   \n",
       "55314        wolverine_enigma_ellis_redding_gandalf    Taylor Wilcox   \n",
       "\n",
       "       isFrequentReviewer                                         reviewText  \\\n",
       "0                   False  green slowli crank up the dread with style and...   \n",
       "1                   False  philip noyce s direct is eleg and unforced, wi...   \n",
       "2                   False  it wouldn t do to say what path maria ultimate...   \n",
       "3                   False  pig is not exactli the arthouse john wick that...   \n",
       "4                   False  an imagin no budget mus of sort about male sam...   \n",
       "...                   ...                                                ...   \n",
       "55310               False  ron howard deliv an unconve rom comedi that s ...   \n",
       "55311               False  as an oddball art film that openli invite y to...   \n",
       "55312               False  nicholson wear hi devilish grin from hi first ...   \n",
       "55313                True  it s hard not be entertain by two dozen of col...   \n",
       "55314                True  not clev enough for smith fans, not gross enou...   \n",
       "\n",
       "      isMissingReview                                         title  \\\n",
       "0               False                     Legend Marty McFly Oracle   \n",
       "1               False           Terminator Katniss Everdeen Glimmer   \n",
       "2               False                   James Bond Labyrinth Gollum   \n",
       "3               False                     V Quest Han Solo Wondrous   \n",
       "4               False                 Enigma Hulk Surreal Starlight   \n",
       "...               ...                                           ...   \n",
       "55310           False                             Celestial Radiant   \n",
       "55311           False                           Vivid James T. Kirk   \n",
       "55312           False  Scarlett O'Hara Neo Scarlett O'Hara Infinite   \n",
       "55313           False           Terminator Epic Rocky Balboa Mystic   \n",
       "55314           False        Wolverine Enigma Ellis Redding Gandalf   \n",
       "\n",
       "       audienceScore  releaseDateStreaming  runtimeMinutes  \\\n",
       "0          57.000000                2022.0           111.0   \n",
       "1          86.000000                2003.0            94.0   \n",
       "2          62.000000                2017.0           137.0   \n",
       "3          84.000000                2021.0            92.0   \n",
       "4          46.272185                2017.0            66.0   \n",
       "...              ...                   ...             ...   \n",
       "55310      29.000000                2011.0           111.0   \n",
       "55311      71.000000                2013.0           116.0   \n",
       "55312      60.000000                2003.0           106.0   \n",
       "55313      65.000000                2004.0           125.0   \n",
       "55314      75.000000                2002.0           104.0   \n",
       "\n",
       "                                     genre originalLanguage           director  \n",
       "0      Holiday, Horror, Mystery & thriller          English       Sara Barnett  \n",
       "1                         Drama, Adventure          English      Cindy Flander  \n",
       "2                                    Drama           French  Charlotte Bramble  \n",
       "3                Drama, Mystery & thriller          English        Jean Gainer  \n",
       "4                           Drama, Musical           Arabic       Marvin Short  \n",
       "...                                    ...              ...                ...  \n",
       "55310                               Comedy          English        Jill Fraser  \n",
       "55311               Comedy, Drama, Fantasy          English       Daryl Wilson  \n",
       "55312                               Comedy          English       Maria Tejada  \n",
       "55313    Musical, Biography, Drama, Lgbtq+          English  Jermaine Fantasia  \n",
       "55314                               Comedy          English      Jeffrey Hogue  \n",
       "\n",
       "[55315 rows x 12 columns]"
      ]
     },
     "execution_count": 56,
     "metadata": {},
     "output_type": "execute_result"
    }
   ],
   "source": [
    "merged_test = pd.merge(test, movies_data, on='movieid', how='left')\n",
    "merged_test"
   ]
  },
  {
   "cell_type": "markdown",
   "id": "e06f8924",
   "metadata": {
    "papermill": {
     "duration": 0.045395,
     "end_time": "2023-08-13T18:22:49.282688",
     "exception": false,
     "start_time": "2023-08-13T18:22:49.237293",
     "status": "completed"
    },
    "tags": []
   },
   "source": [
    "### Shapes of Train and Test Data for Model Building and Predictions "
   ]
  },
  {
   "cell_type": "code",
   "execution_count": 57,
   "id": "6d1b3583",
   "metadata": {
    "execution": {
     "iopub.execute_input": "2023-08-13T18:22:49.376031Z",
     "iopub.status.busy": "2023-08-13T18:22:49.375092Z",
     "iopub.status.idle": "2023-08-13T18:22:49.381592Z",
     "shell.execute_reply": "2023-08-13T18:22:49.379916Z"
    },
    "papermill": {
     "duration": 0.056133,
     "end_time": "2023-08-13T18:22:49.383880",
     "exception": false,
     "start_time": "2023-08-13T18:22:49.327747",
     "status": "completed"
    },
    "tags": []
   },
   "outputs": [
    {
     "name": "stdout",
     "output_type": "stream",
     "text": [
      "(162758, 13) (55315, 12)\n"
     ]
    }
   ],
   "source": [
    "print(merged_train.shape, merged_test.shape)"
   ]
  },
  {
   "cell_type": "markdown",
   "id": "1b30f1bb",
   "metadata": {
    "papermill": {
     "duration": 0.044339,
     "end_time": "2023-08-13T18:22:49.472644",
     "exception": false,
     "start_time": "2023-08-13T18:22:49.428305",
     "status": "completed"
    },
    "tags": []
   },
   "source": [
    "## Data and Label Matrix"
   ]
  },
  {
   "cell_type": "code",
   "execution_count": 58,
   "id": "b925cd70",
   "metadata": {
    "execution": {
     "iopub.execute_input": "2023-08-13T18:22:49.565050Z",
     "iopub.status.busy": "2023-08-13T18:22:49.564309Z",
     "iopub.status.idle": "2023-08-13T18:22:49.593261Z",
     "shell.execute_reply": "2023-08-13T18:22:49.592482Z"
    },
    "papermill": {
     "duration": 0.078294,
     "end_time": "2023-08-13T18:22:49.595784",
     "exception": false,
     "start_time": "2023-08-13T18:22:49.517490",
     "status": "completed"
    },
    "tags": []
   },
   "outputs": [
    {
     "data": {
      "text/plain": [
       "((162758, 12), (162758,))"
      ]
     },
     "execution_count": 58,
     "metadata": {},
     "output_type": "execute_result"
    }
   ],
   "source": [
    "X_train = merged_train.drop('sentiment', axis=1)\n",
    "y_train = merged_train.sentiment\n",
    "X_train.shape, y_train.shape"
   ]
  },
  {
   "cell_type": "code",
   "execution_count": 59,
   "id": "9987e40a",
   "metadata": {
    "execution": {
     "iopub.execute_input": "2023-08-13T18:22:49.692562Z",
     "iopub.status.busy": "2023-08-13T18:22:49.692126Z",
     "iopub.status.idle": "2023-08-13T18:22:49.699665Z",
     "shell.execute_reply": "2023-08-13T18:22:49.698376Z"
    },
    "papermill": {
     "duration": 0.058071,
     "end_time": "2023-08-13T18:22:49.702076",
     "exception": false,
     "start_time": "2023-08-13T18:22:49.644005",
     "status": "completed"
    },
    "tags": []
   },
   "outputs": [
    {
     "data": {
      "text/plain": [
       "(55315, 12)"
      ]
     },
     "execution_count": 59,
     "metadata": {},
     "output_type": "execute_result"
    }
   ],
   "source": [
    "X_test = merged_test\n",
    "X_test.shape"
   ]
  },
  {
   "cell_type": "code",
   "execution_count": 60,
   "id": "9f54287c",
   "metadata": {
    "execution": {
     "iopub.execute_input": "2023-08-13T18:22:49.794930Z",
     "iopub.status.busy": "2023-08-13T18:22:49.794552Z",
     "iopub.status.idle": "2023-08-13T18:22:49.820162Z",
     "shell.execute_reply": "2023-08-13T18:22:49.819242Z"
    },
    "papermill": {
     "duration": 0.074802,
     "end_time": "2023-08-13T18:22:49.822472",
     "exception": false,
     "start_time": "2023-08-13T18:22:49.747670",
     "status": "completed"
    },
    "tags": []
   },
   "outputs": [
    {
     "data": {
      "text/html": [
       "<div>\n",
       "<style scoped>\n",
       "    .dataframe tbody tr th:only-of-type {\n",
       "        vertical-align: middle;\n",
       "    }\n",
       "\n",
       "    .dataframe tbody tr th {\n",
       "        vertical-align: top;\n",
       "    }\n",
       "\n",
       "    .dataframe thead th {\n",
       "        text-align: right;\n",
       "    }\n",
       "</style>\n",
       "<table border=\"1\" class=\"dataframe\">\n",
       "  <thead>\n",
       "    <tr style=\"text-align: right;\">\n",
       "      <th></th>\n",
       "      <th>movieid</th>\n",
       "      <th>reviewerName</th>\n",
       "      <th>isFrequentReviewer</th>\n",
       "      <th>reviewText</th>\n",
       "      <th>isMissingReview</th>\n",
       "      <th>title</th>\n",
       "      <th>audienceScore</th>\n",
       "      <th>releaseDateStreaming</th>\n",
       "      <th>runtimeMinutes</th>\n",
       "      <th>genre</th>\n",
       "      <th>originalLanguage</th>\n",
       "      <th>director</th>\n",
       "    </tr>\n",
       "  </thead>\n",
       "  <tbody>\n",
       "    <tr>\n",
       "      <th>0</th>\n",
       "      <td>marvelous_pirate</td>\n",
       "      <td>Benjamin Henry</td>\n",
       "      <td>False</td>\n",
       "      <td>henri selick s first movie since s coraline hi...</td>\n",
       "      <td>False</td>\n",
       "      <td>Marvelous Pirate</td>\n",
       "      <td>65.000000</td>\n",
       "      <td>2022.0</td>\n",
       "      <td>105.0</td>\n",
       "      <td>Comedy, Animation, Adventure, Fantasy</td>\n",
       "      <td>English</td>\n",
       "      <td>Bennie Basso</td>\n",
       "    </tr>\n",
       "    <tr>\n",
       "      <th>1</th>\n",
       "      <td>tony_montana_frodo_baggins_v_rocky_balboa</td>\n",
       "      <td>Felicia Lopez</td>\n",
       "      <td>False</td>\n",
       "      <td>with a cast that read like the vogue oscar par...</td>\n",
       "      <td>False</td>\n",
       "      <td>Tony Montana Frodo Baggins V Rocky Balboa</td>\n",
       "      <td>26.902689</td>\n",
       "      <td>2013.0</td>\n",
       "      <td>91.0</td>\n",
       "      <td>Action</td>\n",
       "      <td>English</td>\n",
       "      <td>Alma White</td>\n",
       "    </tr>\n",
       "    <tr>\n",
       "      <th>2</th>\n",
       "      <td>darth_vader_katniss_everdeen_sorcerer_donnie_d...</td>\n",
       "      <td>Mr. Charles Burgess</td>\n",
       "      <td>True</td>\n",
       "      <td>cree ii doe not g us anyth but another, slight...</td>\n",
       "      <td>False</td>\n",
       "      <td>Darth Vader Katniss Everdeen Sorcerer Donnie D...</td>\n",
       "      <td>80.000000</td>\n",
       "      <td>2019.0</td>\n",
       "      <td>130.0</td>\n",
       "      <td>Drama</td>\n",
       "      <td>English</td>\n",
       "      <td>Bobby Oleary</td>\n",
       "    </tr>\n",
       "    <tr>\n",
       "      <th>3</th>\n",
       "      <td>lara_croft_glimmer</td>\n",
       "      <td>Ryan Barrett</td>\n",
       "      <td>False</td>\n",
       "      <td>i know what y re thinking, but thi is no limit...</td>\n",
       "      <td>False</td>\n",
       "      <td>Lara Croft Glimmer</td>\n",
       "      <td>107.618519</td>\n",
       "      <td>2020.0</td>\n",
       "      <td>15.0</td>\n",
       "      <td>Drama</td>\n",
       "      <td>Spanish</td>\n",
       "      <td>Eric Hutcherson</td>\n",
       "    </tr>\n",
       "    <tr>\n",
       "      <th>4</th>\n",
       "      <td>jason_bourne_surreal_the_terminator_indiana_jones</td>\n",
       "      <td>Alexander Glover</td>\n",
       "      <td>False</td>\n",
       "      <td>director fernando meirelle tell the stori with...</td>\n",
       "      <td>False</td>\n",
       "      <td>Jason Bourne Surreal The Terminator Indiana Jones</td>\n",
       "      <td>97.000000</td>\n",
       "      <td>2004.0</td>\n",
       "      <td>131.0</td>\n",
       "      <td>Crime, Drama</td>\n",
       "      <td>Portuguese (Brazil)</td>\n",
       "      <td>John Trent</td>\n",
       "    </tr>\n",
       "    <tr>\n",
       "      <th>...</th>\n",
       "      <td>...</td>\n",
       "      <td>...</td>\n",
       "      <td>...</td>\n",
       "      <td>...</td>\n",
       "      <td>...</td>\n",
       "      <td>...</td>\n",
       "      <td>...</td>\n",
       "      <td>...</td>\n",
       "      <td>...</td>\n",
       "      <td>...</td>\n",
       "      <td>...</td>\n",
       "      <td>...</td>\n",
       "    </tr>\n",
       "    <tr>\n",
       "      <th>162753</th>\n",
       "      <td>the_joker_ethereal_captain_jack_sparrow_fantastic</td>\n",
       "      <td>Danny Mueller</td>\n",
       "      <td>False</td>\n",
       "      <td>a top notch thrill with genuine surprise and a...</td>\n",
       "      <td>False</td>\n",
       "      <td>The Joker Ethereal Captain Jack Sparrow Fantastic</td>\n",
       "      <td>52.514578</td>\n",
       "      <td>2004.0</td>\n",
       "      <td>96.0</td>\n",
       "      <td>Romance</td>\n",
       "      <td>English</td>\n",
       "      <td>Gertrude Fonner</td>\n",
       "    </tr>\n",
       "    <tr>\n",
       "      <th>162754</th>\n",
       "      <td>e.t._hannibal_lecter_vito_corleone_katniss_eve...</td>\n",
       "      <td>Jennifer Clayton</td>\n",
       "      <td>True</td>\n",
       "      <td>some people find derek zooland funni and lik a...</td>\n",
       "      <td>False</td>\n",
       "      <td>E.T. Hannibal Lecter Vito Corleone Katniss Eve...</td>\n",
       "      <td>20.000000</td>\n",
       "      <td>2016.0</td>\n",
       "      <td>102.0</td>\n",
       "      <td>Comedy, Adventure</td>\n",
       "      <td>English</td>\n",
       "      <td>Susan Oley</td>\n",
       "    </tr>\n",
       "    <tr>\n",
       "      <th>162755</th>\n",
       "      <td>infinite_enigma_luke_skywalker</td>\n",
       "      <td>Bryan Wilson</td>\n",
       "      <td>False</td>\n",
       "      <td>thi fun, gentle comedi focuse mainli on theme ...</td>\n",
       "      <td>False</td>\n",
       "      <td>Infinite Enigma Luke Skywalker</td>\n",
       "      <td>78.000000</td>\n",
       "      <td>2022.0</td>\n",
       "      <td>90.0</td>\n",
       "      <td>Comedy, Drama</td>\n",
       "      <td>English</td>\n",
       "      <td>Bryant Reams</td>\n",
       "    </tr>\n",
       "    <tr>\n",
       "      <th>162756</th>\n",
       "      <td>emerald_oracle_iron_man_wolverine</td>\n",
       "      <td>Erik Parker</td>\n",
       "      <td>False</td>\n",
       "      <td>the film is rescu by a strong third act, but g...</td>\n",
       "      <td>False</td>\n",
       "      <td>Emerald Oracle Iron Man Wolverine</td>\n",
       "      <td>39.000000</td>\n",
       "      <td>1998.0</td>\n",
       "      <td>88.0</td>\n",
       "      <td>Kids &amp; family, Holiday, Comedy</td>\n",
       "      <td>English</td>\n",
       "      <td>Lisa Cruz</td>\n",
       "    </tr>\n",
       "    <tr>\n",
       "      <th>162757</th>\n",
       "      <td>james_t._kirk_phenomenal_zephyr_chronicles</td>\n",
       "      <td>Howard Evans</td>\n",
       "      <td>False</td>\n",
       "      <td>a peerless exercise in stimulu response</td>\n",
       "      <td>False</td>\n",
       "      <td>James T. Kirk Phenomenal Zephyr Chronicles</td>\n",
       "      <td>57.000000</td>\n",
       "      <td>2009.0</td>\n",
       "      <td>86.0</td>\n",
       "      <td>Horror, Mystery &amp; thriller</td>\n",
       "      <td>English</td>\n",
       "      <td>Philip Stuck</td>\n",
       "    </tr>\n",
       "  </tbody>\n",
       "</table>\n",
       "<p>162758 rows × 12 columns</p>\n",
       "</div>"
      ],
      "text/plain": [
       "                                                  movieid  \\\n",
       "0                                        marvelous_pirate   \n",
       "1               tony_montana_frodo_baggins_v_rocky_balboa   \n",
       "2       darth_vader_katniss_everdeen_sorcerer_donnie_d...   \n",
       "3                                      lara_croft_glimmer   \n",
       "4       jason_bourne_surreal_the_terminator_indiana_jones   \n",
       "...                                                   ...   \n",
       "162753  the_joker_ethereal_captain_jack_sparrow_fantastic   \n",
       "162754  e.t._hannibal_lecter_vito_corleone_katniss_eve...   \n",
       "162755                     infinite_enigma_luke_skywalker   \n",
       "162756                  emerald_oracle_iron_man_wolverine   \n",
       "162757         james_t._kirk_phenomenal_zephyr_chronicles   \n",
       "\n",
       "               reviewerName  isFrequentReviewer  \\\n",
       "0            Benjamin Henry               False   \n",
       "1             Felicia Lopez               False   \n",
       "2       Mr. Charles Burgess                True   \n",
       "3              Ryan Barrett               False   \n",
       "4          Alexander Glover               False   \n",
       "...                     ...                 ...   \n",
       "162753        Danny Mueller               False   \n",
       "162754     Jennifer Clayton                True   \n",
       "162755         Bryan Wilson               False   \n",
       "162756          Erik Parker               False   \n",
       "162757         Howard Evans               False   \n",
       "\n",
       "                                               reviewText isMissingReview  \\\n",
       "0       henri selick s first movie since s coraline hi...           False   \n",
       "1       with a cast that read like the vogue oscar par...           False   \n",
       "2       cree ii doe not g us anyth but another, slight...           False   \n",
       "3       i know what y re thinking, but thi is no limit...           False   \n",
       "4       director fernando meirelle tell the stori with...           False   \n",
       "...                                                   ...             ...   \n",
       "162753  a top notch thrill with genuine surprise and a...           False   \n",
       "162754  some people find derek zooland funni and lik a...           False   \n",
       "162755  thi fun, gentle comedi focuse mainli on theme ...           False   \n",
       "162756  the film is rescu by a strong third act, but g...           False   \n",
       "162757            a peerless exercise in stimulu response           False   \n",
       "\n",
       "                                                    title  audienceScore  \\\n",
       "0                                        Marvelous Pirate      65.000000   \n",
       "1               Tony Montana Frodo Baggins V Rocky Balboa      26.902689   \n",
       "2       Darth Vader Katniss Everdeen Sorcerer Donnie D...      80.000000   \n",
       "3                                      Lara Croft Glimmer     107.618519   \n",
       "4       Jason Bourne Surreal The Terminator Indiana Jones      97.000000   \n",
       "...                                                   ...            ...   \n",
       "162753  The Joker Ethereal Captain Jack Sparrow Fantastic      52.514578   \n",
       "162754  E.T. Hannibal Lecter Vito Corleone Katniss Eve...      20.000000   \n",
       "162755                     Infinite Enigma Luke Skywalker      78.000000   \n",
       "162756                  Emerald Oracle Iron Man Wolverine      39.000000   \n",
       "162757         James T. Kirk Phenomenal Zephyr Chronicles      57.000000   \n",
       "\n",
       "        releaseDateStreaming  runtimeMinutes  \\\n",
       "0                     2022.0           105.0   \n",
       "1                     2013.0            91.0   \n",
       "2                     2019.0           130.0   \n",
       "3                     2020.0            15.0   \n",
       "4                     2004.0           131.0   \n",
       "...                      ...             ...   \n",
       "162753                2004.0            96.0   \n",
       "162754                2016.0           102.0   \n",
       "162755                2022.0            90.0   \n",
       "162756                1998.0            88.0   \n",
       "162757                2009.0            86.0   \n",
       "\n",
       "                                        genre     originalLanguage  \\\n",
       "0       Comedy, Animation, Adventure, Fantasy              English   \n",
       "1                                      Action              English   \n",
       "2                                       Drama              English   \n",
       "3                                       Drama              Spanish   \n",
       "4                                Crime, Drama  Portuguese (Brazil)   \n",
       "...                                       ...                  ...   \n",
       "162753                                Romance              English   \n",
       "162754                      Comedy, Adventure              English   \n",
       "162755                          Comedy, Drama              English   \n",
       "162756         Kids & family, Holiday, Comedy              English   \n",
       "162757             Horror, Mystery & thriller              English   \n",
       "\n",
       "               director  \n",
       "0          Bennie Basso  \n",
       "1            Alma White  \n",
       "2          Bobby Oleary  \n",
       "3       Eric Hutcherson  \n",
       "4            John Trent  \n",
       "...                 ...  \n",
       "162753  Gertrude Fonner  \n",
       "162754       Susan Oley  \n",
       "162755     Bryant Reams  \n",
       "162756        Lisa Cruz  \n",
       "162757     Philip Stuck  \n",
       "\n",
       "[162758 rows x 12 columns]"
      ]
     },
     "execution_count": 60,
     "metadata": {},
     "output_type": "execute_result"
    }
   ],
   "source": [
    "X_train"
   ]
  },
  {
   "cell_type": "code",
   "execution_count": 61,
   "id": "4e5dc2e7",
   "metadata": {
    "execution": {
     "iopub.execute_input": "2023-08-13T18:22:49.917480Z",
     "iopub.status.busy": "2023-08-13T18:22:49.916525Z",
     "iopub.status.idle": "2023-08-13T18:22:49.962828Z",
     "shell.execute_reply": "2023-08-13T18:22:49.961747Z"
    },
    "papermill": {
     "duration": 0.097254,
     "end_time": "2023-08-13T18:22:49.965398",
     "exception": false,
     "start_time": "2023-08-13T18:22:49.868144",
     "status": "completed"
    },
    "tags": []
   },
   "outputs": [],
   "source": [
    "from sklearn.compose import ColumnTransformer\n",
    "from sklearn.preprocessing import OneHotEncoder, MinMaxScaler, MultiLabelBinarizer, StandardScaler\n",
    "from sklearn.feature_extraction.text import TfidfVectorizer"
   ]
  },
  {
   "cell_type": "code",
   "execution_count": 62,
   "id": "dec088dc",
   "metadata": {
    "execution": {
     "iopub.execute_input": "2023-08-13T18:22:50.062072Z",
     "iopub.status.busy": "2023-08-13T18:22:50.060971Z",
     "iopub.status.idle": "2023-08-13T18:22:50.066129Z",
     "shell.execute_reply": "2023-08-13T18:22:50.065201Z"
    },
    "papermill": {
     "duration": 0.055872,
     "end_time": "2023-08-13T18:22:50.068393",
     "exception": false,
     "start_time": "2023-08-13T18:22:50.012521",
     "status": "completed"
    },
    "tags": []
   },
   "outputs": [],
   "source": [
    "# X_train.genre = X_train.genre.map(lambda x: [i.strip() for i in x.split(\",\")])\n",
    "# X_test.genre = X_test.genre.map(lambda x: [i.strip() for i in x.split(\",\")])"
   ]
  },
  {
   "cell_type": "code",
   "execution_count": 63,
   "id": "25d9e23e",
   "metadata": {
    "execution": {
     "iopub.execute_input": "2023-08-13T18:22:50.163846Z",
     "iopub.status.busy": "2023-08-13T18:22:50.162796Z",
     "iopub.status.idle": "2023-08-13T18:22:50.167691Z",
     "shell.execute_reply": "2023-08-13T18:22:50.166692Z"
    },
    "papermill": {
     "duration": 0.055989,
     "end_time": "2023-08-13T18:22:50.170346",
     "exception": false,
     "start_time": "2023-08-13T18:22:50.114357",
     "status": "completed"
    },
    "tags": []
   },
   "outputs": [],
   "source": [
    "# mlb = MultiLabelBinarizer(sparse_output=True)"
   ]
  },
  {
   "cell_type": "code",
   "execution_count": 64,
   "id": "c214f9c2",
   "metadata": {
    "execution": {
     "iopub.execute_input": "2023-08-13T18:22:50.267555Z",
     "iopub.status.busy": "2023-08-13T18:22:50.266521Z",
     "iopub.status.idle": "2023-08-13T18:22:50.271948Z",
     "shell.execute_reply": "2023-08-13T18:22:50.270922Z"
    },
    "papermill": {
     "duration": 0.057055,
     "end_time": "2023-08-13T18:22:50.275497",
     "exception": false,
     "start_time": "2023-08-13T18:22:50.218442",
     "status": "completed"
    },
    "tags": []
   },
   "outputs": [],
   "source": [
    "# X_train_genres = mlb.fit_transform(X_train.genre)\n",
    "# X_train_genres"
   ]
  },
  {
   "cell_type": "code",
   "execution_count": 65,
   "id": "a09a7a2b",
   "metadata": {
    "execution": {
     "iopub.execute_input": "2023-08-13T18:22:50.390742Z",
     "iopub.status.busy": "2023-08-13T18:22:50.389339Z",
     "iopub.status.idle": "2023-08-13T18:22:50.394666Z",
     "shell.execute_reply": "2023-08-13T18:22:50.393456Z"
    },
    "papermill": {
     "duration": 0.061326,
     "end_time": "2023-08-13T18:22:50.396912",
     "exception": false,
     "start_time": "2023-08-13T18:22:50.335586",
     "status": "completed"
    },
    "tags": []
   },
   "outputs": [],
   "source": [
    "# X_test_genres = mlb.transform(X_test.genre)\n",
    "# X_test_genres"
   ]
  },
  {
   "cell_type": "code",
   "execution_count": 66,
   "id": "c186298b",
   "metadata": {
    "execution": {
     "iopub.execute_input": "2023-08-13T18:22:50.493023Z",
     "iopub.status.busy": "2023-08-13T18:22:50.492059Z",
     "iopub.status.idle": "2023-08-13T18:22:50.498326Z",
     "shell.execute_reply": "2023-08-13T18:22:50.497541Z"
    },
    "papermill": {
     "duration": 0.057211,
     "end_time": "2023-08-13T18:22:50.500641",
     "exception": false,
     "start_time": "2023-08-13T18:22:50.443430",
     "status": "completed"
    },
    "tags": []
   },
   "outputs": [],
   "source": [
    "ct = ColumnTransformer([\n",
    "    ('tfidf', TfidfVectorizer(stop_words = 'english', max_features=30000,ngram_range=(1,2), strip_accents='ascii'), 'reviewText'),\n",
    "    ('ohe', OneHotEncoder(handle_unknown = 'ignore'),['reviewerName', 'isFrequentReviewer', 'director', 'originalLanguage', 'title','releaseDateStreaming','genre']),\n",
    "    (\"num_preprocess\", MinMaxScaler(), ['audienceScore', 'runtimeMinutes'])\n",
    "])"
   ]
  },
  {
   "cell_type": "code",
   "execution_count": 67,
   "id": "182c00fe",
   "metadata": {
    "execution": {
     "iopub.execute_input": "2023-08-13T18:22:50.596623Z",
     "iopub.status.busy": "2023-08-13T18:22:50.595896Z",
     "iopub.status.idle": "2023-08-13T18:23:08.302115Z",
     "shell.execute_reply": "2023-08-13T18:23:08.300979Z"
    },
    "papermill": {
     "duration": 17.757551,
     "end_time": "2023-08-13T18:23:08.304934",
     "exception": false,
     "start_time": "2023-08-13T18:22:50.547383",
     "status": "completed"
    },
    "tags": []
   },
   "outputs": [],
   "source": [
    "X_train_ = ct.fit_transform(X_train)\n",
    "X_test_ = ct.transform(X_test)"
   ]
  },
  {
   "cell_type": "code",
   "execution_count": 68,
   "id": "c3ad2af0",
   "metadata": {
    "execution": {
     "iopub.execute_input": "2023-08-13T18:23:08.400230Z",
     "iopub.status.busy": "2023-08-13T18:23:08.399824Z",
     "iopub.status.idle": "2023-08-13T18:23:08.406234Z",
     "shell.execute_reply": "2023-08-13T18:23:08.405388Z"
    },
    "papermill": {
     "duration": 0.055592,
     "end_time": "2023-08-13T18:23:08.408302",
     "exception": false,
     "start_time": "2023-08-13T18:23:08.352710",
     "status": "completed"
    },
    "tags": []
   },
   "outputs": [
    {
     "data": {
      "text/plain": [
       "<162758x62060 sparse matrix of type '<class 'numpy.float64'>'\n",
       "\twith 3529051 stored elements in Compressed Sparse Row format>"
      ]
     },
     "execution_count": 68,
     "metadata": {},
     "output_type": "execute_result"
    }
   ],
   "source": [
    "X_train_"
   ]
  },
  {
   "cell_type": "code",
   "execution_count": 69,
   "id": "3b7f98ca",
   "metadata": {
    "execution": {
     "iopub.execute_input": "2023-08-13T18:23:08.503668Z",
     "iopub.status.busy": "2023-08-13T18:23:08.502963Z",
     "iopub.status.idle": "2023-08-13T18:23:08.508766Z",
     "shell.execute_reply": "2023-08-13T18:23:08.507961Z"
    },
    "papermill": {
     "duration": 0.056592,
     "end_time": "2023-08-13T18:23:08.511080",
     "exception": false,
     "start_time": "2023-08-13T18:23:08.454488",
     "status": "completed"
    },
    "tags": []
   },
   "outputs": [
    {
     "data": {
      "text/plain": [
       "<55315x62060 sparse matrix of type '<class 'numpy.float64'>'\n",
       "\twith 1184263 stored elements in Compressed Sparse Row format>"
      ]
     },
     "execution_count": 69,
     "metadata": {},
     "output_type": "execute_result"
    }
   ],
   "source": [
    "X_test_"
   ]
  },
  {
   "cell_type": "code",
   "execution_count": 70,
   "id": "c412dcaa",
   "metadata": {
    "execution": {
     "iopub.execute_input": "2023-08-13T18:23:08.607337Z",
     "iopub.status.busy": "2023-08-13T18:23:08.606721Z",
     "iopub.status.idle": "2023-08-13T18:23:08.611075Z",
     "shell.execute_reply": "2023-08-13T18:23:08.609798Z"
    },
    "papermill": {
     "duration": 0.055855,
     "end_time": "2023-08-13T18:23:08.614011",
     "exception": false,
     "start_time": "2023-08-13T18:23:08.558156",
     "status": "completed"
    },
    "tags": []
   },
   "outputs": [],
   "source": [
    "# from scipy.sparse import hstack\n",
    "# X_train_ = hstack((X_train_, X_train_genres))\n",
    "# X_test_ = hstack((X_test_, X_test_genres))"
   ]
  },
  {
   "cell_type": "code",
   "execution_count": 71,
   "id": "9e204bfa",
   "metadata": {
    "execution": {
     "iopub.execute_input": "2023-08-13T18:23:08.710762Z",
     "iopub.status.busy": "2023-08-13T18:23:08.710047Z",
     "iopub.status.idle": "2023-08-13T18:23:08.715909Z",
     "shell.execute_reply": "2023-08-13T18:23:08.715005Z"
    },
    "papermill": {
     "duration": 0.05719,
     "end_time": "2023-08-13T18:23:08.718993",
     "exception": false,
     "start_time": "2023-08-13T18:23:08.661803",
     "status": "completed"
    },
    "tags": []
   },
   "outputs": [
    {
     "data": {
      "text/plain": [
       "(<162758x62060 sparse matrix of type '<class 'numpy.float64'>'\n",
       " \twith 3529051 stored elements in Compressed Sparse Row format>,\n",
       " <55315x62060 sparse matrix of type '<class 'numpy.float64'>'\n",
       " \twith 1184263 stored elements in Compressed Sparse Row format>)"
      ]
     },
     "execution_count": 71,
     "metadata": {},
     "output_type": "execute_result"
    }
   ],
   "source": [
    "X_train_, X_test_"
   ]
  },
  {
   "cell_type": "code",
   "execution_count": 72,
   "id": "3d964988",
   "metadata": {
    "execution": {
     "iopub.execute_input": "2023-08-13T18:23:08.815635Z",
     "iopub.status.busy": "2023-08-13T18:23:08.815227Z",
     "iopub.status.idle": "2023-08-13T18:23:08.819835Z",
     "shell.execute_reply": "2023-08-13T18:23:08.818721Z"
    },
    "papermill": {
     "duration": 0.055412,
     "end_time": "2023-08-13T18:23:08.822256",
     "exception": false,
     "start_time": "2023-08-13T18:23:08.766844",
     "status": "completed"
    },
    "tags": []
   },
   "outputs": [],
   "source": [
    "# from sklearn.model_selection import train_test_split as tts\n",
    "# X_train_, X_test_, y_train, y_test = tts(X_train_,y_train,test_size=0.2,random_state=42)"
   ]
  },
  {
   "cell_type": "markdown",
   "id": "53b923f1",
   "metadata": {
    "papermill": {
     "duration": 0.046375,
     "end_time": "2023-08-13T18:23:08.915461",
     "exception": false,
     "start_time": "2023-08-13T18:23:08.869086",
     "status": "completed"
    },
    "tags": []
   },
   "source": [
    "# **Models**"
   ]
  },
  {
   "cell_type": "code",
   "execution_count": 73,
   "id": "a69b4798",
   "metadata": {
    "execution": {
     "iopub.execute_input": "2023-08-13T18:23:09.015845Z",
     "iopub.status.busy": "2023-08-13T18:23:09.015393Z",
     "iopub.status.idle": "2023-08-13T18:23:09.023653Z",
     "shell.execute_reply": "2023-08-13T18:23:09.022133Z"
    },
    "papermill": {
     "duration": 0.062263,
     "end_time": "2023-08-13T18:23:09.026159",
     "exception": false,
     "start_time": "2023-08-13T18:23:08.963896",
     "status": "completed"
    },
    "tags": []
   },
   "outputs": [],
   "source": [
    "def apply(model):\n",
    "    model.fit(X_train_, y_train)\n",
    "    predicted_test = model.predict(X_test_)\n",
    "    predicted_train = model.predict(X_train_)\n",
    "    try:\n",
    "        print(\"Train:\\n\",classification_report(y_train, predicted_train))\n",
    "        print(\"Test:\\n\",classification_report(y_test, predicted_test))\n",
    "        print(\"Train:\",f1_score(y_train, predicted_train, average='micro'))\n",
    "        print(\"Test:\",f1_score(y_test, predicted_test, average='micro'))\n",
    "    except Exception as e:\n",
    "        print(e)\n",
    "        pass\n",
    "    return predicted_test"
   ]
  },
  {
   "cell_type": "markdown",
   "id": "5cf556eb",
   "metadata": {
    "papermill": {
     "duration": 0.046642,
     "end_time": "2023-08-13T18:23:09.119825",
     "exception": false,
     "start_time": "2023-08-13T18:23:09.073183",
     "status": "completed"
    },
    "tags": []
   },
   "source": [
    "## **1. LogisticRegression**"
   ]
  },
  {
   "cell_type": "code",
   "execution_count": 74,
   "id": "92268499",
   "metadata": {
    "execution": {
     "iopub.execute_input": "2023-08-13T18:23:09.218739Z",
     "iopub.status.busy": "2023-08-13T18:23:09.217288Z",
     "iopub.status.idle": "2023-08-13T18:23:09.223399Z",
     "shell.execute_reply": "2023-08-13T18:23:09.222468Z"
    },
    "papermill": {
     "duration": 0.058669,
     "end_time": "2023-08-13T18:23:09.226006",
     "exception": false,
     "start_time": "2023-08-13T18:23:09.167337",
     "status": "completed"
    },
    "tags": []
   },
   "outputs": [],
   "source": [
    "from sklearn.linear_model import LogisticRegression"
   ]
  },
  {
   "cell_type": "code",
   "execution_count": 75,
   "id": "45e2ce94",
   "metadata": {
    "execution": {
     "iopub.execute_input": "2023-08-13T18:23:09.324380Z",
     "iopub.status.busy": "2023-08-13T18:23:09.323104Z",
     "iopub.status.idle": "2023-08-13T18:23:09.329248Z",
     "shell.execute_reply": "2023-08-13T18:23:09.327960Z"
    },
    "papermill": {
     "duration": 0.0587,
     "end_time": "2023-08-13T18:23:09.332141",
     "exception": false,
     "start_time": "2023-08-13T18:23:09.273441",
     "status": "completed"
    },
    "tags": []
   },
   "outputs": [],
   "source": [
    "logreg = LogisticRegression(C=1, n_jobs=-1, solver='saga', random_state=69)"
   ]
  },
  {
   "cell_type": "code",
   "execution_count": 76,
   "id": "b06af606",
   "metadata": {
    "execution": {
     "iopub.execute_input": "2023-08-13T18:23:09.429163Z",
     "iopub.status.busy": "2023-08-13T18:23:09.428789Z",
     "iopub.status.idle": "2023-08-13T18:23:09.433096Z",
     "shell.execute_reply": "2023-08-13T18:23:09.431970Z"
    },
    "papermill": {
     "duration": 0.055327,
     "end_time": "2023-08-13T18:23:09.435607",
     "exception": false,
     "start_time": "2023-08-13T18:23:09.380280",
     "status": "completed"
    },
    "tags": []
   },
   "outputs": [],
   "source": [
    "# apply(logreg)"
   ]
  },
  {
   "cell_type": "markdown",
   "id": "1ac127f0",
   "metadata": {
    "papermill": {
     "duration": 0.046675,
     "end_time": "2023-08-13T18:23:09.529587",
     "exception": false,
     "start_time": "2023-08-13T18:23:09.482912",
     "status": "completed"
    },
    "tags": []
   },
   "source": [
    "## **2. LinearSVC**"
   ]
  },
  {
   "cell_type": "code",
   "execution_count": 77,
   "id": "9c789101",
   "metadata": {
    "execution": {
     "iopub.execute_input": "2023-08-13T18:23:09.626650Z",
     "iopub.status.busy": "2023-08-13T18:23:09.626233Z",
     "iopub.status.idle": "2023-08-13T18:23:09.631188Z",
     "shell.execute_reply": "2023-08-13T18:23:09.630006Z"
    },
    "papermill": {
     "duration": 0.05716,
     "end_time": "2023-08-13T18:23:09.633716",
     "exception": false,
     "start_time": "2023-08-13T18:23:09.576556",
     "status": "completed"
    },
    "tags": []
   },
   "outputs": [],
   "source": [
    "from sklearn.svm import LinearSVC"
   ]
  },
  {
   "cell_type": "code",
   "execution_count": 78,
   "id": "caa9a6de",
   "metadata": {
    "execution": {
     "iopub.execute_input": "2023-08-13T18:23:09.732778Z",
     "iopub.status.busy": "2023-08-13T18:23:09.732352Z",
     "iopub.status.idle": "2023-08-13T18:23:09.737370Z",
     "shell.execute_reply": "2023-08-13T18:23:09.736329Z"
    },
    "papermill": {
     "duration": 0.05813,
     "end_time": "2023-08-13T18:23:09.739488",
     "exception": false,
     "start_time": "2023-08-13T18:23:09.681358",
     "status": "completed"
    },
    "tags": []
   },
   "outputs": [],
   "source": [
    "lsvc = LinearSVC(penalty = 'l2', loss= 'squared_hinge', C=1,random_state=69)"
   ]
  },
  {
   "cell_type": "code",
   "execution_count": 79,
   "id": "31954799",
   "metadata": {
    "execution": {
     "iopub.execute_input": "2023-08-13T18:23:09.836771Z",
     "iopub.status.busy": "2023-08-13T18:23:09.836356Z",
     "iopub.status.idle": "2023-08-13T18:23:09.841059Z",
     "shell.execute_reply": "2023-08-13T18:23:09.839829Z"
    },
    "papermill": {
     "duration": 0.056142,
     "end_time": "2023-08-13T18:23:09.843267",
     "exception": false,
     "start_time": "2023-08-13T18:23:09.787125",
     "status": "completed"
    },
    "tags": []
   },
   "outputs": [],
   "source": [
    "# apply(lsvc)"
   ]
  },
  {
   "cell_type": "markdown",
   "id": "c391cd19",
   "metadata": {
    "papermill": {
     "duration": 0.046914,
     "end_time": "2023-08-13T18:23:09.937067",
     "exception": false,
     "start_time": "2023-08-13T18:23:09.890153",
     "status": "completed"
    },
    "tags": []
   },
   "source": [
    "## **3. XGBoost Classifier**"
   ]
  },
  {
   "cell_type": "code",
   "execution_count": 80,
   "id": "808b0102",
   "metadata": {
    "execution": {
     "iopub.execute_input": "2023-08-13T18:23:10.035377Z",
     "iopub.status.busy": "2023-08-13T18:23:10.034998Z",
     "iopub.status.idle": "2023-08-13T18:23:10.039872Z",
     "shell.execute_reply": "2023-08-13T18:23:10.038725Z"
    },
    "papermill": {
     "duration": 0.057301,
     "end_time": "2023-08-13T18:23:10.042194",
     "exception": false,
     "start_time": "2023-08-13T18:23:09.984893",
     "status": "completed"
    },
    "tags": []
   },
   "outputs": [],
   "source": [
    "from xgboost import XGBClassifier"
   ]
  },
  {
   "cell_type": "code",
   "execution_count": 81,
   "id": "3f49d3a0",
   "metadata": {
    "execution": {
     "iopub.execute_input": "2023-08-13T18:23:10.138723Z",
     "iopub.status.busy": "2023-08-13T18:23:10.138299Z",
     "iopub.status.idle": "2023-08-13T18:23:10.143088Z",
     "shell.execute_reply": "2023-08-13T18:23:10.141831Z"
    },
    "papermill": {
     "duration": 0.056354,
     "end_time": "2023-08-13T18:23:10.145644",
     "exception": false,
     "start_time": "2023-08-13T18:23:10.089290",
     "status": "completed"
    },
    "tags": []
   },
   "outputs": [],
   "source": [
    "# from sklearn.preprocessing import LabelEncoder\n",
    "# le = LabelEncoder()\n",
    "# y_train_enc = le.fit_transform(y_train)\n",
    "# y_test_enc = le.fit_transform(y_test)"
   ]
  },
  {
   "cell_type": "code",
   "execution_count": 82,
   "id": "0c553664",
   "metadata": {
    "execution": {
     "iopub.execute_input": "2023-08-13T18:23:10.327503Z",
     "iopub.status.busy": "2023-08-13T18:23:10.327080Z",
     "iopub.status.idle": "2023-08-13T18:23:10.332940Z",
     "shell.execute_reply": "2023-08-13T18:23:10.331380Z"
    },
    "papermill": {
     "duration": 0.071556,
     "end_time": "2023-08-13T18:23:10.335608",
     "exception": false,
     "start_time": "2023-08-13T18:23:10.264052",
     "status": "completed"
    },
    "tags": []
   },
   "outputs": [],
   "source": [
    "xgb = XGBClassifier()"
   ]
  },
  {
   "cell_type": "code",
   "execution_count": 83,
   "id": "e56ae8c6",
   "metadata": {
    "execution": {
     "iopub.execute_input": "2023-08-13T18:23:10.441909Z",
     "iopub.status.busy": "2023-08-13T18:23:10.441531Z",
     "iopub.status.idle": "2023-08-13T18:23:10.446033Z",
     "shell.execute_reply": "2023-08-13T18:23:10.444895Z"
    },
    "papermill": {
     "duration": 0.055949,
     "end_time": "2023-08-13T18:23:10.448532",
     "exception": false,
     "start_time": "2023-08-13T18:23:10.392583",
     "status": "completed"
    },
    "tags": []
   },
   "outputs": [],
   "source": [
    "# param_grid = {\n",
    "#     'n_estimators': [100, 200, 300],\n",
    "#     'max_depth': [3, 4, 5],\n",
    "#     'learning_rate': [0.1, 0.2, 0.3],\n",
    "#     'subsample': [0.8, 0.9],\n",
    "#     'colsample_bytree': [0.8, 0.9],\n",
    "#     'min_child_weight': [1, 3, 5],\n",
    "#     'gamma': [0, 0.1, 0.2]\n",
    "# }\n",
    "\n",
    "# random_search = RandomizedSearchCV(xgb, param_distributions=param_grid, n_iter=10,scoring='f1_micro', cv=3, verbose=2, random_state=42)"
   ]
  },
  {
   "cell_type": "markdown",
   "id": "62f62d4a",
   "metadata": {
    "papermill": {
     "duration": 0.047737,
     "end_time": "2023-08-13T18:23:10.544520",
     "exception": false,
     "start_time": "2023-08-13T18:23:10.496783",
     "status": "completed"
    },
    "tags": []
   },
   "source": [
    "## **4. Stacking Classifier**"
   ]
  },
  {
   "cell_type": "code",
   "execution_count": 84,
   "id": "ab3b96d7",
   "metadata": {
    "execution": {
     "iopub.execute_input": "2023-08-13T18:23:10.643603Z",
     "iopub.status.busy": "2023-08-13T18:23:10.643193Z",
     "iopub.status.idle": "2023-08-13T18:23:10.832969Z",
     "shell.execute_reply": "2023-08-13T18:23:10.831884Z"
    },
    "papermill": {
     "duration": 0.243417,
     "end_time": "2023-08-13T18:23:10.836271",
     "exception": false,
     "start_time": "2023-08-13T18:23:10.592854",
     "status": "completed"
    },
    "tags": []
   },
   "outputs": [],
   "source": [
    "from sklearn.ensemble import StackingClassifier\n",
    "from sklearn.naive_bayes import MultinomialNB"
   ]
  },
  {
   "cell_type": "code",
   "execution_count": 85,
   "id": "687a66bf",
   "metadata": {
    "execution": {
     "iopub.execute_input": "2023-08-13T18:23:10.934285Z",
     "iopub.status.busy": "2023-08-13T18:23:10.933882Z",
     "iopub.status.idle": "2023-08-13T18:23:10.939814Z",
     "shell.execute_reply": "2023-08-13T18:23:10.938821Z"
    },
    "papermill": {
     "duration": 0.057547,
     "end_time": "2023-08-13T18:23:10.942175",
     "exception": false,
     "start_time": "2023-08-13T18:23:10.884628",
     "status": "completed"
    },
    "tags": []
   },
   "outputs": [],
   "source": [
    "estimators = [\n",
    "    ('lsvc', LinearSVC(penalty = 'l2', loss= 'squared_hinge', C=1,random_state=69)),\n",
    "    ('xgb', XGBClassifier(n_estimators = 200)),\n",
    "    ('mnb', MultinomialNB())\n",
    "]"
   ]
  },
  {
   "cell_type": "code",
   "execution_count": 86,
   "id": "6e6aeaf4",
   "metadata": {
    "execution": {
     "iopub.execute_input": "2023-08-13T18:23:11.042657Z",
     "iopub.status.busy": "2023-08-13T18:23:11.042247Z",
     "iopub.status.idle": "2023-08-13T18:23:11.047217Z",
     "shell.execute_reply": "2023-08-13T18:23:11.046365Z"
    },
    "papermill": {
     "duration": 0.058699,
     "end_time": "2023-08-13T18:23:11.049547",
     "exception": false,
     "start_time": "2023-08-13T18:23:10.990848",
     "status": "completed"
    },
    "tags": []
   },
   "outputs": [],
   "source": [
    "st_clf = StackingClassifier(\n",
    "    estimators=estimators, final_estimator = LogisticRegression(C=1, n_jobs=-1, solver='saga', random_state=69), n_jobs=-1\n",
    ")"
   ]
  },
  {
   "cell_type": "code",
   "execution_count": 87,
   "id": "eec419eb",
   "metadata": {
    "execution": {
     "iopub.execute_input": "2023-08-13T18:23:11.149338Z",
     "iopub.status.busy": "2023-08-13T18:23:11.148952Z",
     "iopub.status.idle": "2023-08-13T18:23:11.154550Z",
     "shell.execute_reply": "2023-08-13T18:23:11.153455Z"
    },
    "papermill": {
     "duration": 0.058399,
     "end_time": "2023-08-13T18:23:11.157093",
     "exception": false,
     "start_time": "2023-08-13T18:23:11.098694",
     "status": "completed"
    },
    "tags": []
   },
   "outputs": [
    {
     "name": "stdout",
     "output_type": "stream",
     "text": [
      "Stacking Classifier\n"
     ]
    }
   ],
   "source": [
    "print(\"Stacking Classifier\")"
   ]
  },
  {
   "cell_type": "code",
   "execution_count": 88,
   "id": "4c8e51b4",
   "metadata": {
    "execution": {
     "iopub.execute_input": "2023-08-13T18:23:11.256239Z",
     "iopub.status.busy": "2023-08-13T18:23:11.255825Z",
     "iopub.status.idle": "2023-08-13T18:35:27.955737Z",
     "shell.execute_reply": "2023-08-13T18:35:27.954243Z"
    },
    "papermill": {
     "duration": 736.800863,
     "end_time": "2023-08-13T18:35:28.007146",
     "exception": false,
     "start_time": "2023-08-13T18:23:11.206283",
     "status": "completed"
    },
    "tags": []
   },
   "outputs": [
    {
     "name": "stdout",
     "output_type": "stream",
     "text": [
      "Train:\n",
      "               precision    recall  f1-score   support\n",
      "\n",
      "    NEGATIVE       0.89      0.80      0.84     53997\n",
      "    POSITIVE       0.90      0.95      0.93    108761\n",
      "\n",
      "    accuracy                           0.90    162758\n",
      "   macro avg       0.90      0.87      0.88    162758\n",
      "weighted avg       0.90      0.90      0.90    162758\n",
      "\n",
      "name 'y_test' is not defined\n"
     ]
    }
   ],
   "source": [
    "predicted_stack = apply(st_clf)"
   ]
  },
  {
   "cell_type": "markdown",
   "id": "cb54f403",
   "metadata": {
    "papermill": {
     "duration": 0.04841,
     "end_time": "2023-08-13T18:35:28.105465",
     "exception": false,
     "start_time": "2023-08-13T18:35:28.057055",
     "status": "completed"
    },
    "tags": []
   },
   "source": [
    "## **Submission File**"
   ]
  },
  {
   "cell_type": "code",
   "execution_count": 89,
   "id": "bbca88bf",
   "metadata": {
    "execution": {
     "iopub.execute_input": "2023-08-13T18:35:28.206066Z",
     "iopub.status.busy": "2023-08-13T18:35:28.205663Z",
     "iopub.status.idle": "2023-08-13T18:35:28.458690Z",
     "shell.execute_reply": "2023-08-13T18:35:28.457821Z"
    },
    "papermill": {
     "duration": 0.306504,
     "end_time": "2023-08-13T18:35:28.461081",
     "exception": false,
     "start_time": "2023-08-13T18:35:28.154577",
     "status": "completed"
    },
    "tags": []
   },
   "outputs": [
    {
     "data": {
      "text/html": [
       "<div>\n",
       "<style scoped>\n",
       "    .dataframe tbody tr th:only-of-type {\n",
       "        vertical-align: middle;\n",
       "    }\n",
       "\n",
       "    .dataframe tbody tr th {\n",
       "        vertical-align: top;\n",
       "    }\n",
       "\n",
       "    .dataframe thead th {\n",
       "        text-align: right;\n",
       "    }\n",
       "</style>\n",
       "<table border=\"1\" class=\"dataframe\">\n",
       "  <thead>\n",
       "    <tr style=\"text-align: right;\">\n",
       "      <th></th>\n",
       "      <th>id</th>\n",
       "      <th>sentiment</th>\n",
       "    </tr>\n",
       "  </thead>\n",
       "  <tbody>\n",
       "    <tr>\n",
       "      <th>0</th>\n",
       "      <td>0</td>\n",
       "      <td>POSITIVE</td>\n",
       "    </tr>\n",
       "    <tr>\n",
       "      <th>1</th>\n",
       "      <td>1</td>\n",
       "      <td>POSITIVE</td>\n",
       "    </tr>\n",
       "    <tr>\n",
       "      <th>2</th>\n",
       "      <td>2</td>\n",
       "      <td>POSITIVE</td>\n",
       "    </tr>\n",
       "    <tr>\n",
       "      <th>3</th>\n",
       "      <td>3</td>\n",
       "      <td>POSITIVE</td>\n",
       "    </tr>\n",
       "    <tr>\n",
       "      <th>4</th>\n",
       "      <td>4</td>\n",
       "      <td>POSITIVE</td>\n",
       "    </tr>\n",
       "    <tr>\n",
       "      <th>...</th>\n",
       "      <td>...</td>\n",
       "      <td>...</td>\n",
       "    </tr>\n",
       "    <tr>\n",
       "      <th>55310</th>\n",
       "      <td>55310</td>\n",
       "      <td>POSITIVE</td>\n",
       "    </tr>\n",
       "    <tr>\n",
       "      <th>55311</th>\n",
       "      <td>55311</td>\n",
       "      <td>POSITIVE</td>\n",
       "    </tr>\n",
       "    <tr>\n",
       "      <th>55312</th>\n",
       "      <td>55312</td>\n",
       "      <td>POSITIVE</td>\n",
       "    </tr>\n",
       "    <tr>\n",
       "      <th>55313</th>\n",
       "      <td>55313</td>\n",
       "      <td>POSITIVE</td>\n",
       "    </tr>\n",
       "    <tr>\n",
       "      <th>55314</th>\n",
       "      <td>55314</td>\n",
       "      <td>NEGATIVE</td>\n",
       "    </tr>\n",
       "  </tbody>\n",
       "</table>\n",
       "<p>55315 rows × 2 columns</p>\n",
       "</div>"
      ],
      "text/plain": [
       "          id sentiment\n",
       "0          0  POSITIVE\n",
       "1          1  POSITIVE\n",
       "2          2  POSITIVE\n",
       "3          3  POSITIVE\n",
       "4          4  POSITIVE\n",
       "...      ...       ...\n",
       "55310  55310  POSITIVE\n",
       "55311  55311  POSITIVE\n",
       "55312  55312  POSITIVE\n",
       "55313  55313  POSITIVE\n",
       "55314  55314  NEGATIVE\n",
       "\n",
       "[55315 rows x 2 columns]"
      ]
     },
     "execution_count": 89,
     "metadata": {},
     "output_type": "execute_result"
    }
   ],
   "source": [
    "submission = pd.DataFrame(columns=['id','sentiment'])\n",
    "submission['id'] = [i for i in range(len(predicted_stack))]\n",
    "submission['sentiment'] = pd.DataFrame(predicted_stack)\n",
    "submission.to_csv(\"submission.csv\", index=False)\n",
    "submission"
   ]
  }
 ],
 "metadata": {
  "kernelspec": {
   "display_name": "Python 3",
   "language": "python",
   "name": "python3"
  },
  "language_info": {
   "codemirror_mode": {
    "name": "ipython",
    "version": 3
   },
   "file_extension": ".py",
   "mimetype": "text/x-python",
   "name": "python",
   "nbconvert_exporter": "python",
   "pygments_lexer": "ipython3",
   "version": "3.10.10"
  },
  "papermill": {
   "default_parameters": {},
   "duration": 846.915998,
   "end_time": "2023-08-13T18:35:31.136682",
   "environment_variables": {},
   "exception": null,
   "input_path": "__notebook__.ipynb",
   "output_path": "__notebook__.ipynb",
   "parameters": {},
   "start_time": "2023-08-13T18:21:24.220684",
   "version": "2.4.0"
  }
 },
 "nbformat": 4,
 "nbformat_minor": 5
}
